{
 "cells": [
  {
   "cell_type": "code",
   "execution_count": 2,
   "metadata": {},
   "outputs": [],
   "source": [
    "import numpy as np"
   ]
  },
  {
   "cell_type": "markdown",
   "metadata": {},
   "source": [
    "## numpy描述矩阵的属性"
   ]
  },
  {
   "cell_type": "code",
   "execution_count": 3,
   "metadata": {},
   "outputs": [
    {
     "name": "stdout",
     "output_type": "stream",
     "text": [
      "[[1 2 3]\n",
      " [4 5 6]]\n"
     ]
    }
   ],
   "source": [
    "array = np.array([[1,2,3], [4,5,6]])\n",
    "print(array)"
   ]
  },
  {
   "cell_type": "code",
   "execution_count": 7,
   "metadata": {},
   "outputs": [
    {
     "name": "stdout",
     "output_type": "stream",
     "text": [
      "2\n",
      "(2, 3)\n",
      "6\n"
     ]
    }
   ],
   "source": [
    "print(array.ndim)\n",
    "print(array.shape)  # 形状\n",
    "print(array.size)"
   ]
  },
  {
   "cell_type": "markdown",
   "metadata": {},
   "source": [
    "## 创建array"
   ]
  },
  {
   "cell_type": "markdown",
   "metadata": {},
   "source": [
    "### 创建一维数组"
   ]
  },
  {
   "cell_type": "code",
   "execution_count": 11,
   "metadata": {},
   "outputs": [],
   "source": [
    "a = np.array([2,23,4], dtype=np.int32)  # 数据初始化array,可声明dtype的类型，常用int,float\n",
    "print(a.dtype)"
   ]
  },
  {
   "cell_type": "markdown",
   "metadata": {},
   "source": [
    "### 创建二维(eg: 矩阵)"
   ]
  },
  {
   "cell_type": "code",
   "execution_count": 13,
   "metadata": {},
   "outputs": [
    {
     "name": "stdout",
     "output_type": "stream",
     "text": [
      "[[ 2 23  4]\n",
      " [ 3  4  5]]\n"
     ]
    }
   ],
   "source": [
    "a = np.array([[2,23,4], [3,4,5]])\n",
    "print(a)"
   ]
  },
  {
   "cell_type": "code",
   "execution_count": 15,
   "metadata": {},
   "outputs": [
    {
     "name": "stdout",
     "output_type": "stream",
     "text": [
      "[[0. 0. 0. 0.]\n",
      " [0. 0. 0. 0.]\n",
      " [0. 0. 0. 0.]]\n"
     ]
    }
   ],
   "source": [
    "a = np.zeros((3,4)) # 创建全部为0的3行4列的数据\n",
    "print(a)"
   ]
  },
  {
   "cell_type": "code",
   "execution_count": 16,
   "metadata": {},
   "outputs": [
    {
     "name": "stdout",
     "output_type": "stream",
     "text": [
      "[[1. 1. 1. 1.]\n",
      " [1. 1. 1. 1.]\n",
      " [1. 1. 1. 1.]]\n"
     ]
    }
   ],
   "source": [
    "a = np.ones((3,4)) # 创建全部为1的3行4列的数据\n",
    "print(a)"
   ]
  },
  {
   "cell_type": "code",
   "execution_count": 17,
   "metadata": {},
   "outputs": [
    {
     "name": "stdout",
     "output_type": "stream",
     "text": [
      "[[1. 1. 1. 1.]\n",
      " [1. 1. 1. 1.]\n",
      " [1. 1. 1. 1.]]\n"
     ]
    }
   ],
   "source": [
    "a = np.empty((3,4)) # 创建全部为空的3行4列的数据\n",
    "print(a)"
   ]
  },
  {
   "cell_type": "code",
   "execution_count": 18,
   "metadata": {},
   "outputs": [
    {
     "name": "stdout",
     "output_type": "stream",
     "text": [
      "[[ 0  1  2  3]\n",
      " [ 4  5  6  7]\n",
      " [ 8  9 10 11]]\n"
     ]
    }
   ],
   "source": [
    "a = np.arange(12).reshape((3,4))  # arrage生成一维数组，然后reshape成3行4列\n",
    "print(a)"
   ]
  },
  {
   "cell_type": "code",
   "execution_count": null,
   "metadata": {},
   "outputs": [],
   "source": [
    "a = np.linspace(1,10,5)  # 生成线段，1~10，共分为5段\n",
    "print (a)"
   ]
  },
  {
   "cell_type": "markdown",
   "metadata": {},
   "source": [
    "## numpy 运算"
   ]
  },
  {
   "cell_type": "code",
   "execution_count": 25,
   "metadata": {},
   "outputs": [
    {
     "name": "stdout",
     "output_type": "stream",
     "text": [
      "a: [10 12 14 16]\n",
      "b: [0 1 2 3]\n"
     ]
    }
   ],
   "source": [
    "a = np.array([10, 12, 14, 16])\n",
    "b = np.arange(4)\n",
    "print('a:', a)\n",
    "print('b:', b)"
   ]
  },
  {
   "cell_type": "code",
   "execution_count": 31,
   "metadata": {},
   "outputs": [
    {
     "name": "stdout",
     "output_type": "stream",
     "text": [
      "a-b: [10 11 12 13]\n",
      "a+b: [10 13 16 19]\n",
      "a/b: [        inf 12.          7.          5.33333333]\n",
      "a*b: [ 0 12 28 48]\n",
      "a-2: [ 8 10 12 14]\n",
      "a+2: [12 14 16 18]\n",
      "a*2: [20 24 28 32]\n",
      "a/2: [5. 6. 7. 8.]\n",
      "a**2: [100 144 196 256]\n"
     ]
    },
    {
     "name": "stderr",
     "output_type": "stream",
     "text": [
      "/Users/cleland/.pyenv/versions/3.7.1/lib/python3.7/site-packages/ipykernel_launcher.py:3: RuntimeWarning: divide by zero encountered in true_divide\n",
      "  This is separate from the ipykernel package so we can avoid doing imports until\n"
     ]
    }
   ],
   "source": [
    "# 四则运算\n",
    "print('a-b:', a-b)\n",
    "print('a+b:', a+b)\n",
    "print('a/b:', a/b)\n",
    "print('a*b:', a*b)  # 注意与矩阵运算的结果不一致\n",
    "\n",
    "print('a-2:', a-2)\n",
    "print('a+2:', a+2)\n",
    "print('a*2:', a*2)\n",
    "print('a/2:', a/2)\n",
    "\n",
    "print('a**2:', a**2)"
   ]
  },
  {
   "cell_type": "code",
   "execution_count": 32,
   "metadata": {},
   "outputs": [
    {
     "name": "stdout",
     "output_type": "stream",
     "text": [
      "[False  True  True  True]\n"
     ]
    }
   ],
   "source": [
    "# 大小比较\n",
    "print(a>11)"
   ]
  },
  {
   "cell_type": "code",
   "execution_count": 34,
   "metadata": {},
   "outputs": [
    {
     "name": "stdout",
     "output_type": "stream",
     "text": [
      "[[0 1]\n",
      " [0 3]]\n",
      "[[2 4]\n",
      " [2 3]]\n"
     ]
    }
   ],
   "source": [
    "# 矩阵运算\n",
    "import numpy as np\n",
    "\n",
    "a = np.array([[1,1], [0,1]])\n",
    "b = np.arange(4).reshape((2,2))\n",
    "print ('a:', a)\n",
    "print ('b:', b)\n",
    "\n",
    "print(a*b)\n",
    "print(np.dot(a, b))"
   ]
  },
  {
   "cell_type": "markdown",
   "metadata": {},
   "source": [
    "## 索引与切片"
   ]
  },
  {
   "cell_type": "code",
   "execution_count": 14,
   "metadata": {},
   "outputs": [
    {
     "name": "stdout",
     "output_type": "stream",
     "text": [
      "[0 1 2 3 4 5 6 7 8 9]\n",
      "[100 100 100 100 100 100]\n",
      "[  0   1 100 100 100 100 100 100   8   9]\n",
      "4559574960\n",
      "4559574880\n"
     ]
    }
   ],
   "source": [
    "# 切片返回的都是视图，后面的操作修改都会体现在源数据上(numpy的设计目的是处理大数据，数据复制来复制去会消耗大量的cpu与内存)。可以使用copy复制副本\n",
    "arr = np.arange(10)\n",
    "print(arr)\n",
    "arr1 = arr[2:8]\n",
    "arr1[:] = 100\n",
    "print(arr1)\n",
    "print(arr)\n",
    "print(id(arr))\n",
    "print(id(arr1))"
   ]
  },
  {
   "cell_type": "markdown",
   "metadata": {},
   "source": [
    "### 切片与索引"
   ]
  },
  {
   "cell_type": "code",
   "execution_count": 17,
   "metadata": {},
   "outputs": [
    {
     "name": "stdout",
     "output_type": "stream",
     "text": [
      "[2 3 4]\n"
     ]
    }
   ],
   "source": [
    "# 一维数据\n",
    "arr = np.arange(10)\n",
    "print(arr[2:5])"
   ]
  },
  {
   "cell_type": "code",
   "execution_count": 30,
   "metadata": {},
   "outputs": [
    {
     "name": "stdout",
     "output_type": "stream",
     "text": [
      "[4 5 6]\n",
      "[2 5 8]\n",
      "5\n",
      "5\n"
     ]
    }
   ],
   "source": [
    "# 二维数据切分\n",
    "arr2d = np.array([[1,2,3], [4,5,6], [7,8,9]])\n",
    "# 切分行\n",
    "print(arr2d[1])\n",
    "# 列切分\n",
    "print(arr2d[:, 1])\n",
    "# 行列精确定位\n",
    "print(arr2d[1][1])\n",
    "print(arr2d[1,1])"
   ]
  },
  {
   "cell_type": "code",
   "execution_count": 34,
   "metadata": {},
   "outputs": [
    {
     "name": "stdout",
     "output_type": "stream",
     "text": [
      "[[1 2 3]\n",
      " [4 5 6]]\n",
      "[1 2 3]\n",
      "1\n"
     ]
    }
   ],
   "source": [
    "# 多维数据(3维)\n",
    "arr3d = np.array([[[1,2,3], [4,5,6]], [[7,8,9], [10,11,12]]])\n",
    "print(arr3d[0])\n",
    "print(arr3d[0][0])\n",
    "print(arr3d[0][0][0])"
   ]
  },
  {
   "cell_type": "code",
   "execution_count": 38,
   "metadata": {},
   "outputs": [
    {
     "name": "stdout",
     "output_type": "stream",
     "text": [
      "[[1 2]\n",
      " [4 5]]\n",
      "[1 2]\n"
     ]
    }
   ],
   "source": [
    "# 一次传入多个切片\n",
    "arr2d = np.array([[1,2,3], [4,5,6], [7,8,9]])\n",
    "print(arr2d[0:2, 0:2])\n",
    "\n",
    "# 整数索引与切片结合对数据进行降维\n",
    "print(arr2d[0, 0:2])"
   ]
  },
  {
   "cell_type": "markdown",
   "metadata": {},
   "source": [
    "### 布尔型索引"
   ]
  },
  {
   "cell_type": "code",
   "execution_count": 60,
   "metadata": {},
   "outputs": [
    {
     "name": "stdout",
     "output_type": "stream",
     "text": [
      "\n",
      " name:  ['Bob' 'Joe' 'Will' 'Bob' 'Will' 'Joe' 'Joe']\n",
      "\n",
      " data:  [[0.77350114 0.85526589 0.63442858 0.19541239]\n",
      " [0.86925294 0.39933563 0.58767874 0.74048207]\n",
      " [0.32576228 0.65255474 0.37031751 0.56031694]\n",
      " [0.4469037  0.71973935 0.58312723 0.2913257 ]\n",
      " [0.69486489 0.79869356 0.77193979 0.12575444]\n",
      " [0.80971803 0.05549915 0.63514744 0.88744576]\n",
      " [0.13541705 0.25861816 0.49286898 0.17577436]]\n",
      "\n",
      " name == 'Bob':  [ True False False  True False False False]\n",
      "\n",
      " data[name == 'Bob']:  [[0.77350114 0.85526589 0.63442858 0.19541239]\n",
      " [0.4469037  0.71973935 0.58312723 0.2913257 ]]\n",
      "\n",
      " data[name == 'Bob']:  [[0.63442858 0.19541239]\n",
      " [0.58312723 0.2913257 ]]\n",
      "\n",
      " data[(name == 'Bob') | (name=='Will')]:  [[0.77350114 0.85526589 0.63442858 0.19541239]\n",
      " [0.32576228 0.65255474 0.37031751 0.56031694]\n",
      " [0.4469037  0.71973935 0.58312723 0.2913257 ]\n",
      " [0.69486489 0.79869356 0.77193979 0.12575444]]\n",
      "\n",
      " data[data>=0.5]:  [0.77350114 0.85526589 0.63442858 0.86925294 0.58767874 0.74048207\n",
      " 0.65255474 0.56031694 0.71973935 0.58312723 0.69486489 0.79869356\n",
      " 0.77193979 0.80971803 0.63514744 0.88744576]\n",
      "\n",
      " data[name!='Joe']=7:  [[7.         7.         7.         7.        ]\n",
      " [0.86925294 0.39933563 0.58767874 0.74048207]\n",
      " [7.         7.         7.         7.        ]\n",
      " [7.         7.         7.         7.        ]\n",
      " [7.         7.         7.         7.        ]\n",
      " [0.80971803 0.05549915 0.63514744 0.88744576]\n",
      " [0.13541705 0.25861816 0.49286898 0.17577436]]\n"
     ]
    }
   ],
   "source": [
    "name = np.array(['Bob', 'Joe', 'Will', 'Bob', 'Will', 'Joe', 'Joe'])\n",
    "data = np.random.rand(7, 4)\n",
    "print('\\n name: ', name)\n",
    "print('\\n data: ', data)\n",
    "\n",
    "# 使用name array产生的bool值索引data对应的数据。要求布尔型数组的长度必须和被索引的轴长度一致。\n",
    "print(\"\\n name == 'Bob': \", name == 'Bob')\n",
    "print(\"\\n data[name == 'Bob']: \", data[name == 'Bob'])\n",
    "\n",
    "# 布尔索引后，切分其他轴\n",
    "print(\"\\n data[name == 'Bob']: \", data[name == 'Bob', 2:])\n",
    "\n",
    "# 多个布尔条件组合\n",
    "print(\"\\n data[(name == 'Bob') | (name=='Will')]: \", data[(name == 'Bob') | (name=='Will')])\n",
    "# 切忌写成这样： print(\"\\n data[name == 'Bob']\", data[name == 'Bob' | name=='Will']) 会存在运算符优先级问题： numpy “TypeError: ufunc 'bitwise_and' not supported for the input types” when using a dynamically created boolean mask\n",
    "\n",
    "# (重点)通过布尔数组设置是一种经常用到的手段\n",
    "print(\"\\n data[data>=0.5]: \", data[data>=0.5])\n",
    "\n",
    "# 索引后设置数据\n",
    "data[name!='Joe']=7\n",
    "print(\"\\n data[name!='Joe']=7: \", data)"
   ]
  },
  {
   "cell_type": "markdown",
   "metadata": {},
   "source": [
    "### 花式索引\n",
    "使用整数数组进行索引"
   ]
  },
  {
   "cell_type": "code",
   "execution_count": 63,
   "metadata": {},
   "outputs": [
    {
     "name": "stdout",
     "output_type": "stream",
     "text": [
      "arr:  [[0. 0. 0. 0.]\n",
      " [1. 1. 1. 1.]\n",
      " [2. 2. 2. 2.]\n",
      " [3. 3. 3. 3.]\n",
      " [4. 4. 4. 4.]\n",
      " [5. 5. 5. 5.]\n",
      " [6. 6. 6. 6.]\n",
      " [7. 7. 7. 7.]]\n"
     ]
    }
   ],
   "source": [
    "arr = np.empty((8, 4))\n",
    "\n",
    "for i in range(8):\n",
    "    arr[i] = i\n",
    "print(\"arr: \", arr)"
   ]
  },
  {
   "cell_type": "code",
   "execution_count": 64,
   "metadata": {},
   "outputs": [
    {
     "name": "stdout",
     "output_type": "stream",
     "text": [
      "[[4. 4. 4. 4.]\n",
      " [0. 0. 0. 0.]\n",
      " [1. 1. 1. 1.]\n",
      " [5. 5. 5. 5.]]\n"
     ]
    }
   ],
   "source": [
    "# 使用整数数组进行索引\n",
    "print(arr[[4,0,1,5]])"
   ]
  },
  {
   "cell_type": "code",
   "execution_count": 76,
   "metadata": {},
   "outputs": [
    {
     "name": "stdout",
     "output_type": "stream",
     "text": [
      "\n",
      " arr:  [[ 0  1  2  3]\n",
      " [ 4  5  6  7]\n",
      " [ 8  9 10 11]\n",
      " [12 13 14 15]\n",
      " [16 17 18 19]\n",
      " [20 21 22 23]\n",
      " [24 25 26 27]\n",
      " [28 29 30 31]]\n",
      "\n",
      " arr[[1,5,7,2], [0,3,1,2]]:  [ 4 23 29 10]\n",
      "\n",
      " arr[[1,5,7,2]][:, [0,3,1,2]]):  [[ 4  7  5  6]\n",
      " [20 23 21 22]\n",
      " [28 31 29 30]\n",
      " [ 8 11  9 10]]\n",
      "\n",
      " arr[np.ix_([1,5,7,2], [0,3,1,2])]):  [[ 4  7  5  6]\n",
      " [20 23 21 22]\n",
      " [28 31 29 30]\n",
      " [ 8 11  9 10]]\n"
     ]
    }
   ],
   "source": [
    "arr = np.arange(32).reshape((8,4))\n",
    "print(\"\\n arr: \", arr)\n",
    "\n",
    "# 精确索引\n",
    "print(\"\\n arr[[1,5,7,2], [0,3,1,2]]: \", arr[[1,5,7,2], [0,3,1,2]])\n",
    "\n",
    "# 块索引\n",
    "print(\"\\n arr[[1,5,7,2]][:, [0,3,1,2]]): \", arr[[1,5,7,2]][:, [0,3,1,2]])\n",
    "print(\"\\n arr[np.ix_([1,5,7,2], [0,3,1,2])]): \", arr[np.ix_([1,5,7,2], [0,3,1,2])])"
   ]
  },
  {
   "cell_type": "markdown",
   "metadata": {},
   "source": [
    "## 数组转置和轴对换\n",
    "\n",
    "转置返回的是源数据视图(不会进行任何复制)。 数组不仅有transpose方法，还有一个特殊的T属性"
   ]
  },
  {
   "cell_type": "code",
   "execution_count": 77,
   "metadata": {},
   "outputs": [
    {
     "name": "stdout",
     "output_type": "stream",
     "text": [
      "arr:  [[ 0  1  2  3  4]\n",
      " [ 5  6  7  8  9]\n",
      " [10 11 12 13 14]]\n",
      "arr.T:  [[ 0  5 10]\n",
      " [ 1  6 11]\n",
      " [ 2  7 12]\n",
      " [ 3  8 13]\n",
      " [ 4  9 14]]\n"
     ]
    }
   ],
   "source": [
    "arr = np.arange(15).reshape((3, 5))\n",
    "print(\"arr: \", arr)\n",
    "print(\"arr.T: \", arr.T)"
   ]
  },
  {
   "cell_type": "markdown",
   "metadata": {},
   "source": [
    "## 通用函数：快速的元素级数组函数"
   ]
  },
  {
   "cell_type": "code",
   "execution_count": 83,
   "metadata": {},
   "outputs": [
    {
     "name": "stdout",
     "output_type": "stream",
     "text": [
      "arr:  [0 1 2 3 4 5 6 7 8 9]\n",
      "np.sqrt(arr):  [0.         1.         1.41421356 1.73205081 2.         2.23606798\n",
      " 2.44948974 2.64575131 2.82842712 3.        ]\n",
      "np.exp(arr):  [1.00000000e+00 2.71828183e+00 7.38905610e+00 2.00855369e+01\n",
      " 5.45981500e+01 1.48413159e+02 4.03428793e+02 1.09663316e+03\n",
      " 2.98095799e+03 8.10308393e+03]\n",
      "\n",
      "\n",
      "\n",
      "x:  [-0.50122074 -0.59416569  0.65207126  0.28944127  0.44516582  0.81077652\n",
      "  1.52645168 -0.67262201]\n",
      "y:  [-0.50547964 -0.30600186  0.66601142 -0.69735713  0.46601593 -1.49423284\n",
      "  2.36830089  0.04638547]\n",
      "np.maxinum(x, y):  [-0.50122074 -0.30600186  0.66601142  0.28944127  0.46601593  0.81077652\n",
      "  2.36830089  0.04638547]\n"
     ]
    }
   ],
   "source": [
    "arr = np.arange(10)\n",
    "print(\"arr: \", arr)\n",
    "\n",
    "# 一元ufunc\n",
    "print(\"np.sqrt(arr): \", np.sqrt(arr))\n",
    "print(\"np.exp(arr): \", np.exp(arr))\n",
    "\n",
    "# 二元ufunc\n",
    "print(\"\\n\\n\")\n",
    "x = np.random.randn(8)\n",
    "y = np.random.randn(8)\n",
    "print(\"x: \", x)\n",
    "print(\"y: \", y)\n",
    "print(\"np.maxinum(x, y): \", np.maximum(x, y))"
   ]
  },
  {
   "cell_type": "markdown",
   "metadata": {},
   "source": [
    "## 利用数组进行数据处理"
   ]
  },
  {
   "cell_type": "code",
   "execution_count": 90,
   "metadata": {},
   "outputs": [
    {
     "data": {
      "text/plain": [
       "<matplotlib.image.AxesImage at 0x1122a75c0>"
      ]
     },
     "execution_count": 90,
     "metadata": {},
     "output_type": "execute_result"
    },
    {
     "data": {
      "image/png": "[encoded data removed]",
      "text/plain": [
       "<Figure size 432x288 with 1 Axes>"
      ]
     },
     "metadata": {
      "needs_background": "light"
     },
     "output_type": "display_data"
    }
   ],
   "source": [
    "import matplotlib.pyplot as plt\n",
    "points = np.arange(-5, 5, 0.01)\n",
    "xs, ys = np.meshgrid(points, points)\n",
    "z = np.sqrt(xs**2 + ys**2)\n",
    "plt.imshow(z, cmap=plt.cm.gray)"
   ]
  },
  {
   "cell_type": "markdown",
   "metadata": {},
   "source": [
    "## 将条件逻辑转化为数组运算\n",
    "where可以写出很多复杂的逻辑，支持嵌套"
   ]
  },
  {
   "cell_type": "code",
   "execution_count": 95,
   "metadata": {},
   "outputs": [
    {
     "name": "stdout",
     "output_type": "stream",
     "text": [
      "result:  [1.1, 2.2, 1.3, 1.4, 2.5]\n",
      "result:  [1.1 2.2 1.3 1.4 2.5]\n"
     ]
    }
   ],
   "source": [
    "xarr = np.array([1.1, 1.2, 1.3, 1.4, 1.5])\n",
    "yarr = np.array([2.1, 2.2, 2.3, 2.4, 2.5])\n",
    "cond = np.array([True, False, True, True, False])\n",
    "\n",
    "result = [(x if c else y) for x, y, c in zip(xarr, yarr, cond)]\n",
    "print(\"result: \", result)\n",
    "\n",
    "# 以上非矢量化，使用循环的方式有两个缺点：1.处理速度慢(纯python运行)；2.无法用于多维数组\n",
    "result = np.where(cond, xarr, yarr)\n",
    "print(\"result: \", result)"
   ]
  },
  {
   "cell_type": "code",
   "execution_count": 100,
   "metadata": {},
   "outputs": [
    {
     "name": "stdout",
     "output_type": "stream",
     "text": [
      "\n",
      " arr:  [[ 0.12059184  0.31950765 -0.78772151 -0.21837142]\n",
      " [ 0.73017221  1.68442898  0.39768872 -0.34213497]\n",
      " [-0.91814662  2.33935248  1.23252462  0.36288266]\n",
      " [-0.52681426 -0.99545484  0.30173605  0.42863571]]\n",
      "\n",
      " np.where(arr>0, 2, -2):  [[ 2  2 -2 -2]\n",
      " [ 2  2  2 -2]\n",
      " [-2  2  2  2]\n",
      " [-2 -2  2  2]]\n"
     ]
    }
   ],
   "source": [
    "arr = np.random.randn(4,4)\n",
    "print(\"\\n arr: \", arr)\n",
    "\n",
    "print(\"\\n np.where(arr>0, 2, -2): \", np.where(arr>0, 2, -2))"
   ]
  },
  {
   "cell_type": "markdown",
   "metadata": {},
   "source": [
    "## 数学和统计方法"
   ]
  },
  {
   "cell_type": "code",
   "execution_count": 103,
   "metadata": {},
   "outputs": [
    {
     "name": "stdout",
     "output_type": "stream",
     "text": [
      "arr:  [[ 0.40405764  0.04705922  0.97000699 -0.63226158]\n",
      " [-0.6319445   0.26742038  1.08094915 -0.36132996]\n",
      " [ 0.51991691  1.72528358  1.39689126 -1.70948358]\n",
      " [ 0.62372185  0.73242986 -1.72624346 -0.25686156]\n",
      " [ 1.56020997  0.48275672  0.49278646  0.31457246]]\n"
     ]
    }
   ],
   "source": [
    "arr = np.random.randn(5, 4) # 符合正态分布\n",
    "print(\"arr: \", arr)"
   ]
  },
  {
   "cell_type": "code",
   "execution_count": 104,
   "metadata": {},
   "outputs": [
    {
     "name": "stdout",
     "output_type": "stream",
     "text": [
      "mean:  0.26499689045049846\n",
      "sum:  5.299937809009969\n",
      "min:  -1.7262434553489185\n",
      "max:  1.7252835848808656\n"
     ]
    }
   ],
   "source": [
    "print(\"mean: \", arr.mean())\n",
    "print(\"sum: \", arr.sum())\n",
    "print(\"min: \", arr.min())\n",
    "print(\"max: \", arr.max())"
   ]
  },
  {
   "cell_type": "markdown",
   "metadata": {},
   "source": [
    "## 排序\n",
    "顶级方法np.sort放回的是数组的副本，而就地排序会修改数组本身"
   ]
  },
  {
   "cell_type": "code",
   "execution_count": 107,
   "metadata": {},
   "outputs": [
    {
     "name": "stdout",
     "output_type": "stream",
     "text": [
      "arr:  [ 0.64556084  1.11274093 -0.25297567 -0.50241156 -0.28477289  0.59979579\n",
      " -0.05327578 -1.54272275]\n",
      "after sort:  [-1.54272275 -0.50241156 -0.28477289 -0.25297567 -0.05327578  0.59979579\n",
      "  0.64556084  1.11274093]\n"
     ]
    }
   ],
   "source": [
    "# 一维数组排序\n",
    "arr  = np.random.randn(8)\n",
    "print(\"arr: \", arr)\n",
    "\n",
    "arr.sort()\n",
    "print(\"after sort: \", arr)"
   ]
  },
  {
   "cell_type": "code",
   "execution_count": 111,
   "metadata": {},
   "outputs": [
    {
     "name": "stdout",
     "output_type": "stream",
     "text": [
      "arr:  [[ 1.33472464 -0.37537392  1.34213119]\n",
      " [ 0.52418286 -0.6966416   0.24558429]\n",
      " [ 1.52724533  1.8073533   1.45114974]\n",
      " [ 0.37787355 -1.31458903 -0.18578191]\n",
      " [-1.09755788  0.68589784 -1.5445307 ]]\n",
      "after sort:  [[-0.37537392  1.33472464  1.34213119]\n",
      " [-0.6966416   0.24558429  0.52418286]\n",
      " [ 1.45114974  1.52724533  1.8073533 ]\n",
      " [-1.31458903 -0.18578191  0.37787355]\n",
      " [-1.5445307  -1.09755788  0.68589784]]\n"
     ]
    }
   ],
   "source": [
    "# 多维数组排序\n",
    "# 指定任意一个轴进行排序\n",
    "arr = np.random.randn(5,3)\n",
    "print(\"arr: \", arr)\n",
    "\n",
    "arr.sort(1)\n",
    "print(\"after sort: \", arr)"
   ]
  },
  {
   "cell_type": "code",
   "execution_count": 113,
   "metadata": {},
   "outputs": [
    {
     "name": "stdout",
     "output_type": "stream",
     "text": [
      "-1.6272130848968789\n"
     ]
    }
   ],
   "source": [
    "# 计算数组分位数最简单的办法就是对其进行排序，然后取特定位置的值\n",
    "\n",
    "large_arr = np.random.randn(1000)\n",
    "large_arr.sort()\n",
    "print(large_arr[int(0.05 * len(large_arr))])"
   ]
  },
  {
   "cell_type": "markdown",
   "metadata": {},
   "source": [
    "## 线性代数"
   ]
  },
  {
   "cell_type": "code",
   "execution_count": null,
   "metadata": {},
   "outputs": [],
   "source": [
    "# TODO: 待补充"
   ]
  },
  {
   "cell_type": "markdown",
   "metadata": {},
   "source": [
    "## 随机数生成"
   ]
  }
 ],
 "metadata": {
  "kernelspec": {
   "display_name": "Python 3",
   "language": "python",
   "name": "python3"
  },
  "language_info": {
   "codemirror_mode": {
    "name": "ipython",
    "version": 3
   },
   "file_extension": ".py",
   "mimetype": "text/x-python",
   "name": "python",
   "nbconvert_exporter": "python",
   "pygments_lexer": "ipython3",
   "version": "3.7.1"
  }
 },
 "nbformat": 4,
 "nbformat_minor": 2
}
