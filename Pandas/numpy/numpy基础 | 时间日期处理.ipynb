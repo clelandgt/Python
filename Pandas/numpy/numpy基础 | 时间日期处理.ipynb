{
 "cells": [
  {
   "cell_type": "markdown",
   "metadata": {},
   "source": [
    "从Numpy1.7开始，核心数组(ndarray)对象就支持datetime相关的功能。由于’datetime‘这个数据类型名称在python自带的datetime模块已使用。所以Numpy中时间的数据类型为'datetime64'. 参考：https://docs.scipy.org/doc/numpy-1.17.0/reference/arrays.datetime.html\n",
    "\n",
    "|Code|Meaning|\n",
    "|:--|:--|\n",
    "|Y|year|\n",
    "|M|month|\n",
    "|W|week|\n",
    "|D|day|\n",
    "|h|hour|\n",
    "|m|minute|\n",
    "|s|second|\n",
    "|ms|millisecond|\n",
    "|us|microsecond|\n",
    "|ns|nanosecond|"
   ]
  },
  {
   "cell_type": "code",
   "execution_count": 1,
   "metadata": {},
   "outputs": [],
   "source": [
    "# 导入模块\n",
    "import numpy as np"
   ]
  },
  {
   "cell_type": "markdown",
   "metadata": {},
   "source": [
    "## 创建Datetimes"
   ]
  },
  {
   "cell_type": "code",
   "execution_count": 3,
   "metadata": {},
   "outputs": [
    {
     "data": {
      "text/plain": [
       "numpy.datetime64('2019-11-25')"
      ]
     },
     "execution_count": 3,
     "metadata": {},
     "output_type": "execute_result"
    }
   ],
   "source": [
    "# 创建一个标准的 IOS Date\n",
    "np.datetime64('2019-11-25')"
   ]
  },
  {
   "cell_type": "code",
   "execution_count": 6,
   "metadata": {},
   "outputs": [
    {
     "data": {
      "text/plain": [
       "numpy.datetime64('2019-11')"
      ]
     },
     "execution_count": 6,
     "metadata": {},
     "output_type": "execute_result"
    }
   ],
   "source": [
    "# 创建月，会自动解析读入的字符串。这里解析设置第二个参数，日期类型为’M‘\n",
    "np.datetime64('2019-11')"
   ]
  },
  {
   "cell_type": "code",
   "execution_count": 5,
   "metadata": {},
   "outputs": [
    {
     "data": {
      "text/plain": [
       "numpy.datetime64('2019-11-01')"
      ]
     },
     "execution_count": 5,
     "metadata": {},
     "output_type": "execute_result"
    }
   ],
   "source": [
    "# 创建某月的第一天. 只需设置日期类型为'M'\n",
    "np.datetime64('2019-11', 'D')"
   ]
  },
  {
   "cell_type": "code",
   "execution_count": 7,
   "metadata": {},
   "outputs": [
    {
     "data": {
      "text/plain": [
       "numpy.datetime64('2019-11-25T20:30:30')"
      ]
     },
     "execution_count": 7,
     "metadata": {},
     "output_type": "execute_result"
    }
   ],
   "source": [
    "# 创建datetime\n",
    "np.datetime64('2019-11-25 20:30:30')"
   ]
  },
  {
   "cell_type": "code",
   "execution_count": 8,
   "metadata": {},
   "outputs": [
    {
     "data": {
      "text/plain": [
       "array(['2019-11-24', '2019-11-25'], dtype='datetime64[D]')"
      ]
     },
     "execution_count": 8,
     "metadata": {},
     "output_type": "execute_result"
    }
   ],
   "source": [
    "# 创建带datetime的的数组\n",
    "np.array(['2019-11-24', '2019-11-25'], dtype='datetime64')"
   ]
  },
  {
   "cell_type": "code",
   "execution_count": 9,
   "metadata": {},
   "outputs": [
    {
     "data": {
      "text/plain": [
       "array(['2019-11-01', '2019-11-02', '2019-11-03', '2019-11-04',\n",
       "       '2019-11-05', '2019-11-06', '2019-11-07', '2019-11-08',\n",
       "       '2019-11-09', '2019-11-10', '2019-11-11', '2019-11-12',\n",
       "       '2019-11-13', '2019-11-14', '2019-11-15', '2019-11-16',\n",
       "       '2019-11-17', '2019-11-18', '2019-11-19', '2019-11-20',\n",
       "       '2019-11-21', '2019-11-22', '2019-11-23', '2019-11-24'],\n",
       "      dtype='datetime64[D]')"
      ]
     },
     "execution_count": 9,
     "metadata": {},
     "output_type": "execute_result"
    }
   ],
   "source": [
    "# 使用arange生成连续日期的数组\n",
    "np.arange('2019-11-01', '2019-11-25', dtype='datetime64')"
   ]
  },
  {
   "cell_type": "markdown",
   "metadata": {},
   "source": [
    "## Datetime与Timedelta之间的计算"
   ]
  },
  {
   "cell_type": "code",
   "execution_count": 13,
   "metadata": {},
   "outputs": [
    {
     "name": "stdout",
     "output_type": "stream",
     "text": [
      "today:  2019-11-26\n",
      "yesterday:  2019-11-25\n",
      "tomorrow:  2019-11-27\n"
     ]
    }
   ],
   "source": [
    "# 获取昨天，今天，明天\n",
    "print('today: ', np.datetime64('today', 'D'))\n",
    "print('yesterday: ', np.datetime64('today', 'D') - np.timedelta64(1, 'D'))\n",
    "print('tomorrow: ', np.datetime64('today', 'D') + np.timedelta64(1, 'D'))"
   ]
  },
  {
   "cell_type": "code",
   "execution_count": 14,
   "metadata": {},
   "outputs": [
    {
     "data": {
      "text/plain": [
       "numpy.timedelta64(19,'D')"
      ]
     },
     "execution_count": 14,
     "metadata": {},
     "output_type": "execute_result"
    }
   ],
   "source": [
    "# 两个Date之差\n",
    "np.datetime64('2019-10-20') - np.datetime64('2019-10-01')"
   ]
  },
  {
   "cell_type": "code",
   "execution_count": 15,
   "metadata": {},
   "outputs": [
    {
     "data": {
      "text/plain": [
       "numpy.datetime64('2019-10-25')"
      ]
     },
     "execution_count": 15,
     "metadata": {},
     "output_type": "execute_result"
    }
   ],
   "source": [
    "# Date上做加法\n",
    "np.datetime64('2019-10-20') + np.timedelta64(5, 'D')"
   ]
  },
  {
   "cell_type": "code",
   "execution_count": 16,
   "metadata": {},
   "outputs": [
    {
     "data": {
      "text/plain": [
       "numpy.datetime64('2019-10-15')"
      ]
     },
     "execution_count": 16,
     "metadata": {},
     "output_type": "execute_result"
    }
   ],
   "source": [
    "# Date上做减法\n",
    "np.datetime64('2019-10-20') - np.timedelta64(5, 'D')"
   ]
  },
  {
   "cell_type": "code",
   "execution_count": 17,
   "metadata": {},
   "outputs": [
    {
     "data": {
      "text/plain": [
       "numpy.datetime64('2019-10-20T18:30:15')"
      ]
     },
     "execution_count": 17,
     "metadata": {},
     "output_type": "execute_result"
    }
   ],
   "source": [
    "# Time上做加法\n",
    "np.datetime64('2019-10-20 18:30:30') - np.timedelta64(15, 's')"
   ]
  }
 ],
 "metadata": {
  "kernelspec": {
   "display_name": "Python 3",
   "language": "python",
   "name": "python3"
  },
  "language_info": {
   "codemirror_mode": {
    "name": "ipython",
    "version": 3
   },
   "file_extension": ".py",
   "mimetype": "text/x-python",
   "name": "python",
   "nbconvert_exporter": "python",
   "pygments_lexer": "ipython3",
   "version": "3.7.3"
  },
  "toc": {
   "base_numbering": 1,
   "nav_menu": {},
   "number_sections": true,
   "sideBar": true,
   "skip_h1_title": false,
   "title_cell": "Table of Contents",
   "title_sidebar": "Contents",
   "toc_cell": false,
   "toc_position": {},
   "toc_section_display": true,
   "toc_window_display": false
  }
 },
 "nbformat": 4,
 "nbformat_minor": 2
}
