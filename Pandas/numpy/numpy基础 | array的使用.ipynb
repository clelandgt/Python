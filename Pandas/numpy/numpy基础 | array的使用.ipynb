{
 "cells": [
  {
   "cell_type": "markdown",
   "metadata": {},
   "source": [
    "## numpy 简述\n",
    "Numpy(Numeric Python)提高了许多高级的数值编程工具，如：矩阵数据类型、矢量处理、以及精密的运算库。\n",
    "\n",
    "1. python内置的list是无类型的；\n",
    "2. 如需使用有类型的数组可以使用array.array；\n",
    "3. numpy里有array更高效。\n",
    "\n",
    "参考\n",
    "- [Numpy简易入门](https://mp.weixin.qq.com/s/66SLsOBhUMP7qEuPE-BUnw)\n",
    "- [Numpy练习题100题](https://github.com/rougier/numpy-100)\n"
   ]
  },
  {
   "cell_type": "code",
   "execution_count": 1,
   "metadata": {},
   "outputs": [],
   "source": [
    "import numpy as np\n"
   ]
  },
  {
   "cell_type": "code",
   "execution_count": 2,
   "metadata": {},
   "outputs": [
    {
     "name": "stdout",
     "output_type": "stream",
     "text": [
      "array:  [0 1 2 3 4 5 6 7 8 9]\n",
      "array type:  <class 'numpy.ndarray'>\n",
      "array dtype:  int64\n",
      "array ndim:  1\n",
      "array size:  10\n",
      "array shape:  (10,)\n",
      "array reshape[5, 2]: \n",
      " [[0 1 2 3 4]\n",
      " [5 6 7 8 9]]\n"
     ]
    }
   ],
   "source": [
    "array = np.array(np.arange(10))\n",
    "print('array: ', array)\n",
    "print('array type: ', type(array))\n",
    "print('array dtype: ', array.dtype)\n",
    "print('array ndim: ', array.ndim) # 维度\n",
    "print('array size: ', array.size) # 数组元素的个数\n",
    "print('array shape: ', array.shape)\n",
    "print('array reshape[5, 2]: \\n', array.reshape(2, 5))"
   ]
  },
  {
   "cell_type": "markdown",
   "metadata": {},
   "source": [
    "## 创建Numpy数组\n",
    "### 创建一维数组"
   ]
  },
  {
   "cell_type": "code",
   "execution_count": 3,
   "metadata": {},
   "outputs": [
    {
     "data": {
      "text/plain": [
       "array([ 2, 23,  4,  6,  8,  7], dtype=int32)"
      ]
     },
     "execution_count": 3,
     "metadata": {},
     "output_type": "execute_result"
    }
   ],
   "source": [
    "a = np.array([2,23,4,6,8,7], dtype=np.int32)  # 数据初始化array,可声明dtype的类型，常用int,float\n",
    "a"
   ]
  },
  {
   "cell_type": "markdown",
   "metadata": {},
   "source": [
    "### 创建二维数组(矩阵)"
   ]
  },
  {
   "cell_type": "code",
   "execution_count": 4,
   "metadata": {},
   "outputs": [
    {
     "data": {
      "text/plain": [
       "array([[ 2, 23,  4],\n",
       "       [ 3,  4,  5]])"
      ]
     },
     "execution_count": 4,
     "metadata": {},
     "output_type": "execute_result"
    }
   ],
   "source": [
    "aa = np.array([[2,23,4], [3,4,5]])\n",
    "aa"
   ]
  },
  {
   "cell_type": "code",
   "execution_count": 5,
   "metadata": {},
   "outputs": [
    {
     "data": {
      "text/plain": [
       "array([[ 2, 23,  4],\n",
       "       [ 6,  8,  7]], dtype=int32)"
      ]
     },
     "execution_count": 5,
     "metadata": {},
     "output_type": "execute_result"
    }
   ],
   "source": [
    "# 将一维数组改成二维数组\n",
    "a.reshape(2, 3)"
   ]
  },
  {
   "cell_type": "markdown",
   "metadata": {},
   "source": [
    "### 创建特定数组"
   ]
  },
  {
   "cell_type": "code",
   "execution_count": 6,
   "metadata": {},
   "outputs": [
    {
     "data": {
      "text/plain": [
       "array([[0., 0., 0., 0.],\n",
       "       [0., 0., 0., 0.],\n",
       "       [0., 0., 0., 0.]])"
      ]
     },
     "execution_count": 6,
     "metadata": {},
     "output_type": "execute_result"
    }
   ],
   "source": [
    "# 创建全0的数组\n",
    "np.zeros((3,4))"
   ]
  },
  {
   "cell_type": "code",
   "execution_count": 7,
   "metadata": {},
   "outputs": [
    {
     "data": {
      "text/plain": [
       "array([[1., 1., 1., 1.],\n",
       "       [1., 1., 1., 1.],\n",
       "       [1., 1., 1., 1.]])"
      ]
     },
     "execution_count": 7,
     "metadata": {},
     "output_type": "execute_result"
    }
   ],
   "source": [
    "# 创建全1的数组\n",
    "np.ones((3,4))"
   ]
  },
  {
   "cell_type": "code",
   "execution_count": 13,
   "metadata": {},
   "outputs": [
    {
     "data": {
      "text/plain": [
       "array([[0.0e+000, 4.9e-324, 9.9e-324, 1.5e-323, 2.0e-323],\n",
       "       [2.5e-323, 3.0e-323, 3.5e-323, 4.0e-323, 4.4e-323]])"
      ]
     },
     "execution_count": 13,
     "metadata": {},
     "output_type": "execute_result"
    }
   ],
   "source": [
    "# 创建全空数组，里面的值接近于零\n",
    "np.empty((2,5))"
   ]
  },
  {
   "cell_type": "code",
   "execution_count": 18,
   "metadata": {},
   "outputs": [
    {
     "data": {
      "text/plain": [
       "array([0. , 0.2, 0.4, 0.6, 0.8, 1. , 1.2, 1.4, 1.6, 1.8, 2. , 2.2, 2.4,\n",
       "       2.6, 2.8, 3. , 3.2, 3.4, 3.6, 3.8, 4. , 4.2, 4.4, 4.6, 4.8, 5. ,\n",
       "       5.2, 5.4, 5.6, 5.8, 6. , 6.2, 6.4, 6.6, 6.8, 7. , 7.2, 7.4, 7.6,\n",
       "       7.8, 8. , 8.2, 8.4, 8.6, 8.8, 9. , 9.2, 9.4, 9.6, 9.8])"
      ]
     },
     "execution_count": 18,
     "metadata": {},
     "output_type": "execute_result"
    }
   ],
   "source": [
    "# 生成连续数值数组,这里支持浮点类型(左闭右开)。而python里不支持浮点.\n",
    "np.arange(0, 10, 0.2)"
   ]
  },
  {
   "cell_type": "markdown",
   "metadata": {},
   "source": [
    "## 数据类型与转化"
   ]
  },
  {
   "cell_type": "code",
   "execution_count": 21,
   "metadata": {},
   "outputs": [
    {
     "data": {
      "text/plain": [
       "dtype('int64')"
      ]
     },
     "execution_count": 21,
     "metadata": {},
     "output_type": "execute_result"
    }
   ],
   "source": [
    "data = np.array([[1,2,3],[4,5,6]])\n",
    "data.dtype"
   ]
  },
  {
   "cell_type": "code",
   "execution_count": 25,
   "metadata": {},
   "outputs": [
    {
     "data": {
      "text/plain": [
       "dtype('float64')"
      ]
     },
     "execution_count": 25,
     "metadata": {},
     "output_type": "execute_result"
    }
   ],
   "source": [
    "data.astype('float64').dtype"
   ]
  },
  {
   "cell_type": "code",
   "execution_count": 28,
   "metadata": {
    "scrolled": true
   },
   "outputs": [
    {
     "data": {
      "text/plain": [
       "dtype('float64')"
      ]
     },
     "execution_count": 28,
     "metadata": {},
     "output_type": "execute_result"
    }
   ],
   "source": [
    "data.astype(np.float64).dtype"
   ]
  },
  {
   "cell_type": "markdown",
   "metadata": {},
   "source": [
    "## 索引和切片\n",
    "### 普通索引与切片"
   ]
  },
  {
   "cell_type": "code",
   "execution_count": 53,
   "metadata": {},
   "outputs": [
    {
     "name": "stdout",
     "output_type": "stream",
     "text": [
      "一维数组******\n",
      "data:  [0 1 2 3 4 5 6 7 8 9]\n",
      "索引2对应的元素:  2\n",
      "索引2~5对应的元素:  [2 3 4]\n",
      "索引2~8,步长为2对应的元素:  [2 4 6]\n",
      "\n",
      "二维数组******\n",
      "data: \n",
      " [[ 0  1  2  3  4]\n",
      " [ 5  6  7  8  9]\n",
      " [10 11 12 13 14]\n",
      " [15 16 17 18 19]\n",
      " [20 21 22 23 24]]\n",
      "data[2,1]:  11\n",
      "data[2:]: \n",
      " [[10 11 12 13 14]\n",
      " [15 16 17 18 19]\n",
      " [20 21 22 23 24]]\n",
      "data[2,:]: \n",
      " [10 11 12 13 14]\n",
      "data[2][0:3]: \n",
      " [10 11 12]\n"
     ]
    }
   ],
   "source": [
    "# 一维数组索引\n",
    "data = np.arange(10)\n",
    "print(u'一维数组******')\n",
    "print(u'data: ', data)\n",
    "print(u'索引2对应的元素: ', data[2])\n",
    "print(u'索引2~5对应的元素: ', data[2:5])\n",
    "print(u'索引2~8,步长为2对应的元素: ', data[2:8:2])\n",
    "\n",
    "# 二维数组索引\n",
    "data = np.arange(25).reshape(5,5)\n",
    "print(u'\\n二维数组******')\n",
    "print(u'data: \\n', data)\n",
    "print(u'data[2,1]: ', data[2,1])\n",
    "print(u'data[2:]: \\n', data[2:])\n",
    "print(u'data[2,:]: \\n', data[2,:])\n",
    "print(u'data[2][0:3]: \\n', data[2][0:3])"
   ]
  },
  {
   "cell_type": "markdown",
   "metadata": {},
   "source": [
    "### 花式索引"
   ]
  },
  {
   "cell_type": "code",
   "execution_count": 70,
   "metadata": {},
   "outputs": [
    {
     "name": "stdout",
     "output_type": "stream",
     "text": [
      "data: \n",
      " [[ 0  1  2  3  4]\n",
      " [ 5  6  7  8  9]\n",
      " [10 11 12 13 14]\n",
      " [15 16 17 18 19]\n",
      " [20 21 22 23 24]]\n",
      "data[[0,2]]: \n",
      " [[ 0  1  2  3  4]\n",
      " [10 11 12 13 14]]\n",
      "data[:][1]: \n",
      " [6]\n"
     ]
    }
   ],
   "source": [
    "data = np.arange(25).reshape(5,5)\n",
    "print(u'data: \\n', data)\n",
    "print(u'data[[0,2]]: \\n', data[[0,2]])  # 第0,2行\n",
    "print(u'data[:][1]: \\n', data[[1],[1]]) # 第1行第1列"
   ]
  },
  {
   "cell_type": "markdown",
   "metadata": {},
   "source": [
    "### 布尔型"
   ]
  },
  {
   "cell_type": "code",
   "execution_count": null,
   "metadata": {},
   "outputs": [],
   "source": [
    "# 待补充"
   ]
  }
 ],
 "metadata": {
  "kernelspec": {
   "display_name": "Python 3",
   "language": "python",
   "name": "python3"
  },
  "language_info": {
   "codemirror_mode": {
    "name": "ipython",
    "version": 3
   },
   "file_extension": ".py",
   "mimetype": "text/x-python",
   "name": "python",
   "nbconvert_exporter": "python",
   "pygments_lexer": "ipython3",
   "version": "3.7.1"
  }
 },
 "nbformat": 4,
 "nbformat_minor": 2
}
