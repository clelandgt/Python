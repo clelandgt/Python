{
 "cells": [
  {
   "cell_type": "markdown",
   "metadata": {},
   "source": [
    "## numpy 简述\n",
    "Numpy(Numeric Python)提高了许多高级的数值编程工具，如：矩阵数据类型、矢量处理、以及精密的运算库。\n",
    "\n",
    "1. python内置的list是无类型的；\n",
    "2. 如需使用有类型的数组可以使用array.array；\n",
    "3. numpy里有array更高效。\n",
    "\n",
    "参考\n",
    "- [Numpy简易入门](https://mp.weixin.qq.com/s/66SLsOBhUMP7qEuPE-BUnw)\n",
    "- [Numpy练习题100题](https://github.com/rougier/numpy-100)\n"
   ]
  },
  {
   "cell_type": "code",
   "execution_count": 3,
   "metadata": {
    "ExecuteTime": {
     "end_time": "2020-06-09T00:09:11.546254Z",
     "start_time": "2020-06-09T00:09:11.241167Z"
    }
   },
   "outputs": [],
   "source": [
    "import numpy as np"
   ]
  },
  {
   "cell_type": "code",
   "execution_count": 2,
   "metadata": {
    "ExecuteTime": {
     "end_time": "2020-06-08T14:01:17.853408Z",
     "start_time": "2020-06-08T14:01:17.836690Z"
    }
   },
   "outputs": [
    {
     "name": "stdout",
     "output_type": "stream",
     "text": [
      "array:  [0 1 2 3 4 5 6 7 8 9]\n",
      "array type:  <class 'numpy.ndarray'>\n",
      "array dtype:  int64\n",
      "array ndim:  1\n",
      "array size:  10\n",
      "array shape:  (10,)\n",
      "array reshape[5, 2]: \n",
      " [[0 1 2 3 4]\n",
      " [5 6 7 8 9]]\n"
     ]
    }
   ],
   "source": [
    "array = np.array(np.arange(10))\n",
    "print('array: ', array)\n",
    "print('array type: ', type(array))\n",
    "print('array dtype: ', array.dtype)\n",
    "print('array ndim: ', array.ndim) # 维度\n",
    "print('array size: ', array.size) # 数组元素的个数\n",
    "print('array shape: ', array.shape)\n",
    "print('array reshape[5, 2]: \\n', array.reshape(2, 5))"
   ]
  },
  {
   "cell_type": "markdown",
   "metadata": {},
   "source": [
    "## 创建Numpy数组\n",
    "### 创建一维数组"
   ]
  },
  {
   "cell_type": "code",
   "execution_count": 3,
   "metadata": {
    "ExecuteTime": {
     "end_time": "2020-06-08T14:01:17.882202Z",
     "start_time": "2020-06-08T14:01:17.864427Z"
    }
   },
   "outputs": [
    {
     "data": {
      "text/plain": [
       "array([ 2, 23,  4,  6,  8,  7], dtype=int32)"
      ]
     },
     "execution_count": 3,
     "metadata": {},
     "output_type": "execute_result"
    }
   ],
   "source": [
    "a = np.array([2,23,4,6,8,7], dtype=np.int32)  # 数据初始化array,可声明dtype的类型，常用int,float\n",
    "a"
   ]
  },
  {
   "cell_type": "markdown",
   "metadata": {},
   "source": [
    "### 创建二维数组(矩阵)"
   ]
  },
  {
   "cell_type": "code",
   "execution_count": 4,
   "metadata": {
    "ExecuteTime": {
     "end_time": "2020-06-08T14:01:17.899727Z",
     "start_time": "2020-06-08T14:01:17.887382Z"
    }
   },
   "outputs": [
    {
     "data": {
      "text/plain": [
       "array([[ 2, 23,  4],\n",
       "       [ 3,  4,  5]])"
      ]
     },
     "execution_count": 4,
     "metadata": {},
     "output_type": "execute_result"
    }
   ],
   "source": [
    "aa = np.array([[2,23,4], [3,4,5]])\n",
    "aa"
   ]
  },
  {
   "cell_type": "code",
   "execution_count": 5,
   "metadata": {
    "ExecuteTime": {
     "end_time": "2020-06-08T14:01:17.916084Z",
     "start_time": "2020-06-08T14:01:17.903784Z"
    }
   },
   "outputs": [
    {
     "data": {
      "text/plain": [
       "array([[ 2, 23,  4],\n",
       "       [ 6,  8,  7]], dtype=int32)"
      ]
     },
     "execution_count": 5,
     "metadata": {},
     "output_type": "execute_result"
    }
   ],
   "source": [
    "# 将一维数组改成二维数组。2*3=6，如果数量不等于6就会报错。\n",
    "a.reshape(2, 3)"
   ]
  },
  {
   "cell_type": "markdown",
   "metadata": {},
   "source": [
    "### 创建特定数组"
   ]
  },
  {
   "cell_type": "code",
   "execution_count": 6,
   "metadata": {
    "ExecuteTime": {
     "end_time": "2020-06-08T14:01:17.932046Z",
     "start_time": "2020-06-08T14:01:17.918576Z"
    }
   },
   "outputs": [
    {
     "data": {
      "text/plain": [
       "array([0. , 0.2, 0.4, 0.6, 0.8, 1. , 1.2, 1.4, 1.6, 1.8, 2. , 2.2, 2.4,\n",
       "       2.6, 2.8, 3. , 3.2, 3.4, 3.6, 3.8, 4. , 4.2, 4.4, 4.6, 4.8, 5. ,\n",
       "       5.2, 5.4, 5.6, 5.8, 6. , 6.2, 6.4, 6.6, 6.8, 7. , 7.2, 7.4, 7.6,\n",
       "       7.8, 8. , 8.2, 8.4, 8.6, 8.8, 9. , 9.2, 9.4, 9.6, 9.8])"
      ]
     },
     "execution_count": 6,
     "metadata": {},
     "output_type": "execute_result"
    }
   ],
   "source": [
    "# 生成连续数值数组,这里支持浮点类型(左闭右开)。而python里不支持浮点.\n",
    "# 起始点，终点，步长\n",
    "np.arange(0, 10, 0.2)"
   ]
  },
  {
   "cell_type": "code",
   "execution_count": 7,
   "metadata": {
    "ExecuteTime": {
     "end_time": "2020-06-08T14:01:17.979382Z",
     "start_time": "2020-06-08T14:01:17.936459Z"
    }
   },
   "outputs": [
    {
     "data": {
      "text/plain": [
       "array([ 0.,  2.,  4.,  6.,  8., 10., 12., 14., 16., 18., 20.])"
      ]
     },
     "execution_count": 7,
     "metadata": {},
     "output_type": "execute_result"
    }
   ],
   "source": [
    "# 和arrage类似，只是这里不是设置步长。\n",
    "# 起始点，终点，分割份数；包括终点\n",
    "np.linspace(0, 20, 11)"
   ]
  },
  {
   "cell_type": "code",
   "execution_count": 8,
   "metadata": {
    "ExecuteTime": {
     "end_time": "2020-06-08T14:01:18.004089Z",
     "start_time": "2020-06-08T14:01:17.987628Z"
    }
   },
   "outputs": [
    {
     "data": {
      "text/plain": [
       "array([[0., 0., 0., 0.],\n",
       "       [0., 0., 0., 0.],\n",
       "       [0., 0., 0., 0.]])"
      ]
     },
     "execution_count": 8,
     "metadata": {},
     "output_type": "execute_result"
    }
   ],
   "source": [
    "# 创建全0的数组\n",
    "np.zeros((3,4))"
   ]
  },
  {
   "cell_type": "code",
   "execution_count": 9,
   "metadata": {
    "ExecuteTime": {
     "end_time": "2020-06-08T14:01:18.041775Z",
     "start_time": "2020-06-08T14:01:18.021801Z"
    }
   },
   "outputs": [
    {
     "data": {
      "text/plain": [
       "array([[1., 1., 1., 1.],\n",
       "       [1., 1., 1., 1.],\n",
       "       [1., 1., 1., 1.]])"
      ]
     },
     "execution_count": 9,
     "metadata": {},
     "output_type": "execute_result"
    }
   ],
   "source": [
    "# 创建全1的数组\n",
    "np.ones((3,4))"
   ]
  },
  {
   "cell_type": "code",
   "execution_count": 10,
   "metadata": {
    "ExecuteTime": {
     "end_time": "2020-06-08T14:01:18.070844Z",
     "start_time": "2020-06-08T14:01:18.056993Z"
    }
   },
   "outputs": [
    {
     "data": {
      "text/plain": [
       "array([[ 2.,  4.,  6.,  8., 10.],\n",
       "       [12., 14., 16., 18., 20.]])"
      ]
     },
     "execution_count": 10,
     "metadata": {},
     "output_type": "execute_result"
    }
   ],
   "source": [
    "# 创建全空数组，里面的值接近于零\n",
    "np.empty((2,5))"
   ]
  },
  {
   "cell_type": "code",
   "execution_count": 11,
   "metadata": {
    "ExecuteTime": {
     "end_time": "2020-06-08T14:01:18.102415Z",
     "start_time": "2020-06-08T14:01:18.080082Z"
    }
   },
   "outputs": [
    {
     "data": {
      "text/plain": [
       "array([[666, 666, 666, 666, 666],\n",
       "       [666, 666, 666, 666, 666],\n",
       "       [666, 666, 666, 666, 666]])"
      ]
     },
     "execution_count": 11,
     "metadata": {},
     "output_type": "execute_result"
    }
   ],
   "source": [
    "# 3*5的矩阵填充666\n",
    "np.full((3,5), 666)"
   ]
  },
  {
   "cell_type": "code",
   "execution_count": 12,
   "metadata": {
    "ExecuteTime": {
     "end_time": "2020-06-08T14:01:18.140006Z",
     "start_time": "2020-06-08T14:01:18.111520Z"
    }
   },
   "outputs": [
    {
     "data": {
      "text/plain": [
       "array([   2.,    4.,    8.,   16.,   32.,   64.,  128.,  256.,  512.,\n",
       "       1024.])"
      ]
     },
     "execution_count": 12,
     "metadata": {},
     "output_type": "execute_result"
    }
   ],
   "source": [
    "# 以2为底，指数为1,2...,10\n",
    "np.logspace(1,10,10, base=2)"
   ]
  },
  {
   "cell_type": "code",
   "execution_count": 13,
   "metadata": {
    "ExecuteTime": {
     "end_time": "2020-06-08T14:01:18.160959Z",
     "start_time": "2020-06-08T14:01:18.148546Z"
    }
   },
   "outputs": [
    {
     "data": {
      "text/plain": [
       "array([[1, 0, 0],\n",
       "       [0, 2, 0],\n",
       "       [0, 0, 3]])"
      ]
     },
     "execution_count": 13,
     "metadata": {},
     "output_type": "execute_result"
    }
   ],
   "source": [
    "# 创建对角数组\n",
    "np.diag([1,2,3])"
   ]
  },
  {
   "cell_type": "code",
   "execution_count": 14,
   "metadata": {
    "ExecuteTime": {
     "end_time": "2020-06-08T14:01:18.185918Z",
     "start_time": "2020-06-08T14:01:18.171890Z"
    }
   },
   "outputs": [
    {
     "data": {
      "text/plain": [
       "array([[0, 1, 0, 0],\n",
       "       [0, 0, 2, 0],\n",
       "       [0, 0, 0, 3],\n",
       "       [0, 0, 0, 0]])"
      ]
     },
     "execution_count": 14,
     "metadata": {},
     "output_type": "execute_result"
    }
   ],
   "source": [
    "# 主对角线偏移1的数组\n",
    "np.diag([1,2,3], k=1)"
   ]
  },
  {
   "cell_type": "markdown",
   "metadata": {},
   "source": [
    "### 随机数"
   ]
  },
  {
   "cell_type": "code",
   "execution_count": 15,
   "metadata": {
    "ExecuteTime": {
     "end_time": "2020-06-08T14:01:18.213380Z",
     "start_time": "2020-06-08T14:01:18.194270Z"
    }
   },
   "outputs": [
    {
     "data": {
      "text/plain": [
       "array([3, 1, 9, 5, 6, 4, 0, 3, 1, 9, 7, 8, 0, 8, 1, 1, 1, 1, 1, 7])"
      ]
     },
     "execution_count": 15,
     "metadata": {},
     "output_type": "execute_result"
    }
   ],
   "source": [
    "# 整数随机\n",
    "np.random.randint(0,10, size=20)"
   ]
  },
  {
   "cell_type": "code",
   "execution_count": 16,
   "metadata": {
    "ExecuteTime": {
     "end_time": "2020-06-08T14:01:18.237175Z",
     "start_time": "2020-06-08T14:01:18.219731Z"
    }
   },
   "outputs": [
    {
     "data": {
      "text/plain": [
       "array([[0.31578505, 0.56741963, 0.99593398, 0.53085863, 0.65105491],\n",
       "       [0.13986837, 0.77489267, 0.04507101, 0.59637248, 0.71395766]])"
      ]
     },
     "execution_count": 16,
     "metadata": {},
     "output_type": "execute_result"
    }
   ],
   "source": [
    "# 0-1的随机数\n",
    "np.random.random((2,5))"
   ]
  },
  {
   "cell_type": "code",
   "execution_count": 17,
   "metadata": {
    "ExecuteTime": {
     "end_time": "2020-06-08T14:01:18.280043Z",
     "start_time": "2020-06-08T14:01:18.256093Z"
    }
   },
   "outputs": [
    {
     "data": {
      "text/plain": [
       "array([ 1.00296476, -0.63799176,  0.28187091,  0.61422251, -0.31410789,\n",
       "        0.81096094, -0.845968  ,  0.36040958,  0.74374277,  1.28427408,\n",
       "       -0.71169611,  0.01389769, -1.3797891 , -0.10498537, -0.31589003,\n",
       "        0.60017846, -0.83360094, -0.47233327, -1.09834707,  0.21010578])"
      ]
     },
     "execution_count": 17,
     "metadata": {},
     "output_type": "execute_result"
    }
   ],
   "source": [
    "# 正态分布\n",
    "np.random.normal(0,1,20)"
   ]
  },
  {
   "cell_type": "code",
   "execution_count": 18,
   "metadata": {
    "ExecuteTime": {
     "end_time": "2020-06-08T14:01:18.300752Z",
     "start_time": "2020-06-08T14:01:18.284707Z"
    }
   },
   "outputs": [
    {
     "data": {
      "text/plain": [
       "array([[7.61797381, 8.19180863, 9.69134351, 8.65022415, 6.13583421],\n",
       "       [9.07230902, 9.33861371, 9.95472495, 7.82668697, 6.44112929],\n",
       "       [8.21394282, 8.2244378 , 8.64578818, 9.04335296, 7.88647697]])"
      ]
     },
     "execution_count": 18,
     "metadata": {},
     "output_type": "execute_result"
    }
   ],
   "source": [
    "# 5~10的数随机浮点数\n",
    "np.random.uniform(5, 10, size=(3,5))"
   ]
  },
  {
   "cell_type": "code",
   "execution_count": 19,
   "metadata": {
    "ExecuteTime": {
     "end_time": "2020-06-08T14:01:18.318738Z",
     "start_time": "2020-06-08T14:01:18.306032Z"
    }
   },
   "outputs": [
    {
     "data": {
      "text/plain": [
       "array([[0.5488135 , 0.71518937, 0.60276338],\n",
       "       [0.54488318, 0.4236548 , 0.64589411],\n",
       "       [0.43758721, 0.891773  , 0.96366276]])"
      ]
     },
     "execution_count": 19,
     "metadata": {},
     "output_type": "execute_result"
    }
   ],
   "source": [
    "# 伪随机数(计算机里都是伪随机数)\n",
    "np.random.seed(0) # 随机种子\n",
    "np.random.rand(3,3)"
   ]
  },
  {
   "cell_type": "markdown",
   "metadata": {},
   "source": [
    "## 改变数组"
   ]
  },
  {
   "cell_type": "markdown",
   "metadata": {},
   "source": [
    "### repeat\n",
    "实现某一维上的元素复制操作"
   ]
  },
  {
   "cell_type": "code",
   "execution_count": 20,
   "metadata": {
    "ExecuteTime": {
     "end_time": "2020-06-08T14:01:18.340507Z",
     "start_time": "2020-06-08T14:01:18.331148Z"
    }
   },
   "outputs": [],
   "source": [
    "a = np.array([[1,2],[3,4]])"
   ]
  },
  {
   "cell_type": "code",
   "execution_count": 21,
   "metadata": {
    "ExecuteTime": {
     "end_time": "2020-06-08T14:01:18.367474Z",
     "start_time": "2020-06-08T14:01:18.349111Z"
    }
   },
   "outputs": [
    {
     "data": {
      "text/plain": [
       "array([[1, 2],\n",
       "       [1, 2],\n",
       "       [3, 4],\n",
       "       [3, 4]])"
      ]
     },
     "execution_count": 21,
     "metadata": {},
     "output_type": "execute_result"
    }
   ],
   "source": [
    "# 在维度0上复制元素2次\n",
    "np.repeat(a, 2, axis=0)"
   ]
  },
  {
   "cell_type": "code",
   "execution_count": 22,
   "metadata": {
    "ExecuteTime": {
     "end_time": "2020-06-08T14:01:18.404630Z",
     "start_time": "2020-06-08T14:01:18.379214Z"
    }
   },
   "outputs": [
    {
     "data": {
      "text/plain": [
       "array([[1, 1, 2, 2],\n",
       "       [3, 3, 4, 4]])"
      ]
     },
     "execution_count": 22,
     "metadata": {},
     "output_type": "execute_result"
    }
   ],
   "source": [
    "# 在维度1上复制元素2次\n",
    "np.repeat(a, 2, axis=1)"
   ]
  },
  {
   "cell_type": "markdown",
   "metadata": {},
   "source": [
    "### tile函数\n",
    "找到矩阵的最小单位，然后title使用最小单位组织成目标矩阵。"
   ]
  },
  {
   "cell_type": "code",
   "execution_count": 23,
   "metadata": {
    "ExecuteTime": {
     "end_time": "2020-06-08T14:01:18.419286Z",
     "start_time": "2020-06-08T14:01:18.409987Z"
    }
   },
   "outputs": [
    {
     "data": {
      "text/plain": [
       "array([0, 1, 0, 1, 0, 1, 0, 1, 0, 1])"
      ]
     },
     "execution_count": 23,
     "metadata": {},
     "output_type": "execute_result"
    }
   ],
   "source": [
    "# 一维：将[0,1]横向复制5次\n",
    "np.tile([0,1], 5)"
   ]
  },
  {
   "cell_type": "code",
   "execution_count": 24,
   "metadata": {
    "ExecuteTime": {
     "end_time": "2020-06-08T14:01:18.437216Z",
     "start_time": "2020-06-08T14:01:18.423672Z"
    }
   },
   "outputs": [
    {
     "data": {
      "text/plain": [
       "array([[1, 0, 1, 0, 1, 0, 1, 0],\n",
       "       [0, 1, 0, 1, 0, 1, 0, 1],\n",
       "       [1, 0, 1, 0, 1, 0, 1, 0],\n",
       "       [0, 1, 0, 1, 0, 1, 0, 1],\n",
       "       [1, 0, 1, 0, 1, 0, 1, 0],\n",
       "       [0, 1, 0, 1, 0, 1, 0, 1],\n",
       "       [1, 0, 1, 0, 1, 0, 1, 0],\n",
       "       [0, 1, 0, 1, 0, 1, 0, 1]])"
      ]
     },
     "execution_count": 24,
     "metadata": {},
     "output_type": "execute_result"
    }
   ],
   "source": [
    "# 二维：构建8*8棋盘。棋盘的最小单位是2*2矩阵[[1,0],[0,1]]，将其复制按照行和列分别复制4次即可(1代表黑格，0代表白格)\n",
    "np.tile([[1,0],[0,1]], [4,4])"
   ]
  },
  {
   "cell_type": "markdown",
   "metadata": {},
   "source": [
    "### flatten函数\n",
    "改变shape，将高维数组拍成向量。但是，它会发生数组复制行为"
   ]
  },
  {
   "cell_type": "code",
   "execution_count": 25,
   "metadata": {
    "ExecuteTime": {
     "end_time": "2020-06-08T14:01:18.455487Z",
     "start_time": "2020-06-08T14:01:18.443189Z"
    }
   },
   "outputs": [
    {
     "data": {
      "text/plain": [
       "array([[2, 7, 8],\n",
       "       [8, 9, 2]])"
      ]
     },
     "execution_count": 25,
     "metadata": {},
     "output_type": "execute_result"
    }
   ],
   "source": [
    "v1 = np.random.randint(1,10,(2,3))\n",
    "v1"
   ]
  },
  {
   "cell_type": "code",
   "execution_count": 26,
   "metadata": {
    "ExecuteTime": {
     "end_time": "2020-06-08T14:01:18.472890Z",
     "start_time": "2020-06-08T14:01:18.462548Z"
    }
   },
   "outputs": [
    {
     "data": {
      "text/plain": [
       "array([2, 7, 8, 8, 9, 2])"
      ]
     },
     "execution_count": 26,
     "metadata": {},
     "output_type": "execute_result"
    }
   ],
   "source": [
    "# 法一\n",
    "v2 = v1.flatten()\n",
    "v2"
   ]
  },
  {
   "cell_type": "code",
   "execution_count": 27,
   "metadata": {
    "ExecuteTime": {
     "end_time": "2020-06-08T14:01:18.500417Z",
     "start_time": "2020-06-08T14:01:18.488362Z"
    }
   },
   "outputs": [
    {
     "data": {
      "text/plain": [
       "array([[2, 7, 8, 8, 9, 2]])"
      ]
     },
     "execution_count": 27,
     "metadata": {},
     "output_type": "execute_result"
    }
   ],
   "source": [
    "# 法二\n",
    "v1.reshape(1,6)"
   ]
  },
  {
   "cell_type": "markdown",
   "metadata": {},
   "source": [
    "### vstack\n",
    "沿竖直方向合并多个数组"
   ]
  },
  {
   "cell_type": "code",
   "execution_count": 28,
   "metadata": {
    "ExecuteTime": {
     "end_time": "2020-06-08T14:01:18.522682Z",
     "start_time": "2020-06-08T14:01:18.509516Z"
    }
   },
   "outputs": [
    {
     "data": {
      "text/plain": [
       "array([[1, 2],\n",
       "       [3, 4],\n",
       "       [4, 5]])"
      ]
     },
     "execution_count": 28,
     "metadata": {},
     "output_type": "execute_result"
    }
   ],
   "source": [
    "# 法一\n",
    "a = np.array([[1,2],[3,4]])\n",
    "b = np.array([[4,5]])\n",
    "np.vstack([a, b])\n"
   ]
  },
  {
   "cell_type": "code",
   "execution_count": 29,
   "metadata": {
    "ExecuteTime": {
     "end_time": "2020-06-08T14:01:18.539271Z",
     "start_time": "2020-06-08T14:01:18.526592Z"
    }
   },
   "outputs": [
    {
     "data": {
      "text/plain": [
       "array([[1, 2],\n",
       "       [3, 4],\n",
       "       [4, 5]])"
      ]
     },
     "execution_count": 29,
     "metadata": {},
     "output_type": "execute_result"
    }
   ],
   "source": [
    "# 法二\n",
    "np.concatenate((a,b),axis=0)"
   ]
  },
  {
   "cell_type": "markdown",
   "metadata": {
    "ExecuteTime": {
     "end_time": "2020-06-08T13:56:09.271007Z",
     "start_time": "2020-06-08T13:56:09.265757Z"
    }
   },
   "source": [
    "### hstack"
   ]
  },
  {
   "cell_type": "code",
   "execution_count": 30,
   "metadata": {
    "ExecuteTime": {
     "end_time": "2020-06-08T14:01:18.559168Z",
     "start_time": "2020-06-08T14:01:18.543745Z"
    }
   },
   "outputs": [
    {
     "data": {
      "text/plain": [
       "array([[1, 2, 6, 7],\n",
       "       [3, 4, 8, 9]])"
      ]
     },
     "execution_count": 30,
     "metadata": {},
     "output_type": "execute_result"
    }
   ],
   "source": [
    "# 法一\n",
    "a = np.array([[1,2],[3,4]])\n",
    "b = np.array([[6,7], [8,9]])\n",
    "np.hstack([a, b])\n"
   ]
  },
  {
   "cell_type": "code",
   "execution_count": 31,
   "metadata": {
    "ExecuteTime": {
     "end_time": "2020-06-08T14:01:18.576193Z",
     "start_time": "2020-06-08T14:01:18.567344Z"
    }
   },
   "outputs": [
    {
     "data": {
      "text/plain": [
       "array([[1, 2, 6, 7],\n",
       "       [3, 4, 8, 9]])"
      ]
     },
     "execution_count": 31,
     "metadata": {},
     "output_type": "execute_result"
    }
   ],
   "source": [
    "# 法二\n",
    "np.concatenate((a,b),axis=1)"
   ]
  },
  {
   "cell_type": "markdown",
   "metadata": {},
   "source": [
    "## 数据类型与转化"
   ]
  },
  {
   "cell_type": "code",
   "execution_count": 4,
   "metadata": {
    "ExecuteTime": {
     "end_time": "2020-06-09T00:09:16.172952Z",
     "start_time": "2020-06-09T00:09:16.160137Z"
    }
   },
   "outputs": [
    {
     "data": {
      "text/plain": [
       "dtype('int64')"
      ]
     },
     "execution_count": 4,
     "metadata": {},
     "output_type": "execute_result"
    }
   ],
   "source": [
    "data = np.array([[1,2,3],[4,5,6]])\n",
    "data.dtype"
   ]
  },
  {
   "cell_type": "code",
   "execution_count": 5,
   "metadata": {
    "ExecuteTime": {
     "end_time": "2020-06-09T00:09:19.866476Z",
     "start_time": "2020-06-09T00:09:19.858100Z"
    }
   },
   "outputs": [
    {
     "data": {
      "text/plain": [
       "dtype('float64')"
      ]
     },
     "execution_count": 5,
     "metadata": {},
     "output_type": "execute_result"
    }
   ],
   "source": [
    "data.astype('float64').dtype"
   ]
  },
  {
   "cell_type": "code",
   "execution_count": 6,
   "metadata": {
    "ExecuteTime": {
     "end_time": "2020-06-09T00:09:21.277139Z",
     "start_time": "2020-06-09T00:09:21.265184Z"
    },
    "scrolled": true
   },
   "outputs": [
    {
     "data": {
      "text/plain": [
       "dtype('float64')"
      ]
     },
     "execution_count": 6,
     "metadata": {},
     "output_type": "execute_result"
    }
   ],
   "source": [
    "data.astype(np.float64, copy=False).dtype"
   ]
  },
  {
   "cell_type": "markdown",
   "metadata": {},
   "source": [
    "## 索引和切片\n",
    "### 普通索引与切片"
   ]
  },
  {
   "cell_type": "code",
   "execution_count": 35,
   "metadata": {
    "ExecuteTime": {
     "end_time": "2020-06-08T14:01:18.653277Z",
     "start_time": "2020-06-08T14:01:18.632510Z"
    }
   },
   "outputs": [
    {
     "name": "stdout",
     "output_type": "stream",
     "text": [
      "一维数组******\n",
      "data:  [0 1 2 3 4 5 6 7 8 9]\n",
      "索引2对应的元素:  2\n",
      "索引2~5对应的元素:  [2 3 4]\n",
      "索引2~8,步长为2对应的元素:  [2 4 6]\n",
      "\n",
      "二维数组******\n",
      "data: \n",
      " [[ 0  1  2  3  4]\n",
      " [ 5  6  7  8  9]\n",
      " [10 11 12 13 14]\n",
      " [15 16 17 18 19]\n",
      " [20 21 22 23 24]]\n",
      "data[2,1]:  11\n",
      "data[2:]: \n",
      " [[10 11 12 13 14]\n",
      " [15 16 17 18 19]\n",
      " [20 21 22 23 24]]\n",
      "data[2,:]: \n",
      " [10 11 12 13 14]\n",
      "data[2][0:3]: \n",
      " [10 11 12]\n"
     ]
    }
   ],
   "source": [
    "# 一维数组索引\n",
    "data = np.arange(10)\n",
    "print(u'一维数组******')\n",
    "print(u'data: ', data)\n",
    "print(u'索引2对应的元素: ', data[2])\n",
    "print(u'索引2~5对应的元素: ', data[2:5])\n",
    "print(u'索引2~8,步长为2对应的元素: ', data[2:8:2])\n",
    "\n",
    "# 二维数组索引\n",
    "data = np.arange(25).reshape(5,5)\n",
    "print(u'\\n二维数组******')\n",
    "print(u'data: \\n', data)\n",
    "print(u'data[2,1]: ', data[2,1])\n",
    "print(u'data[2:]: \\n', data[2:])\n",
    "print(u'data[2,:]: \\n', data[2,:])\n",
    "print(u'data[2][0:3]: \\n', data[2][0:3])"
   ]
  },
  {
   "cell_type": "markdown",
   "metadata": {},
   "source": [
    "### 花式索引"
   ]
  },
  {
   "cell_type": "code",
   "execution_count": 36,
   "metadata": {
    "ExecuteTime": {
     "end_time": "2020-06-08T14:01:18.697093Z",
     "start_time": "2020-06-08T14:01:18.667770Z"
    }
   },
   "outputs": [
    {
     "name": "stdout",
     "output_type": "stream",
     "text": [
      "data: \n",
      " [[ 0  1  2  3  4]\n",
      " [ 5  6  7  8  9]\n",
      " [10 11 12 13 14]\n",
      " [15 16 17 18 19]\n",
      " [20 21 22 23 24]]\n",
      "data[[0,2]]: \n",
      " [[ 0  1  2  3  4]\n",
      " [10 11 12 13 14]]\n",
      "data[:][1]: \n",
      " [6]\n"
     ]
    }
   ],
   "source": [
    "data = np.arange(25).reshape(5,5)\n",
    "# 设置数组是只读\n",
    "data.flags.writeable = False\n",
    "print(u'data: \\n', data)\n",
    "print(u'data[[0,2]]: \\n', data[[0,2]])  # 第0,2行\n",
    "print(u'data[:][1]: \\n', data[[1],[1]]) # 第1行第1列"
   ]
  },
  {
   "cell_type": "markdown",
   "metadata": {},
   "source": [
    "### 布尔型\n",
    "支持布尔型按照条件筛选"
   ]
  },
  {
   "cell_type": "code",
   "execution_count": 37,
   "metadata": {
    "ExecuteTime": {
     "end_time": "2020-06-08T14:01:18.737355Z",
     "start_time": "2020-06-08T14:01:18.707424Z"
    }
   },
   "outputs": [
    {
     "data": {
      "text/plain": [
       "array([[ 1,  2,  3,  4,  5],\n",
       "       [ 6,  7,  8,  9, 10],\n",
       "       [11, 12, 13, 14, 15],\n",
       "       [16, 17, 18, 19, 20],\n",
       "       [21, 22, 23, 24, 25]])"
      ]
     },
     "execution_count": 37,
     "metadata": {},
     "output_type": "execute_result"
    }
   ],
   "source": [
    "data = np.arange(1, 26).reshape(5,5)\n",
    "data"
   ]
  },
  {
   "cell_type": "code",
   "execution_count": 38,
   "metadata": {
    "ExecuteTime": {
     "end_time": "2020-06-08T14:01:18.764983Z",
     "start_time": "2020-06-08T14:01:18.749732Z"
    }
   },
   "outputs": [
    {
     "data": {
      "text/plain": [
       "array([15, 16, 17, 18, 19, 20])"
      ]
     },
     "execution_count": 38,
     "metadata": {},
     "output_type": "execute_result"
    }
   ],
   "source": [
    "# 筛选15~20之间的数据\n",
    "data[(data>=15) & (data<=20)]"
   ]
  },
  {
   "cell_type": "markdown",
   "metadata": {},
   "source": [
    "### 查找第n个元素对应的位置"
   ]
  },
  {
   "cell_type": "code",
   "execution_count": 39,
   "metadata": {
    "ExecuteTime": {
     "end_time": "2020-06-08T14:01:18.786079Z",
     "start_time": "2020-06-08T14:01:18.775348Z"
    }
   },
   "outputs": [
    {
     "data": {
      "text/plain": [
       "(1, 5, 4)"
      ]
     },
     "execution_count": 39,
     "metadata": {},
     "output_type": "execute_result"
    }
   ],
   "source": [
    "# 查找6*7*8的数组，第100个元素对应的位置，默认是按行查找\n",
    "np.unravel_index(100, (6,7,8), order='C')"
   ]
  },
  {
   "cell_type": "code",
   "execution_count": 40,
   "metadata": {
    "ExecuteTime": {
     "end_time": "2020-06-08T14:01:18.804711Z",
     "start_time": "2020-06-08T14:01:18.792067Z"
    }
   },
   "outputs": [
    {
     "data": {
      "text/plain": [
       "(4, 2, 2)"
      ]
     },
     "execution_count": 40,
     "metadata": {},
     "output_type": "execute_result"
    }
   ],
   "source": [
    "# 按照列查找\n",
    "np.unravel_index(100, (6,7,8), order='F')"
   ]
  },
  {
   "cell_type": "markdown",
   "metadata": {},
   "source": [
    "## 合并与分割"
   ]
  },
  {
   "cell_type": "markdown",
   "metadata": {},
   "source": [
    "### 合并"
   ]
  },
  {
   "cell_type": "code",
   "execution_count": 41,
   "metadata": {
    "ExecuteTime": {
     "end_time": "2020-06-08T14:01:18.823803Z",
     "start_time": "2020-06-08T14:01:18.810021Z"
    }
   },
   "outputs": [
    {
     "data": {
      "text/plain": [
       "array([0, 1, 2, 3, 4, 5, 6, 7, 8, 9])"
      ]
     },
     "execution_count": 41,
     "metadata": {},
     "output_type": "execute_result"
    }
   ],
   "source": [
    "# 一维数组合并\n",
    "data1 = np.array([0,1,2,3,4])\n",
    "data2 = np.array([5,6,7,8,9])\n",
    "np.concatenate([data1, data2])"
   ]
  },
  {
   "cell_type": "code",
   "execution_count": 42,
   "metadata": {
    "ExecuteTime": {
     "end_time": "2020-06-08T14:01:18.846854Z",
     "start_time": "2020-06-08T14:01:18.833472Z"
    }
   },
   "outputs": [
    {
     "data": {
      "text/plain": [
       "array([[ 0,  1,  2, 10, 11, 12],\n",
       "       [ 3,  4,  5, 13, 14, 15]])"
      ]
     },
     "execution_count": 42,
     "metadata": {},
     "output_type": "execute_result"
    }
   ],
   "source": [
    "# 二维数组合并 numpy.concatenate((a1, a2, ...), axis=0, out=None).axis=0为行，axis=1为列。\n",
    "data1 = np.arange(0,6).reshape(2,3)\n",
    "data2 = np.arange(10,16).reshape(2,3)\n",
    "\n",
    "np.concatenate([data1, data2], axis=0)\n",
    "np.concatenate([data1, data2], axis=1)"
   ]
  },
  {
   "cell_type": "markdown",
   "metadata": {},
   "source": [
    "## 分割"
   ]
  },
  {
   "cell_type": "code",
   "execution_count": 43,
   "metadata": {
    "ExecuteTime": {
     "end_time": "2020-06-08T14:01:18.861683Z",
     "start_time": "2020-06-08T14:01:18.850686Z"
    }
   },
   "outputs": [
    {
     "data": {
      "text/plain": [
       "array([[ 0,  1,  2,  3,  4],\n",
       "       [ 5,  6,  7,  8,  9],\n",
       "       [10, 11, 12, 13, 14],\n",
       "       [15, 16, 17, 18, 19],\n",
       "       [20, 21, 22, 23, 24]])"
      ]
     },
     "execution_count": 43,
     "metadata": {},
     "output_type": "execute_result"
    }
   ],
   "source": [
    "data = np.arange(0,25).reshape(5,5)\n",
    "data"
   ]
  },
  {
   "cell_type": "code",
   "execution_count": 44,
   "metadata": {
    "ExecuteTime": {
     "end_time": "2020-06-08T14:01:18.880566Z",
     "start_time": "2020-06-08T14:01:18.870240Z"
    }
   },
   "outputs": [
    {
     "name": "stdout",
     "output_type": "stream",
     "text": [
      "upper: \n",
      " [[0 1 2 3 4]\n",
      " [5 6 7 8 9]]\n",
      "lower: \n",
      " [[10 11 12 13 14]\n",
      " [15 16 17 18 19]\n",
      " [20 21 22 23 24]]\n"
     ]
    }
   ],
   "source": [
    "# 按行分割\n",
    "upper, lower = np.vsplit(data, [2])\n",
    "print('upper: \\n', upper)\n",
    "print('lower: \\n', lower)"
   ]
  },
  {
   "cell_type": "code",
   "execution_count": 45,
   "metadata": {
    "ExecuteTime": {
     "end_time": "2020-06-08T14:01:18.897989Z",
     "start_time": "2020-06-08T14:01:18.886240Z"
    }
   },
   "outputs": [
    {
     "name": "stdout",
     "output_type": "stream",
     "text": [
      "left: \n",
      " [[ 0  1]\n",
      " [ 5  6]\n",
      " [10 11]\n",
      " [15 16]\n",
      " [20 21]]\n",
      "right: \n",
      " [[ 2  3  4]\n",
      " [ 7  8  9]\n",
      " [12 13 14]\n",
      " [17 18 19]\n",
      " [22 23 24]]\n"
     ]
    }
   ],
   "source": [
    "# 按列分割\n",
    "left, right = np.hsplit(data, [2])\n",
    "print('left: \\n', left)\n",
    "print('right: \\n', right)"
   ]
  },
  {
   "cell_type": "markdown",
   "metadata": {},
   "source": [
    "## 其他"
   ]
  },
  {
   "cell_type": "markdown",
   "metadata": {},
   "source": [
    "### 逆序"
   ]
  },
  {
   "cell_type": "code",
   "execution_count": 46,
   "metadata": {
    "ExecuteTime": {
     "end_time": "2020-06-08T14:01:18.914390Z",
     "start_time": "2020-06-08T14:01:18.903273Z"
    }
   },
   "outputs": [
    {
     "name": "stdout",
     "output_type": "stream",
     "text": [
      "data: \n",
      " [0 1 2 3 4 5 6 7 8 9]\n",
      "reverse_data: \n",
      " [9 8 7 6 5 4 3 2 1 0]\n"
     ]
    }
   ],
   "source": [
    "data = np.arange(10)\n",
    "reverse_data = data[::-1]\n",
    "print('data: \\n', data)\n",
    "print('reverse_data: \\n', reverse_data)"
   ]
  },
  {
   "cell_type": "markdown",
   "metadata": {},
   "source": [
    "### 排序"
   ]
  },
  {
   "cell_type": "markdown",
   "metadata": {},
   "source": [
    "### 转置"
   ]
  },
  {
   "cell_type": "markdown",
   "metadata": {},
   "source": [
    "### 对角线"
   ]
  },
  {
   "cell_type": "code",
   "execution_count": 47,
   "metadata": {
    "ExecuteTime": {
     "end_time": "2020-06-08T14:01:18.931944Z",
     "start_time": "2020-06-08T14:01:18.919710Z"
    }
   },
   "outputs": [
    {
     "name": "stdout",
     "output_type": "stream",
     "text": [
      "data: \n",
      " [[0 1 2]\n",
      " [3 4 5]\n",
      " [6 7 8]]\n",
      "对角线 \n",
      " [0 4 8]\n",
      "对角线之上1个单位的元素 \n",
      " [1 5]\n",
      "对角线之下1个单位的元素 \n",
      " [3 7]\n"
     ]
    }
   ],
   "source": [
    "data = np.arange(9).reshape(3,3)\n",
    "print('data: \\n', data)\n",
    "\n",
    "print(u'对角线 \\n', np.diag(data))\n",
    "print(u'对角线之上1个单位的元素 \\n', np.diag(data, k=1))\n",
    "print(u'对角线之下1个单位的元素 \\n', np.diag(data, k=-1))"
   ]
  },
  {
   "cell_type": "markdown",
   "metadata": {},
   "source": [
    "## 多种取整方式"
   ]
  },
  {
   "cell_type": "code",
   "execution_count": 48,
   "metadata": {
    "ExecuteTime": {
     "end_time": "2020-06-08T14:01:18.954829Z",
     "start_time": "2020-06-08T14:01:18.939476Z"
    }
   },
   "outputs": [
    {
     "name": "stdout",
     "output_type": "stream",
     "text": [
      "data: \n",
      " [ 8.51193277 -8.57927884 -8.25741401 -9.59563205  6.65239691  5.56313502\n",
      "  7.40024296  9.57236684  5.98317128 -0.77041275]\n",
      "截取整数部分:  [ 8. -8. -8. -9.  6.  5.  7.  9.  5. -0.]\n",
      "向上取整:  [ 9. -8. -8. -9.  7.  6.  8. 10.  6. -0.]\n",
      "向下取整:  [  8.  -9.  -9. -10.   6.   5.   7.   9.   5.  -1.]\n",
      "四舍五入取整:  [  9.  -9.  -8. -10.   7.   6.   7.  10.   6.  -1.]\n"
     ]
    }
   ],
   "source": [
    "data = np.random.uniform(-10,10,10)\n",
    "print('data: \\n', data)\n",
    "print(u'截取整数部分: ', np.trunc(data))\n",
    "print(u'向上取整: ', np.ceil(data))\n",
    "print(u'向下取整: ', np.floor(data))\n",
    "print(u'四舍五入取整: ', np.rint(data))"
   ]
  }
 ],
 "metadata": {
  "kernelspec": {
   "display_name": "Python 3",
   "language": "python",
   "name": "python3"
  },
  "language_info": {
   "codemirror_mode": {
    "name": "ipython",
    "version": 3
   },
   "file_extension": ".py",
   "mimetype": "text/x-python",
   "name": "python",
   "nbconvert_exporter": "python",
   "pygments_lexer": "ipython3",
   "version": "3.7.1"
  },
  "toc": {
   "base_numbering": 1,
   "nav_menu": {},
   "number_sections": true,
   "sideBar": true,
   "skip_h1_title": false,
   "title_cell": "Table of Contents",
   "title_sidebar": "Contents",
   "toc_cell": false,
   "toc_position": {},
   "toc_section_display": true,
   "toc_window_display": true
  }
 },
 "nbformat": 4,
 "nbformat_minor": 2
}
