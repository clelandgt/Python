{
 "cells": [
  {
   "cell_type": "markdown",
   "metadata": {},
   "source": [
    "## numpy 简述\n",
    "\n",
    "1. python内置的list是无类型的；\n",
    "2. 如需使用有类型的数组可以使用array.array；\n",
    "3. numpy里有array更高效。"
   ]
  },
  {
   "cell_type": "code",
   "execution_count": 8,
   "metadata": {},
   "outputs": [],
   "source": [
    "import numpy as np\n"
   ]
  },
  {
   "cell_type": "code",
   "execution_count": 28,
   "metadata": {},
   "outputs": [
    {
     "name": "stdout",
     "output_type": "stream",
     "text": [
      "array:  [0 1 2 3 4 5 6 7 8 9]\n",
      "array type:  <class 'numpy.ndarray'>\n",
      "array ndim:  1\n",
      "array size:  10\n",
      "array shape:  (10,)\n",
      "array reshape[5, 2]: \n",
      " [[0 1 2 3 4]\n",
      " [5 6 7 8 9]]\n"
     ]
    }
   ],
   "source": [
    "array = np.array(np.arange(10))\n",
    "print('array: ', array)\n",
    "print('array type: ', type(array))\n",
    "print('array ndim: ', array.ndim) # 维度\n",
    "print('array size: ', array.size)\n",
    "print('array shape: ', array.shape)\n",
    "print('array reshape[5, 2]: \\n', array.reshape(2, 5))"
   ]
  },
  {
   "cell_type": "markdown",
   "metadata": {},
   "source": [
    "## 常用函数"
   ]
  },
  {
   "cell_type": "code",
   "execution_count": null,
   "metadata": {},
   "outputs": [],
   "source": []
  }
 ],
 "metadata": {
  "kernelspec": {
   "display_name": "Python 3",
   "language": "python",
   "name": "python3"
  },
  "language_info": {
   "codemirror_mode": {
    "name": "ipython",
    "version": 3
   },
   "file_extension": ".py",
   "mimetype": "text/x-python",
   "name": "python",
   "nbconvert_exporter": "python",
   "pygments_lexer": "ipython3",
   "version": "3.7.1"
  }
 },
 "nbformat": 4,
 "nbformat_minor": 2
}
