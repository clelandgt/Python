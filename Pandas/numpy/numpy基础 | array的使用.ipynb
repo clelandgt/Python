{
 "cells": [
  {
   "cell_type": "markdown",
   "metadata": {},
   "source": [
    "## numpy 简述\n",
    "Numpy(Numeric Python)提高了许多高级的数值编程工具，如：矩阵数据类型、矢量处理、以及精密的运算库。\n",
    "\n",
    "1. python内置的list是无类型的；\n",
    "2. 如需使用有类型的数组可以使用array.array；\n",
    "3. numpy里有array更高效。\n",
    "\n",
    "参考\n",
    "- [Numpy简易入门](https://mp.weixin.qq.com/s/66SLsOBhUMP7qEuPE-BUnw)\n",
    "- [Numpy练习题100题](https://github.com/rougier/numpy-100)\n"
   ]
  },
  {
   "cell_type": "code",
   "execution_count": 1,
   "metadata": {
    "ExecuteTime": {
     "end_time": "2020-06-07T23:54:19.311947Z",
     "start_time": "2020-06-07T23:54:18.779516Z"
    }
   },
   "outputs": [],
   "source": [
    "import numpy as np\n"
   ]
  },
  {
   "cell_type": "code",
   "execution_count": 2,
   "metadata": {
    "ExecuteTime": {
     "end_time": "2020-06-07T23:54:19.362909Z",
     "start_time": "2020-06-07T23:54:19.329239Z"
    }
   },
   "outputs": [
    {
     "name": "stdout",
     "output_type": "stream",
     "text": [
      "array:  [0 1 2 3 4 5 6 7 8 9]\n",
      "array type:  <class 'numpy.ndarray'>\n",
      "array dtype:  int64\n",
      "array ndim:  1\n",
      "array size:  10\n",
      "array shape:  (10,)\n",
      "array reshape[5, 2]: \n",
      " [[0 1 2 3 4]\n",
      " [5 6 7 8 9]]\n"
     ]
    }
   ],
   "source": [
    "array = np.array(np.arange(10))\n",
    "print('array: ', array)\n",
    "print('array type: ', type(array))\n",
    "print('array dtype: ', array.dtype)\n",
    "print('array ndim: ', array.ndim) # 维度\n",
    "print('array size: ', array.size) # 数组元素的个数\n",
    "print('array shape: ', array.shape)\n",
    "print('array reshape[5, 2]: \\n', array.reshape(2, 5))"
   ]
  },
  {
   "cell_type": "markdown",
   "metadata": {},
   "source": [
    "## 创建Numpy数组\n",
    "### 创建一维数组"
   ]
  },
  {
   "cell_type": "code",
   "execution_count": 3,
   "metadata": {
    "ExecuteTime": {
     "end_time": "2020-06-07T23:54:19.502774Z",
     "start_time": "2020-06-07T23:54:19.465870Z"
    }
   },
   "outputs": [
    {
     "data": {
      "text/plain": [
       "array([ 2, 23,  4,  6,  8,  7], dtype=int32)"
      ]
     },
     "execution_count": 3,
     "metadata": {},
     "output_type": "execute_result"
    }
   ],
   "source": [
    "a = np.array([2,23,4,6,8,7], dtype=np.int32)  # 数据初始化array,可声明dtype的类型，常用int,float\n",
    "a"
   ]
  },
  {
   "cell_type": "markdown",
   "metadata": {},
   "source": [
    "### 创建二维数组(矩阵)"
   ]
  },
  {
   "cell_type": "code",
   "execution_count": 4,
   "metadata": {
    "ExecuteTime": {
     "end_time": "2020-06-07T23:54:19.544187Z",
     "start_time": "2020-06-07T23:54:19.514063Z"
    }
   },
   "outputs": [
    {
     "data": {
      "text/plain": [
       "array([[ 2, 23,  4],\n",
       "       [ 3,  4,  5]])"
      ]
     },
     "execution_count": 4,
     "metadata": {},
     "output_type": "execute_result"
    }
   ],
   "source": [
    "aa = np.array([[2,23,4], [3,4,5]])\n",
    "aa"
   ]
  },
  {
   "cell_type": "code",
   "execution_count": 5,
   "metadata": {
    "ExecuteTime": {
     "end_time": "2020-06-07T23:54:19.577681Z",
     "start_time": "2020-06-07T23:54:19.562933Z"
    }
   },
   "outputs": [
    {
     "data": {
      "text/plain": [
       "array([[ 2, 23,  4],\n",
       "       [ 6,  8,  7]], dtype=int32)"
      ]
     },
     "execution_count": 5,
     "metadata": {},
     "output_type": "execute_result"
    }
   ],
   "source": [
    "# 将一维数组改成二维数组。2*3=6，如果数量不等于6就会报错。\n",
    "a.reshape(2, 3)"
   ]
  },
  {
   "cell_type": "markdown",
   "metadata": {},
   "source": [
    "### 创建特定数组"
   ]
  },
  {
   "cell_type": "code",
   "execution_count": 10,
   "metadata": {
    "ExecuteTime": {
     "end_time": "2020-06-07T23:54:19.715655Z",
     "start_time": "2020-06-07T23:54:19.704449Z"
    }
   },
   "outputs": [
    {
     "data": {
      "text/plain": [
       "array([0. , 0.2, 0.4, 0.6, 0.8, 1. , 1.2, 1.4, 1.6, 1.8, 2. , 2.2, 2.4,\n",
       "       2.6, 2.8, 3. , 3.2, 3.4, 3.6, 3.8, 4. , 4.2, 4.4, 4.6, 4.8, 5. ,\n",
       "       5.2, 5.4, 5.6, 5.8, 6. , 6.2, 6.4, 6.6, 6.8, 7. , 7.2, 7.4, 7.6,\n",
       "       7.8, 8. , 8.2, 8.4, 8.6, 8.8, 9. , 9.2, 9.4, 9.6, 9.8])"
      ]
     },
     "execution_count": 10,
     "metadata": {},
     "output_type": "execute_result"
    }
   ],
   "source": [
    "# 生成连续数值数组,这里支持浮点类型(左闭右开)。而python里不支持浮点.\n",
    "# 起始点，终点，步长\n",
    "np.arange(0, 10, 0.2)"
   ]
  },
  {
   "cell_type": "code",
   "execution_count": 11,
   "metadata": {
    "ExecuteTime": {
     "end_time": "2020-06-07T23:54:19.733754Z",
     "start_time": "2020-06-07T23:54:19.723922Z"
    }
   },
   "outputs": [
    {
     "data": {
      "text/plain": [
       "array([ 0.,  2.,  4.,  6.,  8., 10., 12., 14., 16., 18., 20.])"
      ]
     },
     "execution_count": 11,
     "metadata": {},
     "output_type": "execute_result"
    }
   ],
   "source": [
    "# 和arrage类似，只是这里不是设置步长。\n",
    "# 起始点，终点，分割份数；包括终点\n",
    "np.linspace(0, 20, 11)"
   ]
  },
  {
   "cell_type": "code",
   "execution_count": 6,
   "metadata": {
    "ExecuteTime": {
     "end_time": "2020-06-07T23:54:19.599433Z",
     "start_time": "2020-06-07T23:54:19.589977Z"
    }
   },
   "outputs": [
    {
     "data": {
      "text/plain": [
       "array([[0., 0., 0., 0.],\n",
       "       [0., 0., 0., 0.],\n",
       "       [0., 0., 0., 0.]])"
      ]
     },
     "execution_count": 6,
     "metadata": {},
     "output_type": "execute_result"
    }
   ],
   "source": [
    "# 创建全0的数组\n",
    "np.zeros((3,4))"
   ]
  },
  {
   "cell_type": "code",
   "execution_count": 7,
   "metadata": {
    "ExecuteTime": {
     "end_time": "2020-06-07T23:54:19.624876Z",
     "start_time": "2020-06-07T23:54:19.611167Z"
    }
   },
   "outputs": [
    {
     "data": {
      "text/plain": [
       "array([[1., 1., 1., 1.],\n",
       "       [1., 1., 1., 1.],\n",
       "       [1., 1., 1., 1.]])"
      ]
     },
     "execution_count": 7,
     "metadata": {},
     "output_type": "execute_result"
    }
   ],
   "source": [
    "# 创建全1的数组\n",
    "np.ones((3,4))"
   ]
  },
  {
   "cell_type": "code",
   "execution_count": 8,
   "metadata": {
    "ExecuteTime": {
     "end_time": "2020-06-07T23:54:19.652530Z",
     "start_time": "2020-06-07T23:54:19.642841Z"
    }
   },
   "outputs": [
    {
     "data": {
      "text/plain": [
       "array([[0.0e+000, 4.9e-324, 9.9e-324, 1.5e-323, 2.0e-323],\n",
       "       [2.5e-323, 3.0e-323, 3.5e-323, 4.0e-323, 4.4e-323]])"
      ]
     },
     "execution_count": 8,
     "metadata": {},
     "output_type": "execute_result"
    }
   ],
   "source": [
    "# 创建全空数组，里面的值接近于零\n",
    "np.empty((2,5))"
   ]
  },
  {
   "cell_type": "code",
   "execution_count": 9,
   "metadata": {
    "ExecuteTime": {
     "end_time": "2020-06-07T23:54:19.696965Z",
     "start_time": "2020-06-07T23:54:19.674074Z"
    }
   },
   "outputs": [
    {
     "data": {
      "text/plain": [
       "array([[666, 666, 666, 666, 666],\n",
       "       [666, 666, 666, 666, 666],\n",
       "       [666, 666, 666, 666, 666]])"
      ]
     },
     "execution_count": 9,
     "metadata": {},
     "output_type": "execute_result"
    }
   ],
   "source": [
    "# 3*5的矩阵填充666\n",
    "np.full((3,5), 666)"
   ]
  },
  {
   "cell_type": "code",
   "execution_count": 36,
   "metadata": {
    "ExecuteTime": {
     "end_time": "2020-06-08T00:01:20.283263Z",
     "start_time": "2020-06-08T00:01:20.274286Z"
    }
   },
   "outputs": [
    {
     "data": {
      "text/plain": [
       "array([   2.,    4.,    8.,   16.,   32.,   64.,  128.,  256.,  512.,\n",
       "       1024.])"
      ]
     },
     "execution_count": 36,
     "metadata": {},
     "output_type": "execute_result"
    }
   ],
   "source": [
    "# 以2为底，指数为1,2...,10\n",
    "np.logspace(1,10,10, base=2)"
   ]
  },
  {
   "cell_type": "code",
   "execution_count": 37,
   "metadata": {
    "ExecuteTime": {
     "end_time": "2020-06-08T00:01:54.147197Z",
     "start_time": "2020-06-08T00:01:54.138064Z"
    }
   },
   "outputs": [
    {
     "data": {
      "text/plain": [
       "array([[1, 0, 0],\n",
       "       [0, 2, 0],\n",
       "       [0, 0, 3]])"
      ]
     },
     "execution_count": 37,
     "metadata": {},
     "output_type": "execute_result"
    }
   ],
   "source": [
    "# 创建对角数组\n",
    "np.diag([1,2,3])"
   ]
  },
  {
   "cell_type": "code",
   "execution_count": 38,
   "metadata": {
    "ExecuteTime": {
     "end_time": "2020-06-08T00:02:36.733281Z",
     "start_time": "2020-06-08T00:02:36.725694Z"
    }
   },
   "outputs": [
    {
     "data": {
      "text/plain": [
       "array([[0, 1, 0, 0],\n",
       "       [0, 0, 2, 0],\n",
       "       [0, 0, 0, 3],\n",
       "       [0, 0, 0, 0]])"
      ]
     },
     "execution_count": 38,
     "metadata": {},
     "output_type": "execute_result"
    }
   ],
   "source": [
    "# 主对角线偏移1的数组\n",
    "np.diag([1,2,3], k=1)"
   ]
  },
  {
   "cell_type": "markdown",
   "metadata": {},
   "source": [
    "### 随机数"
   ]
  },
  {
   "cell_type": "code",
   "execution_count": 13,
   "metadata": {
    "ExecuteTime": {
     "end_time": "2020-06-07T23:54:19.799033Z",
     "start_time": "2020-06-07T23:54:19.750680Z"
    }
   },
   "outputs": [
    {
     "data": {
      "text/plain": [
       "array([4, 9, 7, 4, 8, 0, 8, 2, 5, 4, 0, 9, 4, 5, 2, 0, 8, 0, 0, 5])"
      ]
     },
     "execution_count": 13,
     "metadata": {},
     "output_type": "execute_result"
    }
   ],
   "source": [
    "# 整数随机\n",
    "np.random.randint(0,10, size=20)"
   ]
  },
  {
   "cell_type": "code",
   "execution_count": 14,
   "metadata": {
    "ExecuteTime": {
     "end_time": "2020-06-07T23:54:19.825816Z",
     "start_time": "2020-06-07T23:54:19.808421Z"
    }
   },
   "outputs": [
    {
     "data": {
      "text/plain": [
       "array([[0.60157761, 0.27184132, 0.68705957, 0.99141909, 0.83905959],\n",
       "       [0.17041627, 0.03836569, 0.35918367, 0.59112083, 0.51972171]])"
      ]
     },
     "execution_count": 14,
     "metadata": {},
     "output_type": "execute_result"
    }
   ],
   "source": [
    "# 0-1的随机数\n",
    "np.random.random((2,5))"
   ]
  },
  {
   "cell_type": "code",
   "execution_count": 15,
   "metadata": {
    "ExecuteTime": {
     "end_time": "2020-06-07T23:54:19.866648Z",
     "start_time": "2020-06-07T23:54:19.837892Z"
    }
   },
   "outputs": [
    {
     "data": {
      "text/plain": [
       "array([-0.01312413,  1.08440394, -0.40227356, -2.56720585,  0.53032358,\n",
       "       -1.00033302,  0.61709809,  0.68351382, -1.04925363, -1.0381731 ,\n",
       "       -0.84274877, -0.51597932, -0.80671028, -1.33959063,  0.02002608,\n",
       "       -0.6737917 ,  1.15690536, -0.11242984,  1.36617105,  0.73367844])"
      ]
     },
     "execution_count": 15,
     "metadata": {},
     "output_type": "execute_result"
    }
   ],
   "source": [
    "# 正态分布\n",
    "np.random.normal(0,1,20)"
   ]
  },
  {
   "cell_type": "code",
   "execution_count": 16,
   "metadata": {
    "ExecuteTime": {
     "end_time": "2020-06-07T23:54:19.906925Z",
     "start_time": "2020-06-07T23:54:19.875457Z"
    }
   },
   "outputs": [
    {
     "data": {
      "text/plain": [
       "array([[0.5488135 , 0.71518937, 0.60276338],\n",
       "       [0.54488318, 0.4236548 , 0.64589411],\n",
       "       [0.43758721, 0.891773  , 0.96366276]])"
      ]
     },
     "execution_count": 16,
     "metadata": {},
     "output_type": "execute_result"
    }
   ],
   "source": [
    "# 伪随机数(计算机里都是伪随机数)\n",
    "np.random.seed(0) # 随机种子\n",
    "np.random.rand(3,3)"
   ]
  },
  {
   "cell_type": "markdown",
   "metadata": {},
   "source": [
    "## tile函数\n",
    "找到矩阵的最小单位，然后title使用最小单位组织成目标矩阵。"
   ]
  },
  {
   "cell_type": "code",
   "execution_count": 17,
   "metadata": {
    "ExecuteTime": {
     "end_time": "2020-06-07T23:54:19.939386Z",
     "start_time": "2020-06-07T23:54:19.921446Z"
    }
   },
   "outputs": [
    {
     "data": {
      "text/plain": [
       "array([0, 1, 0, 1, 0, 1, 0, 1, 0, 1])"
      ]
     },
     "execution_count": 17,
     "metadata": {},
     "output_type": "execute_result"
    }
   ],
   "source": [
    "# 一维：将[0,1]横向复制5次\n",
    "np.tile([0,1], 5)"
   ]
  },
  {
   "cell_type": "code",
   "execution_count": 18,
   "metadata": {
    "ExecuteTime": {
     "end_time": "2020-06-07T23:54:19.961563Z",
     "start_time": "2020-06-07T23:54:19.947595Z"
    }
   },
   "outputs": [
    {
     "data": {
      "text/plain": [
       "array([[1, 0, 1, 0, 1, 0, 1, 0],\n",
       "       [0, 1, 0, 1, 0, 1, 0, 1],\n",
       "       [1, 0, 1, 0, 1, 0, 1, 0],\n",
       "       [0, 1, 0, 1, 0, 1, 0, 1],\n",
       "       [1, 0, 1, 0, 1, 0, 1, 0],\n",
       "       [0, 1, 0, 1, 0, 1, 0, 1],\n",
       "       [1, 0, 1, 0, 1, 0, 1, 0],\n",
       "       [0, 1, 0, 1, 0, 1, 0, 1]])"
      ]
     },
     "execution_count": 18,
     "metadata": {},
     "output_type": "execute_result"
    }
   ],
   "source": [
    "# 二维：构建8*8棋盘。棋盘的最小单位是2*2矩阵[[1,0],[0,1]]，将其复制按照行和列分别复制4次即可(1代表黑格，0代表白格)\n",
    "np.tile([[1,0],[0,1]], [4,4])"
   ]
  },
  {
   "cell_type": "markdown",
   "metadata": {},
   "source": [
    "## 数据类型与转化"
   ]
  },
  {
   "cell_type": "code",
   "execution_count": 19,
   "metadata": {
    "ExecuteTime": {
     "end_time": "2020-06-07T23:54:19.983578Z",
     "start_time": "2020-06-07T23:54:19.969037Z"
    }
   },
   "outputs": [
    {
     "data": {
      "text/plain": [
       "dtype('int64')"
      ]
     },
     "execution_count": 19,
     "metadata": {},
     "output_type": "execute_result"
    }
   ],
   "source": [
    "data = np.array([[1,2,3],[4,5,6]])\n",
    "data.dtype"
   ]
  },
  {
   "cell_type": "code",
   "execution_count": 20,
   "metadata": {
    "ExecuteTime": {
     "end_time": "2020-06-07T23:54:20.008933Z",
     "start_time": "2020-06-07T23:54:19.991489Z"
    }
   },
   "outputs": [
    {
     "data": {
      "text/plain": [
       "dtype('float64')"
      ]
     },
     "execution_count": 20,
     "metadata": {},
     "output_type": "execute_result"
    }
   ],
   "source": [
    "data.astype('float64').dtype"
   ]
  },
  {
   "cell_type": "code",
   "execution_count": 21,
   "metadata": {
    "ExecuteTime": {
     "end_time": "2020-06-07T23:54:20.082402Z",
     "start_time": "2020-06-07T23:54:20.048310Z"
    },
    "scrolled": true
   },
   "outputs": [
    {
     "data": {
      "text/plain": [
       "dtype('float64')"
      ]
     },
     "execution_count": 21,
     "metadata": {},
     "output_type": "execute_result"
    }
   ],
   "source": [
    "data.astype(np.float64).dtype"
   ]
  },
  {
   "cell_type": "markdown",
   "metadata": {},
   "source": [
    "## 索引和切片\n",
    "### 普通索引与切片"
   ]
  },
  {
   "cell_type": "code",
   "execution_count": 22,
   "metadata": {
    "ExecuteTime": {
     "end_time": "2020-06-07T23:54:20.132928Z",
     "start_time": "2020-06-07T23:54:20.098476Z"
    }
   },
   "outputs": [
    {
     "name": "stdout",
     "output_type": "stream",
     "text": [
      "一维数组******\n",
      "data:  [0 1 2 3 4 5 6 7 8 9]\n",
      "索引2对应的元素:  2\n",
      "索引2~5对应的元素:  [2 3 4]\n",
      "索引2~8,步长为2对应的元素:  [2 4 6]\n",
      "\n",
      "二维数组******\n",
      "data: \n",
      " [[ 0  1  2  3  4]\n",
      " [ 5  6  7  8  9]\n",
      " [10 11 12 13 14]\n",
      " [15 16 17 18 19]\n",
      " [20 21 22 23 24]]\n",
      "data[2,1]:  11\n",
      "data[2:]: \n",
      " [[10 11 12 13 14]\n",
      " [15 16 17 18 19]\n",
      " [20 21 22 23 24]]\n",
      "data[2,:]: \n",
      " [10 11 12 13 14]\n",
      "data[2][0:3]: \n",
      " [10 11 12]\n"
     ]
    }
   ],
   "source": [
    "# 一维数组索引\n",
    "data = np.arange(10)\n",
    "print(u'一维数组******')\n",
    "print(u'data: ', data)\n",
    "print(u'索引2对应的元素: ', data[2])\n",
    "print(u'索引2~5对应的元素: ', data[2:5])\n",
    "print(u'索引2~8,步长为2对应的元素: ', data[2:8:2])\n",
    "\n",
    "# 二维数组索引\n",
    "data = np.arange(25).reshape(5,5)\n",
    "print(u'\\n二维数组******')\n",
    "print(u'data: \\n', data)\n",
    "print(u'data[2,1]: ', data[2,1])\n",
    "print(u'data[2:]: \\n', data[2:])\n",
    "print(u'data[2,:]: \\n', data[2,:])\n",
    "print(u'data[2][0:3]: \\n', data[2][0:3])"
   ]
  },
  {
   "cell_type": "markdown",
   "metadata": {},
   "source": [
    "### 花式索引"
   ]
  },
  {
   "cell_type": "code",
   "execution_count": 40,
   "metadata": {
    "ExecuteTime": {
     "end_time": "2020-06-08T00:08:10.655633Z",
     "start_time": "2020-06-08T00:08:10.648019Z"
    }
   },
   "outputs": [
    {
     "name": "stdout",
     "output_type": "stream",
     "text": [
      "data: \n",
      " [[ 0  1  2  3  4]\n",
      " [ 5  6  7  8  9]\n",
      " [10 11 12 13 14]\n",
      " [15 16 17 18 19]\n",
      " [20 21 22 23 24]]\n",
      "data[[0,2]]: \n",
      " [[ 0  1  2  3  4]\n",
      " [10 11 12 13 14]]\n",
      "data[:][1]: \n",
      " [6]\n"
     ]
    }
   ],
   "source": [
    "data = np.arange(25).reshape(5,5)\n",
    "# 设置数组是只读\n",
    "data.flags.writeable = False\n",
    "print(u'data: \\n', data)\n",
    "print(u'data[[0,2]]: \\n', data[[0,2]])  # 第0,2行\n",
    "print(u'data[:][1]: \\n', data[[1],[1]]) # 第1行第1列"
   ]
  },
  {
   "cell_type": "markdown",
   "metadata": {},
   "source": [
    "### 布尔型\n",
    "支持布尔型按照条件筛选"
   ]
  },
  {
   "cell_type": "code",
   "execution_count": 48,
   "metadata": {
    "ExecuteTime": {
     "end_time": "2020-06-08T00:10:11.616329Z",
     "start_time": "2020-06-08T00:10:11.602913Z"
    }
   },
   "outputs": [
    {
     "data": {
      "text/plain": [
       "array([[ 1,  2,  3,  4,  5],\n",
       "       [ 6,  7,  8,  9, 10],\n",
       "       [11, 12, 13, 14, 15],\n",
       "       [16, 17, 18, 19, 20],\n",
       "       [21, 22, 23, 24, 25]])"
      ]
     },
     "execution_count": 48,
     "metadata": {},
     "output_type": "execute_result"
    }
   ],
   "source": [
    "data = np.arange(1, 26).reshape(5,5)\n",
    "data"
   ]
  },
  {
   "cell_type": "code",
   "execution_count": 49,
   "metadata": {
    "ExecuteTime": {
     "end_time": "2020-06-08T00:11:14.344099Z",
     "start_time": "2020-06-08T00:11:14.335901Z"
    }
   },
   "outputs": [
    {
     "data": {
      "text/plain": [
       "array([15, 16, 17, 18, 19, 20])"
      ]
     },
     "execution_count": 49,
     "metadata": {},
     "output_type": "execute_result"
    }
   ],
   "source": [
    "# 筛选15~20之间的数据\n",
    "data[(data>=15) & (data<=20)]"
   ]
  },
  {
   "cell_type": "markdown",
   "metadata": {},
   "source": [
    "### 查找第n个元素对应的位置"
   ]
  },
  {
   "cell_type": "code",
   "execution_count": 25,
   "metadata": {
    "ExecuteTime": {
     "end_time": "2020-06-07T23:54:20.304720Z",
     "start_time": "2020-06-07T23:54:20.291151Z"
    }
   },
   "outputs": [
    {
     "data": {
      "text/plain": [
       "(1, 5, 4)"
      ]
     },
     "execution_count": 25,
     "metadata": {},
     "output_type": "execute_result"
    }
   ],
   "source": [
    "# 查找6*7*8的数组，第100个元素对应的位置，默认是按行查找\n",
    "np.unravel_index(100, (6,7,8), order='C')"
   ]
  },
  {
   "cell_type": "code",
   "execution_count": 26,
   "metadata": {
    "ExecuteTime": {
     "end_time": "2020-06-07T23:54:20.323061Z",
     "start_time": "2020-06-07T23:54:20.311909Z"
    }
   },
   "outputs": [
    {
     "data": {
      "text/plain": [
       "(4, 2, 2)"
      ]
     },
     "execution_count": 26,
     "metadata": {},
     "output_type": "execute_result"
    }
   ],
   "source": [
    "# 按照列查找\n",
    "np.unravel_index(100, (6,7,8), order='F')"
   ]
  },
  {
   "cell_type": "markdown",
   "metadata": {},
   "source": [
    "## 合并与分割"
   ]
  },
  {
   "cell_type": "markdown",
   "metadata": {},
   "source": [
    "### 合并"
   ]
  },
  {
   "cell_type": "code",
   "execution_count": 27,
   "metadata": {
    "ExecuteTime": {
     "end_time": "2020-06-07T23:54:20.345558Z",
     "start_time": "2020-06-07T23:54:20.332238Z"
    }
   },
   "outputs": [
    {
     "data": {
      "text/plain": [
       "array([0, 1, 2, 3, 4, 5, 6, 7, 8, 9])"
      ]
     },
     "execution_count": 27,
     "metadata": {},
     "output_type": "execute_result"
    }
   ],
   "source": [
    "# 一维数组合并\n",
    "data1 = np.array([0,1,2,3,4])\n",
    "data2 = np.array([5,6,7,8,9])\n",
    "np.concatenate([data1, data2])"
   ]
  },
  {
   "cell_type": "code",
   "execution_count": 28,
   "metadata": {
    "ExecuteTime": {
     "end_time": "2020-06-07T23:54:20.373304Z",
     "start_time": "2020-06-07T23:54:20.355137Z"
    }
   },
   "outputs": [
    {
     "data": {
      "text/plain": [
       "array([[ 0,  1,  2, 10, 11, 12],\n",
       "       [ 3,  4,  5, 13, 14, 15]])"
      ]
     },
     "execution_count": 28,
     "metadata": {},
     "output_type": "execute_result"
    }
   ],
   "source": [
    "# 二维数组合并 numpy.concatenate((a1, a2, ...), axis=0, out=None).axis=0为行，axis=1为列。\n",
    "data1 = np.arange(0,6).reshape(2,3)\n",
    "data2 = np.arange(10,16).reshape(2,3)\n",
    "\n",
    "np.concatenate([data1, data2], axis=0)\n",
    "np.concatenate([data1, data2], axis=1)"
   ]
  },
  {
   "cell_type": "markdown",
   "metadata": {},
   "source": [
    "## 分割"
   ]
  },
  {
   "cell_type": "code",
   "execution_count": 29,
   "metadata": {
    "ExecuteTime": {
     "end_time": "2020-06-07T23:54:20.400305Z",
     "start_time": "2020-06-07T23:54:20.382305Z"
    }
   },
   "outputs": [
    {
     "data": {
      "text/plain": [
       "array([[ 0,  1,  2,  3,  4],\n",
       "       [ 5,  6,  7,  8,  9],\n",
       "       [10, 11, 12, 13, 14],\n",
       "       [15, 16, 17, 18, 19],\n",
       "       [20, 21, 22, 23, 24]])"
      ]
     },
     "execution_count": 29,
     "metadata": {},
     "output_type": "execute_result"
    }
   ],
   "source": [
    "data = np.arange(0,25).reshape(5,5)\n",
    "data"
   ]
  },
  {
   "cell_type": "code",
   "execution_count": 30,
   "metadata": {
    "ExecuteTime": {
     "end_time": "2020-06-07T23:54:20.417402Z",
     "start_time": "2020-06-07T23:54:20.408223Z"
    }
   },
   "outputs": [
    {
     "name": "stdout",
     "output_type": "stream",
     "text": [
      "upper: \n",
      " [[0 1 2 3 4]\n",
      " [5 6 7 8 9]]\n",
      "lower: \n",
      " [[10 11 12 13 14]\n",
      " [15 16 17 18 19]\n",
      " [20 21 22 23 24]]\n"
     ]
    }
   ],
   "source": [
    "# 按行分割\n",
    "upper, lower = np.vsplit(data, [2])\n",
    "print('upper: \\n', upper)\n",
    "print('lower: \\n', lower)"
   ]
  },
  {
   "cell_type": "code",
   "execution_count": 31,
   "metadata": {
    "ExecuteTime": {
     "end_time": "2020-06-07T23:54:20.441033Z",
     "start_time": "2020-06-07T23:54:20.428581Z"
    }
   },
   "outputs": [
    {
     "name": "stdout",
     "output_type": "stream",
     "text": [
      "left: \n",
      " [[ 0  1]\n",
      " [ 5  6]\n",
      " [10 11]\n",
      " [15 16]\n",
      " [20 21]]\n",
      "right: \n",
      " [[ 2  3  4]\n",
      " [ 7  8  9]\n",
      " [12 13 14]\n",
      " [17 18 19]\n",
      " [22 23 24]]\n"
     ]
    }
   ],
   "source": [
    "# 按列分割\n",
    "left, right = np.hsplit(data, [2])\n",
    "print('left: \\n', left)\n",
    "print('right: \\n', right)"
   ]
  },
  {
   "cell_type": "markdown",
   "metadata": {},
   "source": [
    "## 其他"
   ]
  },
  {
   "cell_type": "markdown",
   "metadata": {},
   "source": [
    "### 逆序"
   ]
  },
  {
   "cell_type": "code",
   "execution_count": 32,
   "metadata": {
    "ExecuteTime": {
     "end_time": "2020-06-07T23:54:20.459517Z",
     "start_time": "2020-06-07T23:54:20.448791Z"
    }
   },
   "outputs": [
    {
     "name": "stdout",
     "output_type": "stream",
     "text": [
      "data: \n",
      " [0 1 2 3 4 5 6 7 8 9]\n",
      "reverse_data: \n",
      " [9 8 7 6 5 4 3 2 1 0]\n"
     ]
    }
   ],
   "source": [
    "data = np.arange(10)\n",
    "reverse_data = data[::-1]\n",
    "print('data: \\n', data)\n",
    "print('reverse_data: \\n', reverse_data)"
   ]
  },
  {
   "cell_type": "markdown",
   "metadata": {},
   "source": [
    "### 排序"
   ]
  },
  {
   "cell_type": "markdown",
   "metadata": {},
   "source": [
    "### 转置"
   ]
  },
  {
   "cell_type": "markdown",
   "metadata": {},
   "source": [
    "### 对角线"
   ]
  },
  {
   "cell_type": "code",
   "execution_count": 33,
   "metadata": {
    "ExecuteTime": {
     "end_time": "2020-06-07T23:54:20.496766Z",
     "start_time": "2020-06-07T23:54:20.468726Z"
    }
   },
   "outputs": [
    {
     "name": "stdout",
     "output_type": "stream",
     "text": [
      "data: \n",
      " [[0 1 2]\n",
      " [3 4 5]\n",
      " [6 7 8]]\n",
      "对角线 \n",
      " [0 4 8]\n",
      "对角线之上1个单位的元素 \n",
      " [1 5]\n",
      "对角线之下1个单位的元素 \n",
      " [3 7]\n"
     ]
    }
   ],
   "source": [
    "data = np.arange(9).reshape(3,3)\n",
    "print('data: \\n', data)\n",
    "\n",
    "print(u'对角线 \\n', np.diag(data))\n",
    "print(u'对角线之上1个单位的元素 \\n', np.diag(data, k=1))\n",
    "print(u'对角线之下1个单位的元素 \\n', np.diag(data, k=-1))"
   ]
  },
  {
   "cell_type": "markdown",
   "metadata": {},
   "source": [
    "## 多种取整方式"
   ]
  },
  {
   "cell_type": "code",
   "execution_count": 34,
   "metadata": {
    "ExecuteTime": {
     "end_time": "2020-06-07T23:54:20.534307Z",
     "start_time": "2020-06-07T23:54:20.503335Z"
    }
   },
   "outputs": [
    {
     "name": "stdout",
     "output_type": "stream",
     "text": [
      "data: \n",
      " [-2.33116962  5.83450076  0.5778984   1.36089122  8.51193277 -8.57927884\n",
      " -8.25741401 -9.59563205  6.65239691  5.56313502]\n",
      "截取整数部分:  [-2.  5.  0.  1.  8. -8. -8. -9.  6.  5.]\n",
      "向上取整:  [-2.  6.  1.  2.  9. -8. -8. -9.  7.  6.]\n",
      "向下取整:  [ -3.   5.   0.   1.   8.  -9.  -9. -10.   6.   5.]\n",
      "四舍五入取整:  [ -2.   6.   1.   1.   9.  -9.  -8. -10.   7.   6.]\n"
     ]
    }
   ],
   "source": [
    "data = np.random.uniform(-10,10,10)\n",
    "print('data: \\n', data)\n",
    "print(u'截取整数部分: ', np.trunc(data))\n",
    "print(u'向上取整: ', np.ceil(data))\n",
    "print(u'向下取整: ', np.floor(data))\n",
    "print(u'四舍五入取整: ', np.rint(data))"
   ]
  },
  {
   "cell_type": "code",
   "execution_count": null,
   "metadata": {},
   "outputs": [],
   "source": []
  }
 ],
 "metadata": {
  "kernelspec": {
   "display_name": "Python 3",
   "language": "python",
   "name": "python3"
  },
  "language_info": {
   "codemirror_mode": {
    "name": "ipython",
    "version": 3
   },
   "file_extension": ".py",
   "mimetype": "text/x-python",
   "name": "python",
   "nbconvert_exporter": "python",
   "pygments_lexer": "ipython3",
   "version": "3.7.1"
  },
  "toc": {
   "base_numbering": 1,
   "nav_menu": {},
   "number_sections": true,
   "sideBar": true,
   "skip_h1_title": false,
   "title_cell": "Table of Contents",
   "title_sidebar": "Contents",
   "toc_cell": false,
   "toc_position": {},
   "toc_section_display": true,
   "toc_window_display": true
  }
 },
 "nbformat": 4,
 "nbformat_minor": 2
}
