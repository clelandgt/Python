{
 "cells": [
  {
   "cell_type": "markdown",
   "metadata": {},
   "source": [
    "- 题目来源于：https://github.com/rougier/numpy-100/blob/master/100_Numpy_exercises_no_solution.ipynb\n",
    "- 参考：https://www.jianshu.com/p/385d47d03cfb"
   ]
  },
  {
   "cell_type": "markdown",
   "metadata": {},
   "source": [
    "## 1. Import the numpy package under the name np (★☆☆)"
   ]
  },
  {
   "cell_type": "code",
   "execution_count": 1,
   "metadata": {},
   "outputs": [],
   "source": [
    "import numpy as np"
   ]
  },
  {
   "cell_type": "markdown",
   "metadata": {},
   "source": [
    "# 2.  Print the numpy version and the configuration (★☆☆)"
   ]
  },
  {
   "cell_type": "code",
   "execution_count": 2,
   "metadata": {},
   "outputs": [
    {
     "data": {
      "text/plain": [
       "'1.17.3'"
      ]
     },
     "execution_count": 2,
     "metadata": {},
     "output_type": "execute_result"
    }
   ],
   "source": [
    "np.__version__"
   ]
  },
  {
   "cell_type": "code",
   "execution_count": 3,
   "metadata": {},
   "outputs": [
    {
     "name": "stdout",
     "output_type": "stream",
     "text": [
      "blas_mkl_info:\n",
      "  NOT AVAILABLE\n",
      "blis_info:\n",
      "  NOT AVAILABLE\n",
      "openblas_info:\n",
      "    libraries = ['openblas', 'openblas']\n",
      "    library_dirs = ['/usr/local/lib']\n",
      "    language = c\n",
      "    define_macros = [('HAVE_CBLAS', None)]\n",
      "blas_opt_info:\n",
      "    libraries = ['openblas', 'openblas']\n",
      "    library_dirs = ['/usr/local/lib']\n",
      "    language = c\n",
      "    define_macros = [('HAVE_CBLAS', None)]\n",
      "lapack_mkl_info:\n",
      "  NOT AVAILABLE\n",
      "openblas_lapack_info:\n",
      "    libraries = ['openblas', 'openblas']\n",
      "    library_dirs = ['/usr/local/lib']\n",
      "    language = c\n",
      "    define_macros = [('HAVE_CBLAS', None)]\n",
      "lapack_opt_info:\n",
      "    libraries = ['openblas', 'openblas']\n",
      "    library_dirs = ['/usr/local/lib']\n",
      "    language = c\n",
      "    define_macros = [('HAVE_CBLAS', None)]\n"
     ]
    }
   ],
   "source": [
    "np.show_config()"
   ]
  },
  {
   "cell_type": "markdown",
   "metadata": {},
   "source": [
    "## 3. Create a null vector of size 10 (★☆☆)"
   ]
  },
  {
   "cell_type": "code",
   "execution_count": 4,
   "metadata": {},
   "outputs": [
    {
     "data": {
      "text/plain": [
       "array([0., 0., 0., 0., 0., 0., 0., 0., 0., 0.])"
      ]
     },
     "execution_count": 4,
     "metadata": {},
     "output_type": "execute_result"
    }
   ],
   "source": [
    "np.zeros(10)"
   ]
  },
  {
   "cell_type": "markdown",
   "metadata": {},
   "source": [
    "## 4. How to find the memory size of any array (★☆☆)"
   ]
  },
  {
   "cell_type": "code",
   "execution_count": 5,
   "metadata": {},
   "outputs": [
    {
     "name": "stdout",
     "output_type": "stream",
     "text": [
      "方法一:  400000000\n",
      "CPU times: user 140 µs, sys: 62 µs, total: 202 µs\n",
      "Wall time: 174 µs\n",
      "方法二:  400000000\n",
      "CPU times: user 1.05 ms, sys: 250 µs, total: 1.3 ms\n",
      "Wall time: 12.7 ms\n",
      "方法三:  400000096\n",
      "CPU times: user 906 µs, sys: 255 µs, total: 1.16 ms\n",
      "Wall time: 1.24 ms\n"
     ]
    }
   ],
   "source": [
    "data = np.arange(50000000)\n",
    "%time print(u'方法一: ', data.nbytes)\n",
    "%time print(u'方法二: ', data.size*data.itemsize)\n",
    "# 也可以使用python内置的方法，不过效率估计会低一些\n",
    "from sys import getsizeof\n",
    "%time print(u'方法三: ', getsizeof(data))"
   ]
  },
  {
   "cell_type": "markdown",
   "metadata": {},
   "source": [
    "## 5. How to get the documentation of the numpy add function from the command line? (★☆☆)"
   ]
  },
  {
   "cell_type": "code",
   "execution_count": 6,
   "metadata": {},
   "outputs": [
    {
     "name": "stdout",
     "output_type": "stream",
     "text": [
      "Help on built-in function arange in module numpy:\n",
      "\n",
      "arange(...)\n",
      "    arange([start,] stop[, step,], dtype=None)\n",
      "    \n",
      "    Return evenly spaced values within a given interval.\n",
      "    \n",
      "    Values are generated within the half-open interval ``[start, stop)``\n",
      "    (in other words, the interval including `start` but excluding `stop`).\n",
      "    For integer arguments the function is equivalent to the Python built-in\n",
      "    `range` function, but returns an ndarray rather than a list.\n",
      "    \n",
      "    When using a non-integer step, such as 0.1, the results will often not\n",
      "    be consistent.  It is better to use `numpy.linspace` for these cases.\n",
      "    \n",
      "    Parameters\n",
      "    ----------\n",
      "    start : number, optional\n",
      "        Start of interval.  The interval includes this value.  The default\n",
      "        start value is 0.\n",
      "    stop : number\n",
      "        End of interval.  The interval does not include this value, except\n",
      "        in some cases where `step` is not an integer and floating point\n",
      "        round-off affects the length of `out`.\n",
      "    step : number, optional\n",
      "        Spacing between values.  For any output `out`, this is the distance\n",
      "        between two adjacent values, ``out[i+1] - out[i]``.  The default\n",
      "        step size is 1.  If `step` is specified as a position argument,\n",
      "        `start` must also be given.\n",
      "    dtype : dtype\n",
      "        The type of the output array.  If `dtype` is not given, infer the data\n",
      "        type from the other input arguments.\n",
      "    \n",
      "    Returns\n",
      "    -------\n",
      "    arange : ndarray\n",
      "        Array of evenly spaced values.\n",
      "    \n",
      "        For floating point arguments, the length of the result is\n",
      "        ``ceil((stop - start)/step)``.  Because of floating point overflow,\n",
      "        this rule may result in the last element of `out` being greater\n",
      "        than `stop`.\n",
      "    \n",
      "    See Also\n",
      "    --------\n",
      "    linspace : Evenly spaced numbers with careful handling of endpoints.\n",
      "    ogrid: Arrays of evenly spaced numbers in N-dimensions.\n",
      "    mgrid: Grid-shaped arrays of evenly spaced numbers in N-dimensions.\n",
      "    \n",
      "    Examples\n",
      "    --------\n",
      "    >>> np.arange(3)\n",
      "    array([0, 1, 2])\n",
      "    >>> np.arange(3.0)\n",
      "    array([ 0.,  1.,  2.])\n",
      "    >>> np.arange(3,7)\n",
      "    array([3, 4, 5, 6])\n",
      "    >>> np.arange(3,7,2)\n",
      "    array([3, 5])\n",
      "\n"
     ]
    }
   ],
   "source": [
    "# 法一：\n",
    "help(np.arange)"
   ]
  },
  {
   "cell_type": "code",
   "execution_count": 7,
   "metadata": {},
   "outputs": [
    {
     "name": "stdout",
     "output_type": "stream",
     "text": [
      "arange([start,] stop[, step,], dtype=None)\n",
      "\n",
      "Return evenly spaced values within a given interval.\n",
      "\n",
      "Values are generated within the half-open interval ``[start, stop)``\n",
      "(in other words, the interval including `start` but excluding `stop`).\n",
      "For integer arguments the function is equivalent to the Python built-in\n",
      "`range` function, but returns an ndarray rather than a list.\n",
      "\n",
      "When using a non-integer step, such as 0.1, the results will often not\n",
      "be consistent.  It is better to use `numpy.linspace` for these cases.\n",
      "\n",
      "Parameters\n",
      "----------\n",
      "start : number, optional\n",
      "    Start of interval.  The interval includes this value.  The default\n",
      "    start value is 0.\n",
      "stop : number\n",
      "    End of interval.  The interval does not include this value, except\n",
      "    in some cases where `step` is not an integer and floating point\n",
      "    round-off affects the length of `out`.\n",
      "step : number, optional\n",
      "    Spacing between values.  For any output `out`, this is the distance\n",
      "    between two adjacent values, ``out[i+1] - out[i]``.  The default\n",
      "    step size is 1.  If `step` is specified as a position argument,\n",
      "    `start` must also be given.\n",
      "dtype : dtype\n",
      "    The type of the output array.  If `dtype` is not given, infer the data\n",
      "    type from the other input arguments.\n",
      "\n",
      "Returns\n",
      "-------\n",
      "arange : ndarray\n",
      "    Array of evenly spaced values.\n",
      "\n",
      "    For floating point arguments, the length of the result is\n",
      "    ``ceil((stop - start)/step)``.  Because of floating point overflow,\n",
      "    this rule may result in the last element of `out` being greater\n",
      "    than `stop`.\n",
      "\n",
      "See Also\n",
      "--------\n",
      "linspace : Evenly spaced numbers with careful handling of endpoints.\n",
      "ogrid: Arrays of evenly spaced numbers in N-dimensions.\n",
      "mgrid: Grid-shaped arrays of evenly spaced numbers in N-dimensions.\n",
      "\n",
      "Examples\n",
      "--------\n",
      ">>> np.arange(3)\n",
      "array([0, 1, 2])\n",
      ">>> np.arange(3.0)\n",
      "array([ 0.,  1.,  2.])\n",
      ">>> np.arange(3,7)\n",
      "array([3, 4, 5, 6])\n",
      ">>> np.arange(3,7,2)\n",
      "array([3, 5])\n"
     ]
    }
   ],
   "source": [
    "# 法二：\n",
    "np.info(np.arange)"
   ]
  },
  {
   "cell_type": "markdown",
   "metadata": {},
   "source": [
    "## 6. Create a null vector of size 10 but the fifth value which is 1 (★☆☆)"
   ]
  },
  {
   "cell_type": "code",
   "execution_count": 8,
   "metadata": {},
   "outputs": [
    {
     "name": "stdout",
     "output_type": "stream",
     "text": [
      "data:  [0. 0. 0. 0. 1. 0. 0. 0. 0. 0.]\n"
     ]
    }
   ],
   "source": [
    "data = np.zeros(10)\n",
    "data[4]=1\n",
    "print('data: ', data)"
   ]
  },
  {
   "cell_type": "markdown",
   "metadata": {},
   "source": [
    "## 7. Create a vector with values ranging from 10 to 49 (★☆☆)"
   ]
  },
  {
   "cell_type": "code",
   "execution_count": 9,
   "metadata": {},
   "outputs": [
    {
     "name": "stdout",
     "output_type": "stream",
     "text": [
      "data:  [10 11 12 13 14 15 16 17 18 19 20 21 22 23 24 25 26 27 28 29 30 31 32 33\n",
      " 34 35 36 37 38 39 40 41 42 43 44 45 46 47 48 49]\n"
     ]
    }
   ],
   "source": [
    "data = np.arange(10, 50)\n",
    "print('data: ', data)"
   ]
  },
  {
   "cell_type": "markdown",
   "metadata": {},
   "source": [
    "## 8. Reverse a vector (first element becomes last) (★☆☆)"
   ]
  },
  {
   "cell_type": "code",
   "execution_count": 10,
   "metadata": {},
   "outputs": [
    {
     "name": "stdout",
     "output_type": "stream",
     "text": [
      "data:  [49 48 47 46 45 44 43 42 41 40 39 38 37 36 35 34 33 32 31 30 29 28 27 26\n",
      " 25 24 23 22 21 20 19 18 17 16 15 14 13 12 11 10]\n"
     ]
    }
   ],
   "source": [
    "data = np.arange(10, 50)\n",
    "data = data[::-1]\n",
    "print('data: ', data)"
   ]
  },
  {
   "cell_type": "markdown",
   "metadata": {},
   "source": [
    "## 9. Create a 3x3 matrix with values ranging from 0 to 8 (★☆☆)"
   ]
  },
  {
   "cell_type": "code",
   "execution_count": 11,
   "metadata": {},
   "outputs": [
    {
     "name": "stdout",
     "output_type": "stream",
     "text": [
      "data: \n",
      " [[0 1 2]\n",
      " [3 4 5]\n",
      " [6 7 8]]\n"
     ]
    }
   ],
   "source": [
    "data = np.arange(9).reshape(3,3)\n",
    "print('data: \\n', data)"
   ]
  },
  {
   "cell_type": "markdown",
   "metadata": {},
   "source": [
    "## 10. Find indices of non-zero elements from [1,2,0,0,4,0] (★☆☆)"
   ]
  },
  {
   "cell_type": "code",
   "execution_count": 12,
   "metadata": {},
   "outputs": [
    {
     "name": "stdout",
     "output_type": "stream",
     "text": [
      "法一:  (array([0, 1, 4]),)\n",
      "CPU times: user 1.22 ms, sys: 1.19 ms, total: 2.42 ms\n",
      "Wall time: 2.22 ms\n",
      "法二:  [1 2 4]\n",
      "CPU times: user 311 µs, sys: 29 µs, total: 340 µs\n",
      "Wall time: 347 µs\n"
     ]
    }
   ],
   "source": [
    "data = np.array([1,2,0,0,4,0])\n",
    "%time print(u'法一: ', np.nonzero(data))\n",
    "# 使用bool索引\n",
    "%time print(u'法二: ', data[data!=0])"
   ]
  },
  {
   "cell_type": "markdown",
   "metadata": {},
   "source": [
    "## 11. Create a 3x3 identity matrix (★☆☆)"
   ]
  },
  {
   "cell_type": "code",
   "execution_count": 13,
   "metadata": {},
   "outputs": [
    {
     "name": "stdout",
     "output_type": "stream",
     "text": [
      "data: \n",
      " [[1. 0. 0.]\n",
      " [0. 1. 0.]\n",
      " [0. 0. 1.]]\n"
     ]
    }
   ],
   "source": [
    "# 创建一个3*3的单位矩阵\n",
    "data = np.eye(3)\n",
    "print('data: \\n', data)"
   ]
  },
  {
   "cell_type": "markdown",
   "metadata": {},
   "source": [
    "## 12. Create a 3x3x3 array with random values (★☆☆)"
   ]
  },
  {
   "cell_type": "code",
   "execution_count": 14,
   "metadata": {},
   "outputs": [
    {
     "name": "stdout",
     "output_type": "stream",
     "text": [
      "data: \n",
      " [[[0.86396051 0.51493416 0.97664101]\n",
      "  [0.06076924 0.26678024 0.95968529]\n",
      "  [0.58406754 0.88251217 0.6954239 ]]\n",
      "\n",
      " [[0.48268249 0.3956023  0.42667154]\n",
      "  [0.01172937 0.53236197 0.88755348]\n",
      "  [0.65828209 0.31440069 0.24254731]]\n",
      "\n",
      " [[0.15003678 0.06697021 0.51521561]\n",
      "  [0.46564638 0.37462341 0.15107912]\n",
      "  [0.31655866 0.64203346 0.73454666]]]\n"
     ]
    }
   ],
   "source": [
    "data = np.random.random([3,3,3])\n",
    "print('data: \\n', data)"
   ]
  },
  {
   "cell_type": "markdown",
   "metadata": {},
   "source": [
    "## 13. Create a 10x10 array with random values and find the minimum and maximum values (★☆☆)"
   ]
  },
  {
   "cell_type": "code",
   "execution_count": 15,
   "metadata": {},
   "outputs": [
    {
     "name": "stdout",
     "output_type": "stream",
     "text": [
      "方法一:\n",
      "min:  0.0022402034161036477\n",
      "max:  0.9968891894511578\n",
      "方法二:\n",
      "min:  0.0022402034161036477\n",
      "max:  0.9968891894511578\n"
     ]
    }
   ],
   "source": [
    "data = np.random.random([10,10])\n",
    "print(u'方法一:')\n",
    "print('min: ', np.min(data))\n",
    "print('max: ', np.max(data))\n",
    "\n",
    "print(u'方法二:')\n",
    "print('min: ', data.min())\n",
    "print('max: ', data.max())"
   ]
  },
  {
   "cell_type": "markdown",
   "metadata": {},
   "source": [
    "## 14. Create a random vector of size 30 and find the mean value (★☆☆)"
   ]
  },
  {
   "cell_type": "code",
   "execution_count": 16,
   "metadata": {},
   "outputs": [
    {
     "name": "stdout",
     "output_type": "stream",
     "text": [
      "mean:  0.5276073844523671\n"
     ]
    }
   ],
   "source": [
    "data = np.random.random(30)\n",
    "print('mean: ', data.mean())"
   ]
  },
  {
   "cell_type": "markdown",
   "metadata": {},
   "source": [
    "## 15. Create a 2d array with 1 on the border and 0 inside (★☆☆)"
   ]
  },
  {
   "cell_type": "code",
   "execution_count": 17,
   "metadata": {},
   "outputs": [
    {
     "name": "stdout",
     "output_type": "stream",
     "text": [
      "方法一: \n",
      " [[1. 1. 1. 1. 1.]\n",
      " [1. 0. 0. 0. 1.]\n",
      " [1. 0. 0. 0. 1.]\n",
      " [1. 0. 0. 0. 1.]\n",
      " [1. 1. 1. 1. 1.]]\n",
      "方法二: \n",
      " [[1. 1. 1. 1. 1.]\n",
      " [1. 0. 0. 0. 1.]\n",
      " [1. 0. 0. 0. 1.]\n",
      " [1. 0. 0. 0. 1.]\n",
      " [1. 1. 1. 1. 1.]]\n"
     ]
    }
   ],
   "source": [
    "# 创建二维数组，边界元素为1，内部元素为0\n",
    "data = np.zeros([5,5])\n",
    "data[[0,-1]]=1\n",
    "data[:,[0,-1]]=1\n",
    "print('方法一: \\n', data)\n",
    "\n",
    "\n",
    "data = np.ones([5,5])\n",
    "data[1:-1, 1:-1]=0\n",
    "print('方法二: \\n', data)"
   ]
  },
  {
   "cell_type": "markdown",
   "metadata": {},
   "source": [
    "## 16. How to add a border (filled with 0's) around an existing array? (★☆☆)"
   ]
  },
  {
   "cell_type": "code",
   "execution_count": 18,
   "metadata": {},
   "outputs": [
    {
     "name": "stdout",
     "output_type": "stream",
     "text": [
      "data: \n",
      " [[ 0  0  0  0  0  0  0]\n",
      " [ 0  1  2  3  4  5  0]\n",
      " [ 0  6  7  8  9 10  0]\n",
      " [ 0 11 12 13 14 15  0]\n",
      " [ 0 16 17 18 19 20  0]\n",
      " [ 0 21 22 23 24 25  0]\n",
      " [ 0  0  0  0  0  0  0]]\n"
     ]
    }
   ],
   "source": [
    "# 在已有数组边上添加0\n",
    "data = np.arange(1, 26).reshape(5,5)\n",
    "data = np.pad(data, pad_width=1, mode='constant', constant_values=0)\n",
    "print('data: \\n', data)"
   ]
  },
  {
   "cell_type": "markdown",
   "metadata": {},
   "source": [
    "## 17. What is the result of the following expression? (★☆☆)\n",
    "\n",
    "``` python\n",
    "0 * np.nan\n",
    "np.nan == np.nan\n",
    "np.inf > np.nan\n",
    "np.nan - np.nan\n",
    "np.nan in set([np.nan])\n",
    "0.3 == 3 * 0.1\n",
    "```"
   ]
  },
  {
   "cell_type": "code",
   "execution_count": 19,
   "metadata": {},
   "outputs": [
    {
     "name": "stdout",
     "output_type": "stream",
     "text": [
      "0 * np.nan:  nan\n",
      "np.nan * np.nan:  nan\n",
      "np.nan - np.nan:  nan\n",
      "np.nan == np.nan:  False\n",
      "np.nan > np.nan:  False\n",
      "np.nan in set([np.nan]):  True\n"
     ]
    }
   ],
   "source": [
    "print('0 * np.nan: ', 0 * np.nan)\n",
    "print('np.nan * np.nan: ', np.nan * np.nan)\n",
    "print('np.nan - np.nan: ', np.nan - np.nan) # 两个空值相减为null\n",
    "print('np.nan == np.nan: ', np.nan == np.nan) # null与null不能做等值判断，为false\n",
    "print('np.nan > np.nan: ', np.nan > np.nan)\n",
    "print('np.nan in set([np.nan]): ', np.nan in set([np.nan])) # 判断空值是否在数组里"
   ]
  },
  {
   "cell_type": "markdown",
   "metadata": {},
   "source": [
    "## 18. Create a 5x5 matrix with values 1,2,3,4 just below the diagonal (★☆☆)"
   ]
  },
  {
   "cell_type": "code",
   "execution_count": 20,
   "metadata": {},
   "outputs": [
    {
     "name": "stdout",
     "output_type": "stream",
     "text": [
      "[[0 0 0 0 0]\n",
      " [1 0 0 0 0]\n",
      " [0 2 0 0 0]\n",
      " [0 0 3 0 0]\n",
      " [0 0 0 4 0]]\n"
     ]
    }
   ],
   "source": [
    "# 生成5*5的矩阵，在对角线下一个单位插入1,2,3,4\n",
    "data = np.diag(1+np.arange(4),k=-1)\n",
    "print(data)"
   ]
  },
  {
   "cell_type": "markdown",
   "metadata": {},
   "source": [
    "## 19. Create a 8x8 matrix and fill it with a checkerboard pattern (★☆☆)"
   ]
  },
  {
   "cell_type": "code",
   "execution_count": 21,
   "metadata": {},
   "outputs": [
    {
     "name": "stdout",
     "output_type": "stream",
     "text": [
      "data: \n",
      " [[1 0 1 0 1 0 1 0]\n",
      " [0 1 0 1 0 1 0 1]\n",
      " [1 0 1 0 1 0 1 0]\n",
      " [0 1 0 1 0 1 0 1]\n",
      " [1 0 1 0 1 0 1 0]\n",
      " [0 1 0 1 0 1 0 1]\n",
      " [1 0 1 0 1 0 1 0]\n",
      " [0 1 0 1 0 1 0 1]]\n"
     ]
    }
   ],
   "source": [
    "# 生成一个8*8的数组，如西洋棋一样纵横交错。\n",
    "data = np.zeros([8,8], dtype=int)\n",
    "data[::2,::2] = 1\n",
    "data[1::2, 1::2] = 1\n",
    "print('data: \\n', data)"
   ]
  },
  {
   "cell_type": "markdown",
   "metadata": {},
   "source": [
    "## 20. Consider a (6,7,8) shape array, what is the index (x,y,z) of the 100th element?"
   ]
  },
  {
   "cell_type": "code",
   "execution_count": 22,
   "metadata": {},
   "outputs": [
    {
     "name": "stdout",
     "output_type": "stream",
     "text": [
      "方法一，x,y,z: 1 5 4\n",
      "方法二，x,y,z: (1, 5, 4)\n"
     ]
    }
   ],
   "source": [
    "data = np.ones([6,7,8], dtype=int)\n",
    "\n",
    "# 方法一：\n",
    "x = int(100 / (7 * 8))\n",
    "y = int((100 % (7 * 8)) / 8)\n",
    "z = 100 % 8\n",
    "print(u'方法一，x,y,z:', x, y, z)\n",
    "\n",
    "# 方法二：使用numpy自带的函数\n",
    "print(u'方法二，x,y,z:', np.unravel_index(100, (6,7,8)))"
   ]
  },
  {
   "cell_type": "markdown",
   "metadata": {},
   "source": [
    "## 21. Create a checkerboard 8x8 matrix using the tile function (★☆☆)"
   ]
  },
  {
   "cell_type": "code",
   "execution_count": 23,
   "metadata": {},
   "outputs": [
    {
     "data": {
      "text/plain": [
       "array([[1, 0, 1, 0, 1, 0, 1, 0],\n",
       "       [0, 1, 0, 1, 0, 1, 0, 1],\n",
       "       [1, 0, 1, 0, 1, 0, 1, 0],\n",
       "       [0, 1, 0, 1, 0, 1, 0, 1],\n",
       "       [1, 0, 1, 0, 1, 0, 1, 0],\n",
       "       [0, 1, 0, 1, 0, 1, 0, 1],\n",
       "       [1, 0, 1, 0, 1, 0, 1, 0],\n",
       "       [0, 1, 0, 1, 0, 1, 0, 1]])"
      ]
     },
     "execution_count": 23,
     "metadata": {},
     "output_type": "execute_result"
    }
   ],
   "source": [
    "# 使用title函数创建8*8的棋盘。最小的组成单位是个2*2的矩阵[[1,0],[0,1]]。\n",
    "np.tile([[1,0],[0,1]], [4,4])"
   ]
  },
  {
   "cell_type": "markdown",
   "metadata": {},
   "source": [
    "## 22. Normalize a 5x5 random matrix (★☆☆)"
   ]
  },
  {
   "cell_type": "code",
   "execution_count": 24,
   "metadata": {},
   "outputs": [
    {
     "name": "stdout",
     "output_type": "stream",
     "text": [
      "归一化前: \n",
      " [[0.28953191 0.32959012 0.81169812 0.65057045 0.63290608]\n",
      " [0.67134068 0.32123485 0.31199488 0.62150244 0.2825939 ]\n",
      " [0.75868379 0.52897088 0.40861597 0.69240574 0.82686651]\n",
      " [0.86926001 0.01556707 0.8249859  0.27522829 0.59894836]\n",
      " [0.36113315 0.75675193 0.15713638 0.17895353 0.31161895]]\n",
      "归一化后: \n",
      " [[-0.86665271 -0.70132925  1.28836959  0.62338264  0.55048035]\n",
      " [ 0.70910305 -0.73581211 -0.77394621  0.50341659 -0.89528646]\n",
      " [ 1.06957517  0.12153133 -0.37518316  0.79604027  1.35097077]\n",
      " [ 1.52593217 -1.99732785  1.34320934 -0.92568494  0.41033407]\n",
      " [-0.57114861  1.0616022  -1.41305982 -1.32301869 -0.77549772]]\n"
     ]
    }
   ],
   "source": [
    "# 归一化5*5矩阵\n",
    "data = np.random.random((5,5))\n",
    "print(u'归一化前: \\n', data)\n",
    "data = (data - np.mean(data)) / (np.std(data))\n",
    "print(u'归一化后: \\n', data)"
   ]
  },
  {
   "cell_type": "markdown",
   "metadata": {},
   "source": [
    "## 23. Create a custom dtype that describes a color as four unsigned bytes (RGBA) (★☆☆)"
   ]
  },
  {
   "cell_type": "code",
   "execution_count": 25,
   "metadata": {},
   "outputs": [
    {
     "data": {
      "text/plain": [
       "dtype([('r', 'u1'), ('g', 'u1'), ('b', 'u1'), ('a', 'u1')])"
      ]
     },
     "execution_count": 25,
     "metadata": {},
     "output_type": "execute_result"
    }
   ],
   "source": [
    "# 自定义dtype\n",
    "rgba = np.dtype([('r', np.ubyte), ('g', np.ubyte), ('b', np.ubyte), ('a', np.ubyte)])\n",
    "rgba"
   ]
  },
  {
   "cell_type": "markdown",
   "metadata": {},
   "source": [
    "## 24. Multiply a 5x3 matrix by a 3x2 matrix (real matrix product) (★☆☆)"
   ]
  },
  {
   "cell_type": "code",
   "execution_count": 26,
   "metadata": {},
   "outputs": [
    {
     "name": "stdout",
     "output_type": "stream",
     "text": [
      "data1: \n",
      " [[ 0  1  2]\n",
      " [ 3  4  5]\n",
      " [ 6  7  8]\n",
      " [ 9 10 11]\n",
      " [12 13 14]]\n",
      "data2: \n",
      " [[0 1]\n",
      " [2 3]\n",
      " [4 5]]\n",
      "dot: \n",
      " [[ 10  13]\n",
      " [ 28  40]\n",
      " [ 46  67]\n",
      " [ 64  94]\n",
      " [ 82 121]]\n"
     ]
    }
   ],
   "source": [
    "# 两个矩阵的积\n",
    "\n",
    "data1 = np.arange(15).reshape(5,3)\n",
    "data2 = np.arange(6).reshape(3,2)\n",
    "print('data1: \\n', data1)\n",
    "print('data2: \\n', data2)\n",
    "print('dot: \\n', np.dot(data1, data2))"
   ]
  },
  {
   "cell_type": "markdown",
   "metadata": {},
   "source": [
    "## 25. Given a 1D array, negate all elements which are between 3 and 8, in place. (★☆☆)"
   ]
  },
  {
   "cell_type": "code",
   "execution_count": 27,
   "metadata": {},
   "outputs": [
    {
     "name": "stdout",
     "output_type": "stream",
     "text": [
      "法一: \n",
      " [ 0  1  2  3 -4 -5 -6 -7  8  9 10 11 12 13 14 15 16 17 18 19]\n",
      "法二: \n",
      " [ 0  1  2  3 -4 -5 -6 -7  8  9 10 11 12 13 14 15 16 17 18 19]\n"
     ]
    }
   ],
   "source": [
    "# 对于一维数组，将其中3~8的数替换为对应的负数\n",
    "data = np.arange(20)\n",
    "data[(data>3) & (data<8)] = data[(data>3) & (data<8)] * -1\n",
    "print(u'法一: \\n', data)\n",
    "\n",
    "data = np.arange(20)\n",
    "data[(data>3) & (data<8)] *= -1\n",
    "print(u'法二: \\n', data)"
   ]
  },
  {
   "cell_type": "markdown",
   "metadata": {},
   "source": [
    "## 26. What is the output of the following script? (★☆☆)\n",
    "\n",
    "``` python\n",
    "# Author: Jake VanderPlas\n",
    "\n",
    "print(sum(range(5),-1))\n",
    "from numpy import *\n",
    "print(sum(range(5),-1))\n",
    "```"
   ]
  },
  {
   "cell_type": "code",
   "execution_count": 28,
   "metadata": {},
   "outputs": [
    {
     "name": "stdout",
     "output_type": "stream",
     "text": [
      "9\n",
      "10\n"
     ]
    }
   ],
   "source": [
    "# python内置的sum。 0+1+2+3+4-1=9\n",
    "print(sum(range(5),-1))\n",
    "# np.sum的第二个参数axis(维度)\n",
    "print(np.sum(range(5),-1))"
   ]
  },
  {
   "cell_type": "markdown",
   "metadata": {},
   "source": [
    "## 27. Consider an integer vector Z, which of these expressions are legal? (★☆☆)\n",
    "\n",
    "``` python\n",
    "Z**Z\n",
    "2 << Z >> 2\n",
    "Z <- Z\n",
    "1j*Z\n",
    "Z/1/1\n",
    "Z<Z>Z\n",
    "```"
   ]
  },
  {
   "cell_type": "code",
   "execution_count": 29,
   "metadata": {},
   "outputs": [
    {
     "name": "stdout",
     "output_type": "stream",
     "text": [
      "z: \n",
      " [[0 1]\n",
      " [2 3]]\n",
      "z**z: \n",
      " [[ 1  1]\n",
      " [ 4 27]]\n"
     ]
    }
   ],
   "source": [
    "# 考虑以下向量计算那个是合法的。\n",
    "# 第一个z的乘积\n",
    "z = np.arange(4).reshape(2,2)\n",
    "print('z: \\n', z)\n",
    "print('z**z: \\n', z**z)"
   ]
  },
  {
   "cell_type": "markdown",
   "metadata": {},
   "source": [
    "## 28. What are the result of the following expressions?\n",
    "\n",
    "``` python\n",
    "np.array(0) / np.array(0)\n",
    "np.array(0) // np.array(0)\n",
    "np.array([np.nan]).astype(int).astype(float)\n",
    "```"
   ]
  },
  {
   "cell_type": "code",
   "execution_count": 30,
   "metadata": {},
   "outputs": [
    {
     "name": "stdout",
     "output_type": "stream",
     "text": [
      "np.array(0) / np.array(0):  nan\n",
      "np.array(0) // np.array(0):  0\n",
      "np.array([np.nan]).astype(int).astype(float):  [-9.22337204e+18]\n"
     ]
    },
    {
     "name": "stderr",
     "output_type": "stream",
     "text": [
      "/Users/cleland/.pyenv/versions/3.7.1/envs/base/lib/python3.7/site-packages/ipykernel_launcher.py:1: RuntimeWarning: invalid value encountered in true_divide\n",
      "  \"\"\"Entry point for launching an IPython kernel.\n",
      "/Users/cleland/.pyenv/versions/3.7.1/envs/base/lib/python3.7/site-packages/ipykernel_launcher.py:2: RuntimeWarning: divide by zero encountered in floor_divide\n",
      "  \n"
     ]
    }
   ],
   "source": [
    "print('np.array(0) / np.array(0): ', np.array(0) / np.array(0))\n",
    "print('np.array(0) // np.array(0): ', np.array(0) // np.array(0))\n",
    "print('np.array([np.nan]).astype(int).astype(float): ', np.array([np.nan]).astype(int).astype(float))"
   ]
  },
  {
   "cell_type": "markdown",
   "metadata": {},
   "source": [
    "## 29. How to round away from zero a float array ? (★☆☆)"
   ]
  },
  {
   "cell_type": "code",
   "execution_count": 31,
   "metadata": {},
   "outputs": [
    {
     "name": "stdout",
     "output_type": "stream",
     "text": [
      "data: \n",
      " [ 7.99838071  3.21510688  3.06299664  2.91779129  5.07343519  1.06385543\n",
      " -5.04195436 -1.58637827  5.60199717 -0.24486241]\n",
      "处理后: \n",
      " [ 8.  4.  4.  3.  6.  2. -6. -2.  6. -1.]\n"
     ]
    }
   ],
   "source": [
    "# 让float数组原理0\n",
    "data = np.random.uniform(-10,+10,10)\n",
    "print('data: \\n', data)\n",
    "print(u'处理后: \\n', np.copysign(np.ceil(np.abs(data)), data))"
   ]
  },
  {
   "cell_type": "markdown",
   "metadata": {},
   "source": [
    "## 30. How to find common values between two arrays? (★☆☆)"
   ]
  },
  {
   "cell_type": "code",
   "execution_count": 32,
   "metadata": {},
   "outputs": [
    {
     "data": {
      "text/plain": [
       "array([ 2,  3,  4,  5,  6,  7,  8,  9, 10, 11, 12, 13, 14, 15, 16, 17])"
      ]
     },
     "execution_count": 32,
     "metadata": {},
     "output_type": "execute_result"
    }
   ],
   "source": [
    "# 查找两个数组相同的元素\n",
    "data1 = np.arange(25).reshape(5,5)\n",
    "data2 = np.arange(2,18).reshape(4,4)\n",
    "\n",
    "np.intersect1d(data1, data2)"
   ]
  },
  {
   "cell_type": "markdown",
   "metadata": {},
   "source": [
    "## 31. How to ignore all numpy warnings (not recommended)? (★☆☆)"
   ]
  },
  {
   "cell_type": "code",
   "execution_count": 33,
   "metadata": {},
   "outputs": [],
   "source": [
    "# 忽略numpy所有警告\n",
    "default = np.seterr(all='ignore')\n",
    "np.ones(1) / 0\n",
    "_ = np.seterr(**default)"
   ]
  },
  {
   "cell_type": "markdown",
   "metadata": {},
   "source": [
    "## 32. Is the following expressions true? (★☆☆)\n",
    "np.sqrt(-1) == np.emath.sqrt(-1)\n"
   ]
  },
  {
   "cell_type": "code",
   "execution_count": 34,
   "metadata": {},
   "outputs": [
    {
     "name": "stdout",
     "output_type": "stream",
     "text": [
      "nan\n",
      "1j\n"
     ]
    },
    {
     "name": "stderr",
     "output_type": "stream",
     "text": [
      "/Users/cleland/.pyenv/versions/3.7.1/envs/base/lib/python3.7/site-packages/ipykernel_launcher.py:1: RuntimeWarning: invalid value encountered in sqrt\n",
      "  \"\"\"Entry point for launching an IPython kernel.\n",
      "/Users/cleland/.pyenv/versions/3.7.1/envs/base/lib/python3.7/site-packages/ipykernel_launcher.py:3: RuntimeWarning: invalid value encountered in sqrt\n",
      "  This is separate from the ipykernel package so we can avoid doing imports until\n"
     ]
    },
    {
     "data": {
      "text/plain": [
       "False"
      ]
     },
     "execution_count": 34,
     "metadata": {},
     "output_type": "execute_result"
    }
   ],
   "source": [
    "print(np.sqrt(-1))\n",
    "print(np.emath.sqrt(-1))\n",
    "np.sqrt(-1) == np.emath.sqrt(-1)"
   ]
  },
  {
   "cell_type": "markdown",
   "metadata": {},
   "source": [
    "## 33. How to get the dates of yesterday, today and tomorrow? (★☆☆)"
   ]
  },
  {
   "cell_type": "code",
   "execution_count": 35,
   "metadata": {},
   "outputs": [
    {
     "name": "stdout",
     "output_type": "stream",
     "text": [
      "today:  2019-11-24\n",
      "yesterday:  2019-11-23\n",
      "tomorrow:  2019-11-25\n"
     ]
    }
   ],
   "source": [
    "print('today: ', np.datetime64('today', 'D'))\n",
    "print('yesterday: ', np.datetime64('today', 'D') - np.timedelta64(1, 'D'))\n",
    "print('tomorrow: ', np.datetime64('today', 'D') + np.timedelta64(1, 'D'))"
   ]
  },
  {
   "cell_type": "markdown",
   "metadata": {},
   "source": [
    "## 34. How to get all the dates corresponding to the month of July 2016? (★★☆)¶"
   ]
  },
  {
   "cell_type": "code",
   "execution_count": 36,
   "metadata": {},
   "outputs": [
    {
     "data": {
      "text/plain": [
       "array(['2019-07-01', '2019-07-02', '2019-07-03', '2019-07-04',\n",
       "       '2019-07-05', '2019-07-06', '2019-07-07', '2019-07-08',\n",
       "       '2019-07-09', '2019-07-10', '2019-07-11', '2019-07-12',\n",
       "       '2019-07-13', '2019-07-14', '2019-07-15', '2019-07-16',\n",
       "       '2019-07-17', '2019-07-18', '2019-07-19', '2019-07-20',\n",
       "       '2019-07-21', '2019-07-22', '2019-07-23', '2019-07-24',\n",
       "       '2019-07-25', '2019-07-26', '2019-07-27', '2019-07-28',\n",
       "       '2019-07-29', '2019-07-30', '2019-07-31'], dtype='datetime64[D]')"
      ]
     },
     "execution_count": 36,
     "metadata": {},
     "output_type": "execute_result"
    }
   ],
   "source": [
    "# 得到7月所有的日期\n",
    "np.arange('2019-07', '2019-08', dtype='datetime64[D]')"
   ]
  },
  {
   "cell_type": "markdown",
   "metadata": {},
   "source": [
    "## 35. How to compute ((A+B)*(-A/2)) in place (without copy)? (★★☆)"
   ]
  },
  {
   "cell_type": "code",
   "execution_count": 37,
   "metadata": {},
   "outputs": [
    {
     "data": {
      "text/plain": [
       "array([[-1.5, -1.5, -1.5],\n",
       "       [-1.5, -1.5, -1.5]])"
      ]
     },
     "execution_count": 37,
     "metadata": {},
     "output_type": "execute_result"
    }
   ],
   "source": [
    "# 原地计算，不能拷贝\n",
    "a = np.ones(6, dtype=int).reshape(2,3)\n",
    "b = np.ones(6, dtype=int).reshape(2,3)*2\n",
    "b = a + b\n",
    "a = (-a)/2\n",
    "a * b"
   ]
  },
  {
   "cell_type": "markdown",
   "metadata": {},
   "source": [
    "## 36. Extract the integer part of a random array using 5 different methods (★★☆)"
   ]
  },
  {
   "cell_type": "code",
   "execution_count": 38,
   "metadata": {},
   "outputs": [
    {
     "name": "stdout",
     "output_type": "stream",
     "text": [
      "data: \n",
      " [9.97368926 5.74191901 2.91396922 9.39976421 9.31091324 6.46012322\n",
      " 0.22093062 2.97036221 2.1799275  3.6473562 ]\n",
      "方法一:  [9. 5. 2. 9. 9. 6. 0. 2. 2. 3.]\n",
      "方法二:  [9. 5. 2. 9. 9. 6. 0. 2. 2. 3.]\n",
      "方法三:  [9. 5. 2. 9. 9. 6. 0. 2. 2. 3.]\n",
      "方法四:  [9. 5. 2. 9. 9. 6. 0. 2. 2. 3.]\n",
      "方法五:  [9 5 2 9 9 6 0 2 2 3]\n"
     ]
    }
   ],
   "source": [
    "# 去数组的整数部分\n",
    "data = np.random.uniform(0,10,10)\n",
    "print('data: \\n', data)\n",
    "print(u'方法一: ', data-data%1)\n",
    "print(u'方法二: ', np.ceil(data)-1)\n",
    "print(u'方法三: ', np.floor(data))\n",
    "print(u'方法四: ', np.trunc(data))\n",
    "print(u'方法五: ', data.astype(int))"
   ]
  },
  {
   "cell_type": "markdown",
   "metadata": {},
   "source": [
    "## 37. Create a 5x5 matrix with row values ranging from 0 to 4 (★★☆)"
   ]
  },
  {
   "cell_type": "code",
   "execution_count": 39,
   "metadata": {},
   "outputs": [
    {
     "name": "stdout",
     "output_type": "stream",
     "text": [
      "方法一: \n",
      " [[0 1 2 3 4]\n",
      " [0 1 2 3 4]\n",
      " [0 1 2 3 4]\n",
      " [0 1 2 3 4]\n",
      " [0 1 2 3 4]]\n",
      "方法二: \n",
      " [[0 1 2 3 4]\n",
      " [0 1 2 3 4]\n",
      " [0 1 2 3 4]\n",
      " [0 1 2 3 4]\n",
      " [0 1 2 3 4]]\n"
     ]
    }
   ],
   "source": [
    "data = np.zeros((5,5), dtype=int)\n",
    "data += np.arange(5)\n",
    "print(u'方法一: \\n', data)\n",
    "\n",
    "data = np.tile(np.arange(5, dtype=int), [5,1])\n",
    "print(u'方法二: \\n', data)"
   ]
  },
  {
   "cell_type": "markdown",
   "metadata": {},
   "source": [
    "## 38. Consider a generator function that generates 10 integers and use it to build an array (★☆☆)"
   ]
  },
  {
   "cell_type": "code",
   "execution_count": 40,
   "metadata": {},
   "outputs": [
    {
     "name": "stdout",
     "output_type": "stream",
     "text": [
      "data: \n",
      " [0. 1. 2. 3. 4. 5. 6. 7. 8. 9.]\n"
     ]
    }
   ],
   "source": [
    "def generate():\n",
    "    for i in range(10):\n",
    "        yield i\n",
    "data = np.fromiter(generate(), dtype=float, count=-1)    \n",
    "print('data: \\n', data)"
   ]
  },
  {
   "cell_type": "markdown",
   "metadata": {},
   "source": [
    "## 39. Create a vector of size 10 with values ranging from 0 to 1, both excluded (★★☆)"
   ]
  },
  {
   "cell_type": "code",
   "execution_count": 41,
   "metadata": {},
   "outputs": [
    {
     "data": {
      "text/plain": [
       "array([0.09090909, 0.18181818, 0.27272727, 0.36363636, 0.45454545,\n",
       "       0.54545455, 0.63636364, 0.72727273, 0.81818182, 0.90909091])"
      ]
     },
     "execution_count": 41,
     "metadata": {},
     "output_type": "execute_result"
    }
   ],
   "source": [
    "data1 = np.linspace(0,1,11,endpoint=False)[1:]\n",
    "data1"
   ]
  },
  {
   "cell_type": "markdown",
   "metadata": {},
   "source": [
    "## 40. Create a random vector of size 10 and sort it (★★☆)"
   ]
  },
  {
   "cell_type": "code",
   "execution_count": 42,
   "metadata": {},
   "outputs": [
    {
     "name": "stdout",
     "output_type": "stream",
     "text": [
      "data: \n",
      " [0.11416586 0.70436296 0.93700989 0.40847326 0.50255451 0.97473493\n",
      " 0.82740729 0.40148117 0.23778905 0.0058433 ]\n",
      "after sort: \n",
      " [0.0058433  0.11416586 0.23778905 0.40148117 0.40847326 0.50255451\n",
      " 0.70436296 0.82740729 0.93700989 0.97473493]\n"
     ]
    }
   ],
   "source": [
    "data = np.random.random(10)\n",
    "print('data: \\n', data)\n",
    "data.sort()\n",
    "print('after sort: \\n', data)"
   ]
  },
  {
   "cell_type": "markdown",
   "metadata": {},
   "source": [
    "## 41. How to sum a small array faster than np.sum? (★★☆)"
   ]
  },
  {
   "cell_type": "code",
   "execution_count": 43,
   "metadata": {},
   "outputs": [
    {
     "name": "stdout",
     "output_type": "stream",
     "text": [
      "np.sum:  4999950000\n",
      "CPU times: user 289 µs, sys: 16 µs, total: 305 µs\n",
      "Wall time: 313 µs\n",
      "np.add.reduce:  4999950000\n",
      "CPU times: user 211 µs, sys: 22 µs, total: 233 µs\n",
      "Wall time: 241 µs\n"
     ]
    }
   ],
   "source": [
    "# 使用reduce会很快，归并求和。\n",
    "data = np.arange(100000)\n",
    "%time print('np.sum: ', np.sum(data))\n",
    "%time print('np.add.reduce: ', np.add.reduce(data))"
   ]
  },
  {
   "cell_type": "markdown",
   "metadata": {},
   "source": [
    "## 42. Consider two random array A and B, check if they are equal (★★☆)"
   ]
  },
  {
   "cell_type": "code",
   "execution_count": 44,
   "metadata": {},
   "outputs": [
    {
     "name": "stdout",
     "output_type": "stream",
     "text": [
      "方法一(没有发现不一样):  False\n",
      "方法二:  True\n",
      "方法一(发现了不一样):  True\n",
      "方法二:  False\n"
     ]
    }
   ],
   "source": [
    "# 两个数组相等\n",
    "a = np.array([1,2,3])\n",
    "b = np.array([1,2,3])\n",
    "print(u'方法一(没有发现不一样): ', False in np.equal(a, b))\n",
    "print(u'方法二: ', np.array_equal(a, b))\n",
    "\n",
    "# 两个数组不相等\n",
    "a = np.array([1,2,3])\n",
    "b = np.array([1,2,4])\n",
    "print(u'方法一(发现了不一样): ', False in np.equal(a, b))\n",
    "print(u'方法二: ', np.array_equal(a, b))"
   ]
  },
  {
   "cell_type": "markdown",
   "metadata": {},
   "source": [
    "## 43. Make an array immutable (read-only) (★★☆)"
   ]
  },
  {
   "cell_type": "code",
   "execution_count": 45,
   "metadata": {},
   "outputs": [],
   "source": [
    "# 创建只读数组\n",
    "data = np.zeros(10)\n",
    "data.flags.writeable = False"
   ]
  },
  {
   "cell_type": "markdown",
   "metadata": {},
   "source": [
    "## 44. Consider a random 10x2 matrix representing cartesian coordinates, convert them to polar coordinates (★★☆)"
   ]
  },
  {
   "cell_type": "code",
   "execution_count": 46,
   "metadata": {},
   "outputs": [
    {
     "name": "stdout",
     "output_type": "stream",
     "text": [
      "[0.97836616 0.4892738  0.83874701 0.4814912  0.44491497 0.27320879\n",
      " 0.15478724 0.77925223 0.770219   1.03390994]\n",
      "[1.21729922 1.4240938  0.0233511  0.54816871 1.39906292 0.17994245\n",
      " 0.46826639 0.14667186 1.18672027 0.88319221]\n"
     ]
    }
   ],
   "source": [
    "Z = np.random.random((10,2))\n",
    "X,Y = Z[:,0], Z[:,1]\n",
    "R = np.sqrt(X**2+Y**2)\n",
    "T = np.arctan2(Y,X)\n",
    "print(R)\n",
    "print(T)"
   ]
  },
  {
   "cell_type": "markdown",
   "metadata": {},
   "source": [
    "## 45. Create random vector of size 10 and replace the maximum value by 0 (★★☆)"
   ]
  },
  {
   "cell_type": "code",
   "execution_count": 47,
   "metadata": {},
   "outputs": [
    {
     "name": "stdout",
     "output_type": "stream",
     "text": [
      "data: \n",
      " [0.01709332 0.71471702 0.99647095 0.5526393  0.36257074 0.25243554\n",
      " 0.40138695 0.1658376  0.510405   0.81319749]\n",
      "data: \n",
      " [0.01709332 0.71471702 0.         0.5526393  0.36257074 0.25243554\n",
      " 0.40138695 0.1658376  0.510405   0.81319749]\n"
     ]
    }
   ],
   "source": [
    "# 创建大小为10的随机向量，并将最大值替换为0\n",
    "data = np.random.random(10)\n",
    "print('data: \\n', data)\n",
    "data[data.argmax()]=0\n",
    "print('data: \\n', data)"
   ]
  },
  {
   "cell_type": "markdown",
   "metadata": {},
   "source": [
    "## 46. Create a structured array with x and y coordinates covering the [0,1]x[0,1] area (★★☆)"
   ]
  },
  {
   "cell_type": "code",
   "execution_count": 48,
   "metadata": {},
   "outputs": [
    {
     "name": "stdout",
     "output_type": "stream",
     "text": [
      "data: \n",
      " [[(0.  , 0.  ) (0.25, 0.  ) (0.5 , 0.  ) (0.75, 0.  ) (1.  , 0.  )]\n",
      " [(0.  , 0.25) (0.25, 0.25) (0.5 , 0.25) (0.75, 0.25) (1.  , 0.25)]\n",
      " [(0.  , 0.5 ) (0.25, 0.5 ) (0.5 , 0.5 ) (0.75, 0.5 ) (1.  , 0.5 )]\n",
      " [(0.  , 0.75) (0.25, 0.75) (0.5 , 0.75) (0.75, 0.75) (1.  , 0.75)]\n",
      " [(0.  , 1.  ) (0.25, 1.  ) (0.5 , 1.  ) (0.75, 1.  ) (1.  , 1.  )]]\n"
     ]
    }
   ],
   "source": [
    "# 创建一个带有x,y坐标的结构化数组\n",
    "data = np.zeros((5,5), dtype=[('x', float), ('y', float)])\n",
    "# meshgrid\n",
    "data['x'], data['y'] = np.meshgrid(np.linspace(0,1,5), np.linspace(0,1,5))\n",
    "print('data: \\n', data)"
   ]
  },
  {
   "cell_type": "markdown",
   "metadata": {},
   "source": [
    "## 47. Given two arrays, X and Y, construct the Cauchy matrix C (Cij =1/(xi - yj))"
   ]
  },
  {
   "cell_type": "code",
   "execution_count": 49,
   "metadata": {},
   "outputs": [
    {
     "name": "stdout",
     "output_type": "stream",
     "text": [
      "data1:  [0 1 2 3 4 5 6 7 8 9]\n",
      "data2:  [ 0  5 10 15 20 25 30 35 40 45]\n",
      "result: \n",
      " [        inf -0.25       -0.125      -0.08333333 -0.0625     -0.05\n",
      " -0.04166667 -0.03571429 -0.03125    -0.02777778]\n"
     ]
    },
    {
     "name": "stderr",
     "output_type": "stream",
     "text": [
      "/Users/cleland/.pyenv/versions/3.7.1/envs/base/lib/python3.7/site-packages/ipykernel_launcher.py:6: RuntimeWarning: divide by zero encountered in true_divide\n",
      "  \n"
     ]
    }
   ],
   "source": [
    "data1 = np.arange(10)\n",
    "data2 = data1 * 5\n",
    "print('data1: ', data1)\n",
    "print('data2: ', data2)\n",
    "\n",
    "result = 1 / (data1 - data2)\n",
    "print('result: \\n', result)"
   ]
  },
  {
   "cell_type": "markdown",
   "metadata": {},
   "source": [
    "## 48. Print the minimum and maximum representable value for each numpy scalar type (★★☆)"
   ]
  },
  {
   "cell_type": "code",
   "execution_count": 50,
   "metadata": {},
   "outputs": [
    {
     "name": "stdout",
     "output_type": "stream",
     "text": [
      "-128\n",
      "127\n",
      "-2147483648\n",
      "2147483647\n",
      "-9223372036854775808\n",
      "9223372036854775807\n",
      "-3.4028235e+38\n",
      "3.4028235e+38\n",
      "1.1920929e-07\n",
      "-1.7976931348623157e+308\n",
      "1.7976931348623157e+308\n",
      "2.220446049250313e-16\n"
     ]
    }
   ],
   "source": [
    "for dtype in [np.int8, np.int32, np.int64]:\n",
    "   print(np.iinfo(dtype).min)\n",
    "   print(np.iinfo(dtype).max)\n",
    "for dtype in [np.float32, np.float64]:\n",
    "   print(np.finfo(dtype).min)\n",
    "   print(np.finfo(dtype).max)\n",
    "   print(np.finfo(dtype).eps)"
   ]
  },
  {
   "cell_type": "markdown",
   "metadata": {},
   "source": [
    "## 49. How to print all the values of an array? (★★☆)"
   ]
  },
  {
   "cell_type": "code",
   "execution_count": 51,
   "metadata": {},
   "outputs": [
    {
     "data": {
      "text/plain": [
       "array([ 0,  1,  2,  3,  4,  5,  6,  7,  8,  9, 10, 11, 12, 13, 14, 15, 16,\n",
       "       17, 18, 19, 20, 21, 22, 23, 24, 25, 26, 27, 28, 29, 30, 31, 32, 33,\n",
       "       34, 35, 36, 37, 38, 39, 40, 41, 42, 43, 44, 45, 46, 47, 48, 49, 50,\n",
       "       51, 52, 53, 54, 55, 56, 57, 58, 59, 60, 61, 62, 63, 64, 65, 66, 67,\n",
       "       68, 69, 70, 71, 72, 73, 74, 75, 76, 77, 78, 79, 80, 81, 82, 83, 84,\n",
       "       85, 86, 87, 88, 89, 90, 91, 92, 93, 94, 95, 96, 97, 98, 99])"
      ]
     },
     "execution_count": 51,
     "metadata": {},
     "output_type": "execute_result"
    }
   ],
   "source": [
    "data = np.arange(100)\n",
    "# set_printoptions设置打印的属性。threshold代表元素超过多少后，缩略打印\n",
    "np.set_printoptions(threshold=np.inf)\n",
    "data"
   ]
  },
  {
   "cell_type": "markdown",
   "metadata": {},
   "source": [
    "## 50. How to find the closest value (to a given scalar) in a vector? (★★☆)"
   ]
  },
  {
   "cell_type": "code",
   "execution_count": 52,
   "metadata": {},
   "outputs": [
    {
     "name": "stdout",
     "output_type": "stream",
     "text": [
      "data: \n",
      " [0.03971564 0.00505722 0.74041401 0.10405039 0.17594384 0.28738039\n",
      " 0.99061223 0.32590517 0.28071973 0.85800114 0.64368367 0.49749336\n",
      " 0.50481661 0.25083871 0.78574333 0.34377119 0.11942158 0.05107584\n",
      " 0.39309423 0.61861154 0.85003957 0.17800434 0.6364773  0.27242111\n",
      " 0.77892795 0.88701025 0.72226071 0.43824224 0.67104271 0.43550794\n",
      " 0.61243921 0.07205382 0.2823447  0.3269881  0.35765801 0.92437432\n",
      " 0.79956858 0.01400034 0.06667144 0.3567516  0.17005934 0.50696085\n",
      " 0.97508601 0.16204578 0.41117213 0.83445832 0.28571007 0.99857839\n",
      " 0.33193663 0.19331396 0.97809555 0.24825536 0.0075822  0.52113912\n",
      " 0.87495162 0.25478842 0.64366192 0.65041881 0.54963476 0.41808305\n",
      " 0.95740381 0.72971122 0.73358479 0.55992721 0.30259379 0.05561937\n",
      " 0.53112904 0.55827417 0.8549501  0.35145958 0.96341052 0.50558123\n",
      " 0.99408198 0.12291545 0.92648709 0.87176153 0.98645335 0.87133424\n",
      " 0.00969957 0.25931781 0.52965046 0.18323373 0.7084219  0.92092322\n",
      " 0.19732586 0.12119917 0.90160201 0.42104723 0.36739131 0.94176345\n",
      " 0.44660604 0.34398356 0.44438588 0.98048116 0.00157916 0.42715958\n",
      " 0.32420872 0.72401657 0.61598974 0.45537885]\n"
     ]
    },
    {
     "data": {
      "text/plain": [
       "0.19732586365193583"
      ]
     },
     "execution_count": 52,
     "metadata": {},
     "output_type": "execute_result"
    }
   ],
   "source": [
    "# 找到给定标量最接近的值\n",
    "data = np.random.random(100)\n",
    "print('data: \\n', data)\n",
    "# print('result: ', )\n",
    "scalar = 0.2\n",
    "data[(np.abs(data-scalar)).argmin()]"
   ]
  }
 ],
 "metadata": {
  "kernelspec": {
   "display_name": "Python 3",
   "language": "python",
   "name": "python3"
  },
  "language_info": {
   "codemirror_mode": {
    "name": "ipython",
    "version": 3
   },
   "file_extension": ".py",
   "mimetype": "text/x-python",
   "name": "python",
   "nbconvert_exporter": "python",
   "pygments_lexer": "ipython3",
   "version": "3.7.1"
  }
 },
 "nbformat": 4,
 "nbformat_minor": 2
}
