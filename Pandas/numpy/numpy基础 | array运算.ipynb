{
 "cells": [
  {
   "cell_type": "code",
   "execution_count": 2,
   "metadata": {},
   "outputs": [],
   "source": [
    "import numpy as np"
   ]
  },
  {
   "cell_type": "markdown",
   "metadata": {},
   "source": [
    "## 数组运算\n",
    "- 标量(Scalar): 只有大小，没有法相的量。如1，2，3等。\n",
    "- 向量(Vector): 也叫矢量，有大小和方向的量，其实就是一串数字，如(1,2)\n",
    "- 矩阵(Matrix): 好几个向量拍成一排合并成的一堆数字\n",
    "- 张量(Tensor): 按照任意维排列的一堆数字的推广。标量是零维张量，向量是一维张量，矩阵是二维张量"
   ]
  },
  {
   "cell_type": "markdown",
   "metadata": {},
   "source": [
    "### 数组与标量之间的运算"
   ]
  },
  {
   "cell_type": "code",
   "execution_count": 59,
   "metadata": {},
   "outputs": [
    {
     "name": "stdout",
     "output_type": "stream",
     "text": [
      "data: \n",
      " [[0 1 2 3 4]\n",
      " [5 6 7 8 9]]\n",
      "data+2: \n",
      " [[ 2  3  4  5  6]\n",
      " [ 7  8  9 10 11]]\n",
      "data-2: \n",
      " [[-2 -1  0  1  2]\n",
      " [ 3  4  5  6  7]]\n",
      "data*2: \n",
      " [[ 0  2  4  6  8]\n",
      " [10 12 14 16 18]]\n",
      "data/2: \n",
      " [[0.  0.5 1.  1.5 2. ]\n",
      " [2.5 3.  3.5 4.  4.5]]\n",
      "data**2: \n",
      " [[ 0  1  4  9 16]\n",
      " [25 36 49 64 81]]\n",
      "data//2: \n",
      " [[0 0 1 1 2]\n",
      " [2 3 3 4 4]]\n",
      "data%2: \n",
      " [[0 1 0 1 0]\n",
      " [1 0 1 0 1]]\n"
     ]
    }
   ],
   "source": [
    "data = np.arange(10).reshape(2,5)\n",
    "print('data: \\n', data)\n",
    "\n",
    "print('data+2: \\n', data+2)\n",
    "print('data-2: \\n', data-2)\n",
    "print('data*2: \\n', data*2)\n",
    "print('data/2: \\n', data/2)\n",
    "print('data**2: \\n', data**2)\n",
    "print('data//2: \\n', data//2)\n",
    "print('data%2: \\n', data%2)"
   ]
  },
  {
   "cell_type": "markdown",
   "metadata": {},
   "source": [
    "### 向量化运算"
   ]
  },
  {
   "cell_type": "code",
   "execution_count": 4,
   "metadata": {},
   "outputs": [
    {
     "name": "stdout",
     "output_type": "stream",
     "text": [
      "data1: \n",
      " [[0 1 2 3 4]\n",
      " [5 6 7 8 9]]\n",
      "data2: \n",
      " [[0 1 2 3 4]\n",
      " [5 6 7 8 9]]\n",
      "data1+data2: \n",
      " [[ 0  2  4  6  8]\n",
      " [10 12 14 16 18]]\n",
      "data1-data2: \n",
      " [[0 0 0 0 0]\n",
      " [0 0 0 0 0]]\n",
      "data1*data2: \n",
      " [[ 0  1  4  9 16]\n",
      " [25 36 49 64 81]]\n",
      "data1/data2: \n",
      " [[nan  1.  1.  1.  1.]\n",
      " [ 1.  1.  1.  1.  1.]]\n",
      "data1.T: \n",
      " [[0 5]\n",
      " [1 6]\n",
      " [2 7]\n",
      " [3 8]\n",
      " [4 9]]\n"
     ]
    },
    {
     "name": "stderr",
     "output_type": "stream",
     "text": [
      "/usr/local/lib/python3.7/site-packages/ipykernel_launcher.py:9: RuntimeWarning: invalid value encountered in true_divide\n",
      "  if __name__ == '__main__':\n"
     ]
    }
   ],
   "source": [
    "data1 = np.arange(10).reshape(2, 5)\n",
    "data2 = np.arange(10).reshape(2, 5)\n",
    "print('data1: \\n', data1)\n",
    "print('data2: \\n', data2)\n",
    "\n",
    "print('data1+data2: \\n', data1+data2)\n",
    "print('data1-data2: \\n', data1-data2)\n",
    "print('data1*data2: \\n', data1*data2)\n",
    "print('data1/data2: \\n', data1/data2)\n",
    "\n",
    "# 矩阵data1转置\n",
    "print('data1.T: \\n', data1.T)"
   ]
  },
  {
   "cell_type": "code",
   "execution_count": 9,
   "metadata": {},
   "outputs": [
    {
     "name": "stdout",
     "output_type": "stream",
     "text": [
      "data1:  [0 1 2 3 4 5 6 7 8 9]\n",
      "data2:  [9 8 7 6 5 4 3 2 1 0]\n",
      "dot:  120\n"
     ]
    }
   ],
   "source": [
    "# 矩阵的积\n",
    "data1 = np.arange(10)\n",
    "data2 = data1[::-1]\n",
    "\n",
    "print('data1: ', data1)\n",
    "print('data2: ', data2)\n",
    "print('dot: ', np.dot(data1, data2))"
   ]
  },
  {
   "cell_type": "markdown",
   "metadata": {},
   "source": [
    "### 数组广播\n",
    "TODO: 待补充"
   ]
  },
  {
   "cell_type": "markdown",
   "metadata": {},
   "source": [
    "## 常用函数"
   ]
  },
  {
   "cell_type": "code",
   "execution_count": 28,
   "metadata": {},
   "outputs": [
    {
     "name": "stdout",
     "output_type": "stream",
     "text": [
      "data1: \n",
      " [[ 1  4  9]\n",
      " [16 25 36]]\n",
      "sqrt: \n",
      " [[1. 2. 3.]\n",
      " [4. 5. 6.]]\n",
      "abs: \n",
      " [[ 1  4  9]\n",
      " [16 25 36]]\n",
      "square: \n",
      " [[   1   16   81]\n",
      " [ 256  625 1296]]\n",
      "data2: \n",
      " [[1 2 3]\n",
      " [4 5 6]]\n",
      "data1+data2: \n",
      " [[ 2  6 12]\n",
      " [20 30 42]]\n",
      "data1*data2: \n",
      " [[  1   8  27]\n",
      " [ 64 125 216]]\n",
      "greater: \n",
      " [[False  True  True]\n",
      " [ True  True  True]]\n"
     ]
    }
   ],
   "source": [
    "data1 = np.array([1,4,9,16,25,36]).reshape(2,3)\n",
    "print('data1: \\n', data1)\n",
    "print('sqrt: \\n', np.sqrt(data1)) # 开方\n",
    "print('abs: \\n', np.abs(data1)) # 绝对值\n",
    "print('square: \\n', np.square(data1)) # 求平方\n",
    "\n",
    "data2 = np.array([1,2,3,4,5,6]).reshape(2,3)\n",
    "print('data2: \\n', data2)\n",
    "print('data1+data2: \\n', np.add(data1, data2)) # 两个矩阵相加\n",
    "print('data1*data2: \\n', np.multiply(data1, data2)) # 两个矩阵相乘\n",
    "print('greater: \\n', np.greater(data1, data2)) # 元素比较"
   ]
  },
  {
   "cell_type": "markdown",
   "metadata": {},
   "source": [
    "## 数据统计"
   ]
  },
  {
   "cell_type": "markdown",
   "metadata": {},
   "source": [
    "### 单维度聚合"
   ]
  },
  {
   "cell_type": "code",
   "execution_count": 62,
   "metadata": {},
   "outputs": [
    {
     "name": "stdout",
     "output_type": "stream",
     "text": [
      "data: \n",
      " [ 2  3  4  5  6  7  8  9 10 11 12 13 14 15 16 17 18 19]\n",
      "sum:  189\n",
      "mean:  10.5\n",
      "min:  2\n",
      "max:  19\n",
      "argmin:  0\n",
      "argmax:  17\n",
      "cumsum:  [  2   5   9  14  20  27  35  44  54  65  77  90 104 119 135 152 170 189]\n",
      "cumprod:  [                 2                  6                 24\n",
      "                120                720               5040\n",
      "              40320             362880            3628800\n",
      "           39916800          479001600         6227020800\n",
      "        87178291200      1307674368000     20922789888000\n",
      "    355687428096000   6402373705728000 121645100408832000]\n"
     ]
    }
   ],
   "source": [
    "data = np.arange(2, 20)\n",
    "print('data: \\n', data)\n",
    "\n",
    "print('sum: ', data.sum())\n",
    "print('mean: ', data.mean())\n",
    "print('min: ', data.min())\n",
    "print('max: ', data.max())\n",
    "print('argmin: ', data.argmin())\n",
    "print('argmax: ', data.argmax())\n",
    "print('cumsum: ', data.cumsum()) # 元素累加\n",
    "print('cumprod: ', data.cumprod()) # 元素累计积"
   ]
  },
  {
   "cell_type": "markdown",
   "metadata": {},
   "source": [
    "### 多维度聚合"
   ]
  },
  {
   "cell_type": "code",
   "execution_count": 66,
   "metadata": {},
   "outputs": [
    {
     "data": {
      "text/plain": [
       "array([[ 0,  1,  2,  3,  4],\n",
       "       [ 5,  6,  7,  8,  9],\n",
       "       [10, 11, 12, 13, 14],\n",
       "       [15, 16, 17, 18, 19],\n",
       "       [20, 21, 22, 23, 24]])"
      ]
     },
     "execution_count": 66,
     "metadata": {},
     "output_type": "execute_result"
    }
   ],
   "source": [
    "data = np.arange(0,25).reshape(5,5)\n",
    "data"
   ]
  },
  {
   "cell_type": "code",
   "execution_count": 70,
   "metadata": {},
   "outputs": [
    {
     "name": "stdout",
     "output_type": "stream",
     "text": [
      "全部元素求和 300\n",
      "按行横穿求和 [50 55 60 65 70]\n",
      "按列横穿求和 [ 10  35  60  85 110]\n"
     ]
    }
   ],
   "source": [
    "print(u'全部元素求和', data.sum())\n",
    "print(u'按行横穿求和', data.sum(axis=0))\n",
    "print(u'按列横穿求和', data.sum(axis=1))"
   ]
  },
  {
   "cell_type": "markdown",
   "metadata": {},
   "source": [
    "## 随机数"
   ]
  },
  {
   "cell_type": "code",
   "execution_count": 48,
   "metadata": {},
   "outputs": [
    {
     "data": {
      "text/plain": [
       "array([3, 3, 3, 7, 0, 1, 9, 9, 0, 4, 7, 3, 2, 7, 2, 0, 0, 4, 5, 5])"
      ]
     },
     "execution_count": 48,
     "metadata": {},
     "output_type": "execute_result"
    }
   ],
   "source": [
    "# 整数随机\n",
    "np.random.randint(0,10, size=20)"
   ]
  },
  {
   "cell_type": "code",
   "execution_count": 51,
   "metadata": {},
   "outputs": [
    {
     "data": {
      "text/plain": [
       "array([[0.61209572, 0.616934  , 0.94374808, 0.6818203 , 0.3595079 ],\n",
       "       [0.43703195, 0.6976312 , 0.06022547, 0.66676672, 0.67063787]])"
      ]
     },
     "execution_count": 51,
     "metadata": {},
     "output_type": "execute_result"
    }
   ],
   "source": [
    "# 0-1的随机数\n",
    "np.random.random((2,5))"
   ]
  },
  {
   "cell_type": "code",
   "execution_count": 54,
   "metadata": {},
   "outputs": [
    {
     "data": {
      "text/plain": [
       "array([ 1.03081595, -1.27698899,  0.83771977, -1.49011141, -1.070215  ,\n",
       "       -0.20912862,  0.60457228, -1.74305823,  1.52422681,  1.86357532,\n",
       "        1.29137792,  1.30069627,  0.91820283, -0.15880047, -0.96406336,\n",
       "       -1.99077882,  0.08973073,  0.11485388, -0.58581518,  0.29877204])"
      ]
     },
     "execution_count": 54,
     "metadata": {},
     "output_type": "execute_result"
    }
   ],
   "source": [
    "# 正态分布\n",
    "np.random.normal(0,1,20)"
   ]
  },
  {
   "cell_type": "code",
   "execution_count": 52,
   "metadata": {},
   "outputs": [
    {
     "data": {
      "text/plain": [
       "array([[0.5488135 , 0.71518937, 0.60276338],\n",
       "       [0.54488318, 0.4236548 , 0.64589411],\n",
       "       [0.43758721, 0.891773  , 0.96366276]])"
      ]
     },
     "execution_count": 52,
     "metadata": {},
     "output_type": "execute_result"
    }
   ],
   "source": [
    "# 伪随机数(计算机里都是伪随机数)\n",
    "np.random.seed(0) # 随机种子\n",
    "np.random.rand(3,3)"
   ]
  },
  {
   "cell_type": "code",
   "execution_count": null,
   "metadata": {},
   "outputs": [],
   "source": []
  }
 ],
 "metadata": {
  "kernelspec": {
   "display_name": "Python 3",
   "language": "python",
   "name": "python3"
  },
  "language_info": {
   "codemirror_mode": {
    "name": "ipython",
    "version": 3
   },
   "file_extension": ".py",
   "mimetype": "text/x-python",
   "name": "python",
   "nbconvert_exporter": "python",
   "pygments_lexer": "ipython3",
   "version": "3.7.3"
  },
  "toc": {
   "base_numbering": 1,
   "nav_menu": {},
   "number_sections": true,
   "sideBar": true,
   "skip_h1_title": false,
   "title_cell": "Table of Contents",
   "title_sidebar": "Contents",
   "toc_cell": false,
   "toc_position": {},
   "toc_section_display": true,
   "toc_window_display": false
  }
 },
 "nbformat": 4,
 "nbformat_minor": 2
}
