{
 "cells": [
  {
   "cell_type": "code",
   "execution_count": 1,
   "metadata": {},
   "outputs": [],
   "source": [
    "import numpy as np"
   ]
  },
  {
   "cell_type": "markdown",
   "metadata": {},
   "source": [
    "## 数组运算\n",
    "- 标量(Scalar): 只有大小，没有法相的量。如1，2，3等。\n",
    "- 向量(Vector): 也叫矢量，有大小和方向的量，其实就是一串数字，如(1,2)\n",
    "- 矩阵(Matrix): 好几个向量拍成一排合并成的一堆数字\n",
    "- 张量(Tensor): 按照任意维排列的一堆数字的推广。标量是零维张量，向量是一维张量，矩阵是二维张量"
   ]
  },
  {
   "cell_type": "markdown",
   "metadata": {},
   "source": [
    "### 数组与标量之间的运算"
   ]
  },
  {
   "cell_type": "code",
   "execution_count": 9,
   "metadata": {},
   "outputs": [
    {
     "name": "stdout",
     "output_type": "stream",
     "text": [
      "data1: \n",
      " [[0 1 2 3 4]\n",
      " [5 6 7 8 9]]\n",
      "data2:  10\n",
      "data1+data2: \n",
      " [[10 11 12 13 14]\n",
      " [15 16 17 18 19]]\n",
      "data1-data2: \n",
      " [[-10  -9  -8  -7  -6]\n",
      " [ -5  -4  -3  -2  -1]]\n",
      "data1*data2: \n",
      " [[ 0 10 20 30 40]\n",
      " [50 60 70 80 90]]\n",
      "data1/data2: \n",
      " [[0.  0.1 0.2 0.3 0.4]\n",
      " [0.5 0.6 0.7 0.8 0.9]]\n"
     ]
    }
   ],
   "source": [
    "data1 = np.arange(10).reshape(2,5)\n",
    "data2 = 10\n",
    "print('data1: \\n', data1)\n",
    "print('data2: ', data2)\n",
    "\n",
    "print('data1+data2: \\n', data1+data2)\n",
    "print('data1-data2: \\n', data1-data2)\n",
    "print('data1*data2: \\n', data1*data2)\n",
    "print('data1/data2: \\n', data1/data2)"
   ]
  },
  {
   "cell_type": "markdown",
   "metadata": {},
   "source": [
    "### 向量化运算"
   ]
  },
  {
   "cell_type": "code",
   "execution_count": 12,
   "metadata": {},
   "outputs": [
    {
     "name": "stdout",
     "output_type": "stream",
     "text": [
      "data1+data2: \n",
      " [[ 0  2  4  6  8]\n",
      " [10 12 14 16 18]]\n",
      "data1-data2: \n",
      " [[0 0 0 0 0]\n",
      " [0 0 0 0 0]]\n",
      "data1*data2: \n",
      " [[ 0  1  4  9 16]\n",
      " [25 36 49 64 81]]\n",
      "data1/data2: \n",
      " [[nan  1.  1.  1.  1.]\n",
      " [ 1.  1.  1.  1.  1.]]\n"
     ]
    },
    {
     "name": "stderr",
     "output_type": "stream",
     "text": [
      "/Users/cleland/.pyenv/versions/3.7.1/envs/base/lib/python3.7/site-packages/ipykernel_launcher.py:7: RuntimeWarning: invalid value encountered in true_divide\n",
      "  import sys\n"
     ]
    }
   ],
   "source": [
    "data1 = np.arange(10).reshape(2, 5)\n",
    "data2 = np.arange(10).reshape(2, 5)\n",
    "\n",
    "print('data1+data2: \\n', data1+data2)\n",
    "print('data1-data2: \\n', data1-data2)\n",
    "print('data1*data2: \\n', data1*data2)\n",
    "print('data1/data2: \\n', data1/data2)"
   ]
  },
  {
   "cell_type": "markdown",
   "metadata": {},
   "source": [
    "### 数组广播\n",
    "TODO: 待补充"
   ]
  },
  {
   "cell_type": "markdown",
   "metadata": {},
   "source": [
    "## 常用函数"
   ]
  },
  {
   "cell_type": "code",
   "execution_count": 28,
   "metadata": {},
   "outputs": [
    {
     "name": "stdout",
     "output_type": "stream",
     "text": [
      "data1: \n",
      " [[ 1  4  9]\n",
      " [16 25 36]]\n",
      "sqrt: \n",
      " [[1. 2. 3.]\n",
      " [4. 5. 6.]]\n",
      "abs: \n",
      " [[ 1  4  9]\n",
      " [16 25 36]]\n",
      "square: \n",
      " [[   1   16   81]\n",
      " [ 256  625 1296]]\n",
      "data2: \n",
      " [[1 2 3]\n",
      " [4 5 6]]\n",
      "data1+data2: \n",
      " [[ 2  6 12]\n",
      " [20 30 42]]\n",
      "data1*data2: \n",
      " [[  1   8  27]\n",
      " [ 64 125 216]]\n",
      "greater: \n",
      " [[False  True  True]\n",
      " [ True  True  True]]\n"
     ]
    }
   ],
   "source": [
    "data1 = np.array([1,4,9,16,25,36]).reshape(2,3)\n",
    "print('data1: \\n', data1)\n",
    "print('sqrt: \\n', np.sqrt(data1)) # 开发\n",
    "print('abs: \\n', np.abs(data1)) # 绝对值\n",
    "print('square: \\n', np.square(data1)) # 求平方\n",
    "\n",
    "data2 = np.array([1,2,3,4,5,6]).reshape(2,3)\n",
    "print('data2: \\n', data2)\n",
    "print('data1+data2: \\n', np.add(data1, data2)) # 两个矩阵相加\n",
    "print('data1*data2: \\n', np.multiply(data1, data2)) # 两个矩阵相乘\n",
    "print('greater: \\n', np.greater(data1, data2)) # 元素比较"
   ]
  },
  {
   "cell_type": "markdown",
   "metadata": {},
   "source": [
    "## 数据统计"
   ]
  },
  {
   "cell_type": "code",
   "execution_count": 41,
   "metadata": {},
   "outputs": [
    {
     "name": "stdout",
     "output_type": "stream",
     "text": [
      "data: \n",
      " [ 2  3  4  5  6  7  8  9 10 11 12 13 14 15 16 17 18 19]\n",
      "sum:  189\n",
      "mean:  10.5\n",
      "min:  2\n",
      "max:  19\n",
      "argmin:  0\n",
      "argmax:  17\n",
      "cumsum:  [  2   5   9  14  20  27  35  44  54  65  77  90 104 119 135 152 170 189]\n",
      "cumprod:  [                 2                  6                 24\n",
      "                120                720               5040\n",
      "              40320             362880            3628800\n",
      "           39916800          479001600         6227020800\n",
      "        87178291200      1307674368000     20922789888000\n",
      "    355687428096000   6402373705728000 121645100408832000]\n"
     ]
    }
   ],
   "source": [
    "data = np.arange(2, 20)\n",
    "print('data: \\n', data)\n",
    "\n",
    "print('sum: ', data.sum())\n",
    "print('mean: ', data.mean())\n",
    "print('min: ', data.min())\n",
    "print('max: ', data.max())\n",
    "print('argmin: ', data.argmin())\n",
    "print('argmax: ', data.argmax())\n",
    "print('cumsum: ', data.cumsum()) # 元素累加\n",
    "print('cumprod: ', data.cumprod()) # 元素累计积"
   ]
  },
  {
   "cell_type": "markdown",
   "metadata": {},
   "source": [
    "## 随机数"
   ]
  },
  {
   "cell_type": "code",
   "execution_count": 43,
   "metadata": {},
   "outputs": [
    {
     "data": {
      "text/plain": [
       "array([[0.0472813 , 0.6490086 , 0.56793693],\n",
       "       [0.82043207, 0.90965159, 0.76944866],\n",
       "       [0.83052783, 0.71636763, 0.13288392]])"
      ]
     },
     "execution_count": 43,
     "metadata": {},
     "output_type": "execute_result"
    }
   ],
   "source": [
    "np.random.rand(3,3)"
   ]
  },
  {
   "cell_type": "code",
   "execution_count": 44,
   "metadata": {},
   "outputs": [
    {
     "data": {
      "text/plain": [
       "array([[0.5488135 , 0.71518937, 0.60276338],\n",
       "       [0.54488318, 0.4236548 , 0.64589411],\n",
       "       [0.43758721, 0.891773  , 0.96366276]])"
      ]
     },
     "execution_count": 44,
     "metadata": {},
     "output_type": "execute_result"
    }
   ],
   "source": [
    "# 为\n",
    "np.random.seed(0)\n",
    "np.random.rand(3,3)"
   ]
  },
  {
   "cell_type": "code",
   "execution_count": null,
   "metadata": {},
   "outputs": [],
   "source": []
  }
 ],
 "metadata": {
  "kernelspec": {
   "display_name": "Python 3",
   "language": "python",
   "name": "python3"
  },
  "language_info": {
   "codemirror_mode": {
    "name": "ipython",
    "version": 3
   },
   "file_extension": ".py",
   "mimetype": "text/x-python",
   "name": "python",
   "nbconvert_exporter": "python",
   "pygments_lexer": "ipython3",
   "version": "3.7.1"
  }
 },
 "nbformat": 4,
 "nbformat_minor": 2
}
