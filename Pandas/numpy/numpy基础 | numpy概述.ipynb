{
 "cells": [
  {
   "cell_type": "code",
   "execution_count": 1,
   "metadata": {
    "ExecuteTime": {
     "end_time": "2020-06-07T12:07:51.627469Z",
     "start_time": "2020-06-07T12:07:51.340845Z"
    }
   },
   "outputs": [],
   "source": [
    "import numpy as np"
   ]
  },
  {
   "cell_type": "markdown",
   "metadata": {},
   "source": [
    "## 查看版本信息"
   ]
  },
  {
   "cell_type": "code",
   "execution_count": 2,
   "metadata": {
    "ExecuteTime": {
     "end_time": "2020-06-07T12:07:51.646119Z",
     "start_time": "2020-06-07T12:07:51.630260Z"
    }
   },
   "outputs": [
    {
     "name": "stdout",
     "output_type": "stream",
     "text": [
      "numpy 版本 1.17.3\n",
      "blas_mkl_info:\n",
      "  NOT AVAILABLE\n",
      "blis_info:\n",
      "  NOT AVAILABLE\n",
      "openblas_info:\n",
      "    libraries = ['openblas', 'openblas']\n",
      "    library_dirs = ['/usr/local/lib']\n",
      "    language = c\n",
      "    define_macros = [('HAVE_CBLAS', None)]\n",
      "blas_opt_info:\n",
      "    libraries = ['openblas', 'openblas']\n",
      "    library_dirs = ['/usr/local/lib']\n",
      "    language = c\n",
      "    define_macros = [('HAVE_CBLAS', None)]\n",
      "lapack_mkl_info:\n",
      "  NOT AVAILABLE\n",
      "openblas_lapack_info:\n",
      "    libraries = ['openblas', 'openblas']\n",
      "    library_dirs = ['/usr/local/lib']\n",
      "    language = c\n",
      "    define_macros = [('HAVE_CBLAS', None)]\n",
      "lapack_opt_info:\n",
      "    libraries = ['openblas', 'openblas']\n",
      "    library_dirs = ['/usr/local/lib']\n",
      "    language = c\n",
      "    define_macros = [('HAVE_CBLAS', None)]\n",
      "numpy 配置: \n",
      " None\n"
     ]
    }
   ],
   "source": [
    "print(u'numpy 版本', np.__version__)\n",
    "print(u'numpy 配置: \\n', np.show_config()) "
   ]
  },
  {
   "cell_type": "markdown",
   "metadata": {},
   "source": [
    "## python内置list vs numpy\n",
    "\n",
    "可以看出不管在内存消耗，还是计算上。numpy更优。原因：\n",
    "- python的list是个通用的结果。他能包含任意类型的对象，并且是动态类型\n",
    "- numpy的ndarry是静态的，同质的类型"
   ]
  },
  {
   "cell_type": "code",
   "execution_count": 22,
   "metadata": {
    "ExecuteTime": {
     "end_time": "2020-06-07T12:17:14.608266Z",
     "start_time": "2020-06-07T12:17:11.586209Z"
    }
   },
   "outputs": [
    {
     "name": "stdout",
     "output_type": "stream",
     "text": [
      "python内置list\n",
      "CPU times: user 84.6 ms, sys: 20.8 ms, total: 105 ms\n",
      "Wall time: 116 ms\n",
      "38.812095642089844  MB\n",
      "\n",
      "numpy\n",
      "CPU times: user 2.03 ms, sys: 2.84 ms, total: 4.86 ms\n",
      "Wall time: 4.91 ms\n",
      "7.629478454589844  MB\n"
     ]
    }
   ],
   "source": [
    "from pympler.asizeof import asizeof\n",
    "# 将(1~1000000) 放大一倍\n",
    "\n",
    "# python内置list\n",
    "print('python内置list')\n",
    "list1 = range(1, 1000000)\n",
    "%time list1 = [item * 2 for item in list1]\n",
    "print(asizeof(list1)/(1024*1024), ' MB')\n",
    "\n",
    "# numpy\n",
    "print('\\nnumpy')\n",
    "nlist1 = np.arange(1,1000000)\n",
    "%time nlist1 = nlist1 * 2\n",
    "print(asizeof(nlist1)/(1024*1024), ' MB')\n"
   ]
  },
  {
   "cell_type": "code",
   "execution_count": 15,
   "metadata": {
    "ExecuteTime": {
     "end_time": "2020-06-07T12:13:11.604253Z",
     "start_time": "2020-06-07T12:13:11.591349Z"
    }
   },
   "outputs": [
    {
     "name": "stdout",
     "output_type": "stream",
     "text": [
      "sys.getsizeof(klist1):  72\n",
      "sys.getsizeof(klist2):  80\n",
      "asizeof(klist1):  320\n",
      "asizeof(klist2):  576\n"
     ]
    }
   ],
   "source": [
    "import sys\n",
    "from pympler.asizeof import asizeof\n",
    "\n",
    "tuple1 = ('1234','2019-04-27','23.4658')\n",
    "tuple2 = ('1563','2019-04-27','19.2468')\n",
    "klist1 = [tuple1]\n",
    "klist2 = [tuple1,tuple2]\n",
    "# The results for the following did not answer my question \n",
    "print (\"sys.getsizeof(klist1): \",sys.getsizeof(klist1))\n",
    "print (\"sys.getsizeof(klist2): \",sys.getsizeof(klist2))    \n",
    "# The results for the following give a quite reasonable answer\n",
    "print (\"asizeof(klist1): \",asizeof(klist1))\n",
    "print (\"asizeof(klist2): \",asizeof(klist2))"
   ]
  },
  {
   "cell_type": "markdown",
   "metadata": {},
   "source": [
    "## 数组内存占用"
   ]
  },
  {
   "cell_type": "code",
   "execution_count": 4,
   "metadata": {
    "ExecuteTime": {
     "end_time": "2020-06-07T12:07:52.401364Z",
     "start_time": "2020-06-07T12:07:51.921478Z"
    }
   },
   "outputs": [
    {
     "name": "stdout",
     "output_type": "stream",
     "text": [
      "数组所在内存大小(方法一):  400000000\n",
      "CPU times: user 104 µs, sys: 74 µs, total: 178 µs\n",
      "Wall time: 183 µs\n",
      "数组所在内存大小(方法二):  400000000\n",
      "CPU times: user 36 µs, sys: 6 µs, total: 42 µs\n",
      "Wall time: 38.9 µs\n",
      "数组所在内存大小(方法三):  400000096\n",
      "CPU times: user 40 µs, sys: 12 µs, total: 52 µs\n",
      "Wall time: 50.3 µs\n"
     ]
    }
   ],
   "source": [
    "# 计算数组所在内存大小\n",
    "data = np.arange(50000000)\n",
    "%time print(u'数组所在内存大小(方法一): ', data.size*data.itemsize)\n",
    "%time print(u'数组所在内存大小(方法二): ', data.nbytes)\n",
    "# 也可以使用python内置的方法，不过效率估计会低一些\n",
    "from sys import getsizeof\n",
    "%time print(u'数组所在内存大小(方法三): ', getsizeof(data))"
   ]
  },
  {
   "cell_type": "markdown",
   "metadata": {},
   "source": [
    "## 查看命令行帮助文档"
   ]
  },
  {
   "cell_type": "code",
   "execution_count": 5,
   "metadata": {
    "ExecuteTime": {
     "end_time": "2020-06-07T12:07:52.413944Z",
     "start_time": "2020-06-07T12:07:52.407197Z"
    }
   },
   "outputs": [
    {
     "name": "stdout",
     "output_type": "stream",
     "text": [
      "Help on built-in function arange in module numpy:\n",
      "\n",
      "arange(...)\n",
      "    arange([start,] stop[, step,], dtype=None)\n",
      "    \n",
      "    Return evenly spaced values within a given interval.\n",
      "    \n",
      "    Values are generated within the half-open interval ``[start, stop)``\n",
      "    (in other words, the interval including `start` but excluding `stop`).\n",
      "    For integer arguments the function is equivalent to the Python built-in\n",
      "    `range` function, but returns an ndarray rather than a list.\n",
      "    \n",
      "    When using a non-integer step, such as 0.1, the results will often not\n",
      "    be consistent.  It is better to use `numpy.linspace` for these cases.\n",
      "    \n",
      "    Parameters\n",
      "    ----------\n",
      "    start : number, optional\n",
      "        Start of interval.  The interval includes this value.  The default\n",
      "        start value is 0.\n",
      "    stop : number\n",
      "        End of interval.  The interval does not include this value, except\n",
      "        in some cases where `step` is not an integer and floating point\n",
      "        round-off affects the length of `out`.\n",
      "    step : number, optional\n",
      "        Spacing between values.  For any output `out`, this is the distance\n",
      "        between two adjacent values, ``out[i+1] - out[i]``.  The default\n",
      "        step size is 1.  If `step` is specified as a position argument,\n",
      "        `start` must also be given.\n",
      "    dtype : dtype\n",
      "        The type of the output array.  If `dtype` is not given, infer the data\n",
      "        type from the other input arguments.\n",
      "    \n",
      "    Returns\n",
      "    -------\n",
      "    arange : ndarray\n",
      "        Array of evenly spaced values.\n",
      "    \n",
      "        For floating point arguments, the length of the result is\n",
      "        ``ceil((stop - start)/step)``.  Because of floating point overflow,\n",
      "        this rule may result in the last element of `out` being greater\n",
      "        than `stop`.\n",
      "    \n",
      "    See Also\n",
      "    --------\n",
      "    linspace : Evenly spaced numbers with careful handling of endpoints.\n",
      "    ogrid: Arrays of evenly spaced numbers in N-dimensions.\n",
      "    mgrid: Grid-shaped arrays of evenly spaced numbers in N-dimensions.\n",
      "    \n",
      "    Examples\n",
      "    --------\n",
      "    >>> np.arange(3)\n",
      "    array([0, 1, 2])\n",
      "    >>> np.arange(3.0)\n",
      "    array([ 0.,  1.,  2.])\n",
      "    >>> np.arange(3,7)\n",
      "    array([3, 4, 5, 6])\n",
      "    >>> np.arange(3,7,2)\n",
      "    array([3, 5])\n",
      "\n"
     ]
    }
   ],
   "source": [
    "help(np.arange)"
   ]
  },
  {
   "cell_type": "code",
   "execution_count": 6,
   "metadata": {
    "ExecuteTime": {
     "end_time": "2020-06-07T12:07:52.426583Z",
     "start_time": "2020-06-07T12:07:52.417469Z"
    }
   },
   "outputs": [
    {
     "name": "stdout",
     "output_type": "stream",
     "text": [
      "arange([start,] stop[, step,], dtype=None)\n",
      "\n",
      "Return evenly spaced values within a given interval.\n",
      "\n",
      "Values are generated within the half-open interval ``[start, stop)``\n",
      "(in other words, the interval including `start` but excluding `stop`).\n",
      "For integer arguments the function is equivalent to the Python built-in\n",
      "`range` function, but returns an ndarray rather than a list.\n",
      "\n",
      "When using a non-integer step, such as 0.1, the results will often not\n",
      "be consistent.  It is better to use `numpy.linspace` for these cases.\n",
      "\n",
      "Parameters\n",
      "----------\n",
      "start : number, optional\n",
      "    Start of interval.  The interval includes this value.  The default\n",
      "    start value is 0.\n",
      "stop : number\n",
      "    End of interval.  The interval does not include this value, except\n",
      "    in some cases where `step` is not an integer and floating point\n",
      "    round-off affects the length of `out`.\n",
      "step : number, optional\n",
      "    Spacing between values.  For any output `out`, this is the distance\n",
      "    between two adjacent values, ``out[i+1] - out[i]``.  The default\n",
      "    step size is 1.  If `step` is specified as a position argument,\n",
      "    `start` must also be given.\n",
      "dtype : dtype\n",
      "    The type of the output array.  If `dtype` is not given, infer the data\n",
      "    type from the other input arguments.\n",
      "\n",
      "Returns\n",
      "-------\n",
      "arange : ndarray\n",
      "    Array of evenly spaced values.\n",
      "\n",
      "    For floating point arguments, the length of the result is\n",
      "    ``ceil((stop - start)/step)``.  Because of floating point overflow,\n",
      "    this rule may result in the last element of `out` being greater\n",
      "    than `stop`.\n",
      "\n",
      "See Also\n",
      "--------\n",
      "linspace : Evenly spaced numbers with careful handling of endpoints.\n",
      "ogrid: Arrays of evenly spaced numbers in N-dimensions.\n",
      "mgrid: Grid-shaped arrays of evenly spaced numbers in N-dimensions.\n",
      "\n",
      "Examples\n",
      "--------\n",
      ">>> np.arange(3)\n",
      "array([0, 1, 2])\n",
      ">>> np.arange(3.0)\n",
      "array([ 0.,  1.,  2.])\n",
      ">>> np.arange(3,7)\n",
      "array([3, 4, 5, 6])\n",
      ">>> np.arange(3,7,2)\n",
      "array([3, 5])\n"
     ]
    }
   ],
   "source": [
    "np.info(np.arange)"
   ]
  },
  {
   "cell_type": "markdown",
   "metadata": {},
   "source": [
    "## 打印设置"
   ]
  },
  {
   "cell_type": "markdown",
   "metadata": {},
   "source": [
    "### threshold 最大打印数\n",
    "\n",
    "超过后，缩略打印。默认值100"
   ]
  },
  {
   "cell_type": "code",
   "execution_count": 7,
   "metadata": {
    "ExecuteTime": {
     "end_time": "2020-06-07T12:07:52.563695Z",
     "start_time": "2020-06-07T12:07:52.431841Z"
    }
   },
   "outputs": [
    {
     "name": "stdout",
     "output_type": "stream",
     "text": [
      "data: \n",
      " [ 0  1  2  3  4  5  6  7  8  9 10 11 12 13 14 15 16 17 18 19 20 21 22 23\n",
      " 24 25 26 27 28 29 30 31 32 33 34 35 36 37 38 39 40 41 42 43 44 45 46 47\n",
      " 48 49 50 51 52 53 54 55 56 57 58 59 60 61 62 63 64 65 66 67 68 69 70 71\n",
      " 72 73 74 75 76 77 78 79 80 81 82 83 84 85 86 87 88 89 90 91 92 93 94 95\n",
      " 96 97 98 99]\n",
      "data: \n",
      " [ 0  1  2 ... 97 98 99]\n",
      "data: \n",
      " [ 0  1  2  3  4  5  6  7  8  9 10 11 12 13 14 15 16 17 18 19 20 21 22 23\n",
      " 24 25 26 27 28 29 30 31 32 33 34 35 36 37 38 39 40 41 42 43 44 45 46 47\n",
      " 48 49 50 51 52 53 54 55 56 57 58 59 60 61 62 63 64 65 66 67 68 69 70 71\n",
      " 72 73 74 75 76 77 78 79 80 81 82 83 84 85 86 87 88 89 90 91 92 93 94 95\n",
      " 96 97 98 99]\n"
     ]
    }
   ],
   "source": [
    "data = np.arange(100)\n",
    "print('data: \\n', data)\n",
    "# set_printoptions设置打印的属性。threshold代表元素超过多少后，缩略打印. 默认值1000\n",
    "np.set_printoptions(threshold=10)\n",
    "print('data: \\n', data)\n",
    "# 放开threshold，打印全部，不管数组多大\n",
    "np.set_printoptions(threshold=np.inf)\n",
    "print('data: \\n', data)"
   ]
  },
  {
   "cell_type": "markdown",
   "metadata": {},
   "source": [
    "### precision 小数保留的位数\n",
    "小数保留的位数"
   ]
  },
  {
   "cell_type": "code",
   "execution_count": 8,
   "metadata": {
    "ExecuteTime": {
     "end_time": "2020-06-07T12:07:52.612816Z",
     "start_time": "2020-06-07T12:07:52.577125Z"
    }
   },
   "outputs": [
    {
     "name": "stdout",
     "output_type": "stream",
     "text": [
      "data: \n",
      " [0.08191189 0.60000345 0.92971769 0.79710831 0.35720261 0.12690531\n",
      " 0.66931877 0.22506644 0.85528685 0.83947446]\n",
      "data: \n",
      " [0.08 0.6  0.93 0.8  0.36 0.13 0.67 0.23 0.86 0.84]\n"
     ]
    }
   ],
   "source": [
    "data = np.random.random(10)\n",
    "print('data: \\n', data)\n",
    "np.set_printoptions(precision=2)\n",
    "print('data: \\n', data)"
   ]
  },
  {
   "cell_type": "markdown",
   "metadata": {},
   "source": [
    "### 忽略警告"
   ]
  },
  {
   "cell_type": "code",
   "execution_count": 9,
   "metadata": {
    "ExecuteTime": {
     "end_time": "2020-06-07T12:07:52.697613Z",
     "start_time": "2020-06-07T12:07:52.645137Z"
    }
   },
   "outputs": [
    {
     "data": {
      "text/plain": [
       "array([inf])"
      ]
     },
     "execution_count": 9,
     "metadata": {},
     "output_type": "execute_result"
    }
   ],
   "source": [
    "default = np.seterr(all='ignore')\n",
    "np.ones(1) / 0"
   ]
  }
 ],
 "metadata": {
  "kernelspec": {
   "display_name": "Python 3",
   "language": "python",
   "name": "python3"
  },
  "language_info": {
   "codemirror_mode": {
    "name": "ipython",
    "version": 3
   },
   "file_extension": ".py",
   "mimetype": "text/x-python",
   "name": "python",
   "nbconvert_exporter": "python",
   "pygments_lexer": "ipython3",
   "version": "3.7.1"
  },
  "toc": {
   "base_numbering": 1,
   "nav_menu": {},
   "number_sections": true,
   "sideBar": true,
   "skip_h1_title": false,
   "title_cell": "Table of Contents",
   "title_sidebar": "Contents",
   "toc_cell": false,
   "toc_position": {},
   "toc_section_display": true,
   "toc_window_display": true
  }
 },
 "nbformat": 4,
 "nbformat_minor": 2
}
