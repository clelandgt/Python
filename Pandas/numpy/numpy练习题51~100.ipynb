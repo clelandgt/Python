{
 "cells": [
  {
   "cell_type": "markdown",
   "metadata": {},
   "source": [
    "- 题目来源于：https://github.com/rougier/numpy-100/blob/master/100_Numpy_exercises_no_solution.ipynb\n",
    "- 参考：https://www.jianshu.com/p/385d47d03cfb"
   ]
  },
  {
   "cell_type": "code",
   "execution_count": 1,
   "metadata": {
    "ExecuteTime": {
     "end_time": "2020-06-09T13:29:12.486486Z",
     "start_time": "2020-06-09T13:29:11.916841Z"
    }
   },
   "outputs": [],
   "source": [
    "import numpy as np"
   ]
  },
  {
   "cell_type": "markdown",
   "metadata": {},
   "source": [
    "## 51. Create a structured array representing a position (x,y) and a color (r,g,b) (★★☆)"
   ]
  },
  {
   "cell_type": "code",
   "execution_count": 2,
   "metadata": {
    "ExecuteTime": {
     "end_time": "2020-06-09T13:29:12.660784Z",
     "start_time": "2020-06-09T13:29:12.520634Z"
    }
   },
   "outputs": [
    {
     "name": "stderr",
     "output_type": "stream",
     "text": [
      "/Users/cleland/.pyenv/versions/3.7.1/envs/base/lib/python3.7/site-packages/ipykernel_launcher.py:4: FutureWarning: Passing (type, 1) or '1type' as a synonym of type is deprecated; in a future version of numpy, it will be understood as (type, (1,)) / '(1,)type'.\n",
      "  after removing the cwd from sys.path.\n"
     ]
    },
    {
     "data": {
      "text/plain": [
       "array([((0., 0.), (0., 0., 0.)), ((0., 0.), (0., 0., 0.)),\n",
       "       ((0., 0.), (0., 0., 0.)), ((0., 0.), (0., 0., 0.)),\n",
       "       ((0., 0.), (0., 0., 0.)), ((0., 0.), (0., 0., 0.)),\n",
       "       ((0., 0.), (0., 0., 0.)), ((0., 0.), (0., 0., 0.)),\n",
       "       ((0., 0.), (0., 0., 0.)), ((0., 0.), (0., 0., 0.))],\n",
       "      dtype=[('position', [('x', '<f8'), ('y', '<f8')]), ('color', [('r', '<f8'), ('g', '<f8'), ('b', '<f8')])])"
      ]
     },
     "execution_count": 2,
     "metadata": {},
     "output_type": "execute_result"
    }
   ],
   "source": [
    "# TODO: 不太理解\n",
    "np.zeros(10, [\n",
    "    ('position', [('x', float, 1), ('y', float, 1)]),\n",
    "    ('color', [('r', float, 1), ('g', float, 1), ('b', float, 1)])\n",
    "])\n"
   ]
  },
  {
   "cell_type": "markdown",
   "metadata": {},
   "source": [
    "## 52.Consider a random vector with shape (100,2) representing coordinates, find point by point distances (★★☆)\n",
    "TODO: 未理解"
   ]
  },
  {
   "cell_type": "markdown",
   "metadata": {
    "ExecuteTime": {
     "end_time": "2020-06-09T00:04:08.997961Z",
     "start_time": "2020-06-09T00:04:08.990297Z"
    }
   },
   "source": [
    "## 53. How to convert a float (32 bits) array into an integer (32 bits) in place?"
   ]
  },
  {
   "cell_type": "code",
   "execution_count": 3,
   "metadata": {
    "ExecuteTime": {
     "end_time": "2020-06-09T13:29:12.728075Z",
     "start_time": "2020-06-09T13:29:12.696410Z"
    }
   },
   "outputs": [
    {
     "data": {
      "text/plain": [
       "array([[1.25, 1.25, 1.25, 1.25, 1.25],\n",
       "       [1.25, 1.25, 1.25, 1.25, 1.25]])"
      ]
     },
     "execution_count": 3,
     "metadata": {},
     "output_type": "execute_result"
    }
   ],
   "source": [
    "data = np.full((2,5), 1.25)\n",
    "data"
   ]
  },
  {
   "cell_type": "code",
   "execution_count": 4,
   "metadata": {
    "ExecuteTime": {
     "end_time": "2020-06-09T13:29:12.782870Z",
     "start_time": "2020-06-09T13:29:12.746183Z"
    }
   },
   "outputs": [
    {
     "data": {
      "text/plain": [
       "array([[1.25, 1.  , 1.25, 1.25, 1.25],\n",
       "       [1.25, 1.  , 1.25, 1.25, 1.25]])"
      ]
     },
     "execution_count": 4,
     "metadata": {},
     "output_type": "execute_result"
    }
   ],
   "source": [
    "# float32转化为int32\n",
    "data[:, 1] = data[:, 1].astype(np.int32, copy=False)\n",
    "data"
   ]
  },
  {
   "cell_type": "markdown",
   "metadata": {},
   "source": [
    "## 54. How to read the following file? (★★☆)\n",
    "\n",
    "```\n",
    "1, 2, 3, 4, 5\n",
    "6,  ,  , 7, 8\n",
    ",  , 9,10,11\n",
    "```"
   ]
  },
  {
   "cell_type": "code",
   "execution_count": 5,
   "metadata": {
    "ExecuteTime": {
     "end_time": "2020-06-09T13:29:12.834936Z",
     "start_time": "2020-06-09T13:29:12.809839Z"
    }
   },
   "outputs": [
    {
     "data": {
      "text/plain": [
       "array([[ 1,  2,  3,  4,  5],\n",
       "       [ 6, -1, -1,  7,  8],\n",
       "       [-1, -1,  9, 10, 11]])"
      ]
     },
     "execution_count": 5,
     "metadata": {},
     "output_type": "execute_result"
    }
   ],
   "source": [
    "from io import StringIO\n",
    "\n",
    "s = StringIO(\"\"\"\n",
    "1, 2, 3, 4, 5\n",
    "6,  ,  , 7, 8\n",
    ",  , 9,10,11\n",
    "\"\"\")\n",
    "\n",
    "np.genfromtxt(s, delimiter=\",\", dtype=np.int)"
   ]
  },
  {
   "cell_type": "markdown",
   "metadata": {
    "ExecuteTime": {
     "end_time": "2020-06-09T00:14:55.200254Z",
     "start_time": "2020-06-09T00:14:55.172249Z"
    }
   },
   "source": [
    "## 55. What is the equivalent of enumerate for numpy arrays? (★★☆)\n",
    "TODO: 未理解题意"
   ]
  },
  {
   "cell_type": "markdown",
   "metadata": {},
   "source": [
    "## 56. Generate a generic 2D Gaussian-like array (★★☆)\n",
    "TODO: 未掌握"
   ]
  },
  {
   "cell_type": "markdown",
   "metadata": {},
   "source": [
    "## 57. How to randomly place p elements in a 2D array? (★★☆)"
   ]
  },
  {
   "cell_type": "code",
   "execution_count": 6,
   "metadata": {
    "ExecuteTime": {
     "end_time": "2020-06-09T13:29:12.878807Z",
     "start_time": "2020-06-09T13:29:12.861057Z"
    }
   },
   "outputs": [
    {
     "name": "stdout",
     "output_type": "stream",
     "text": [
      "[[0 0 0 0 0 0 0 0 0 0]\n",
      " [0 0 0 0 0 0 0 0 0 0]\n",
      " [0 0 0 0 0 0 0 0 0 0]\n",
      " [0 0 0 0 0 0 0 0 0 0]\n",
      " [0 0 1 0 0 1 0 0 0 0]\n",
      " [0 0 0 0 0 0 0 0 0 1]\n",
      " [0 0 0 0 0 0 0 0 0 1]\n",
      " [0 0 0 0 0 0 0 0 0 0]\n",
      " [0 0 0 0 0 1 0 0 0 0]\n",
      " [0 0 0 0 0 0 0 0 0 0]]\n"
     ]
    }
   ],
   "source": [
    "data = np.zeros((10,10), dtype=np.int)\n",
    "np.put(data, np.random.choice(range(10*10), 5, replace=False), 1)         \n",
    "print(data)"
   ]
  },
  {
   "cell_type": "markdown",
   "metadata": {},
   "source": [
    "## 58. Subtract the mean of each row of a matrix (★★☆)"
   ]
  },
  {
   "cell_type": "code",
   "execution_count": 7,
   "metadata": {
    "ExecuteTime": {
     "end_time": "2020-06-09T13:29:12.906956Z",
     "start_time": "2020-06-09T13:29:12.888358Z"
    }
   },
   "outputs": [
    {
     "data": {
      "text/plain": [
       "array([[0.46655877],\n",
       "       [0.45675351],\n",
       "       [0.46544548],\n",
       "       [0.65327899],\n",
       "       [0.48234642]])"
      ]
     },
     "execution_count": 7,
     "metadata": {},
     "output_type": "execute_result"
    }
   ],
   "source": [
    "data = np.random.rand(5, 10)\n",
    "data.mean(axis=1, keepdims=True)"
   ]
  },
  {
   "cell_type": "code",
   "execution_count": 8,
   "metadata": {
    "ExecuteTime": {
     "end_time": "2020-06-09T13:29:13.091614Z",
     "start_time": "2020-06-09T13:29:13.068091Z"
    }
   },
   "outputs": [
    {
     "data": {
      "text/plain": [
       "0.515328249"
      ]
     },
     "execution_count": 8,
     "metadata": {},
     "output_type": "execute_result"
    }
   ],
   "source": [
    "np.array([0.46504886, 0.00649566, 0.92594331, 0.74587118, 0.36715231,\n",
    "        0.65933688, 0.87891355, 0.04615191, 0.21711916, 0.84124967]).mean()"
   ]
  },
  {
   "cell_type": "markdown",
   "metadata": {},
   "source": [
    "## 59. How to sort an array by the nth column? (★★☆)"
   ]
  },
  {
   "cell_type": "code",
   "execution_count": 13,
   "metadata": {
    "ExecuteTime": {
     "end_time": "2020-06-09T13:42:43.904005Z",
     "start_time": "2020-06-09T13:42:43.890126Z"
    }
   },
   "outputs": [
    {
     "data": {
      "text/plain": [
       "array([[14, 33,  0, 33, 38],\n",
       "       [21,  1,  6, 40, 48],\n",
       "       [ 7, 23, 30, 41, 19],\n",
       "       [ 5, 44, 40, 25, 25],\n",
       "       [25, 37,  9, 42, 13]])"
      ]
     },
     "execution_count": 13,
     "metadata": {},
     "output_type": "execute_result"
    }
   ],
   "source": [
    "data = np.random.randint(0, 50, (5,5))\n",
    "data"
   ]
  },
  {
   "cell_type": "code",
   "execution_count": 16,
   "metadata": {
    "ExecuteTime": {
     "end_time": "2020-06-09T13:43:28.259811Z",
     "start_time": "2020-06-09T13:43:28.212140Z"
    }
   },
   "outputs": [
    {
     "data": {
      "text/plain": [
       "array([[14, 33,  0, 33, 38],\n",
       "       [21,  1,  6, 40, 48],\n",
       "       [25, 37,  9, 42, 13],\n",
       "       [ 7, 23, 30, 41, 19],\n",
       "       [ 5, 44, 40, 25, 25]])"
      ]
     },
     "execution_count": 16,
     "metadata": {},
     "output_type": "execute_result"
    }
   ],
   "source": [
    "# 按照第3列排序\n",
    "data[data[:, 2].argsort()]"
   ]
  },
  {
   "cell_type": "markdown",
   "metadata": {},
   "source": [
    "## 60. How to tell if a given 2D array has null columns? (★★☆)"
   ]
  },
  {
   "cell_type": "code",
   "execution_count": 38,
   "metadata": {
    "ExecuteTime": {
     "end_time": "2020-06-09T13:57:35.998527Z",
     "start_time": "2020-06-09T13:57:35.983973Z"
    }
   },
   "outputs": [
    {
     "data": {
      "text/plain": [
       "array([[ 1,  2,  5],\n",
       "       [ 9, 11, 20]])"
      ]
     },
     "execution_count": 38,
     "metadata": {},
     "output_type": "execute_result"
    }
   ],
   "source": [
    "data = np.array([1,2,np.nan,9,11,np.nan]).reshape(2,3)\n",
    "data"
   ]
  },
  {
   "cell_type": "code",
   "execution_count": 39,
   "metadata": {
    "ExecuteTime": {
     "end_time": "2020-06-09T13:57:37.510696Z",
     "start_time": "2020-06-09T13:57:37.502756Z"
    }
   },
   "outputs": [
    {
     "name": "stdout",
     "output_type": "stream",
     "text": [
      "False\n"
     ]
    }
   ],
   "source": [
    "# data\n",
    "print((~data.any(axis=0)).any())"
   ]
  },
  {
   "cell_type": "markdown",
   "metadata": {},
   "source": [
    "## 61. Find the nearest value from a given value in an array (★★☆)"
   ]
  },
  {
   "cell_type": "code",
   "execution_count": 45,
   "metadata": {
    "ExecuteTime": {
     "end_time": "2020-06-09T14:03:11.916900Z",
     "start_time": "2020-06-09T14:03:11.906792Z"
    }
   },
   "outputs": [
    {
     "data": {
      "text/plain": [
       "array([0.08129102, 0.14633019, 0.21601972, 0.5488707 , 0.61478341,\n",
       "       0.69209046, 0.69447986, 0.78571119, 0.80137654, 0.90003909])"
      ]
     },
     "execution_count": 45,
     "metadata": {},
     "output_type": "execute_result"
    }
   ],
   "source": [
    "data = np.random.uniform(0,1,10)\n",
    "data.sort()\n",
    "data"
   ]
  },
  {
   "cell_type": "code",
   "execution_count": 42,
   "metadata": {
    "ExecuteTime": {
     "end_time": "2020-06-09T14:02:57.548334Z",
     "start_time": "2020-06-09T14:02:57.533175Z"
    }
   },
   "outputs": [
    {
     "data": {
      "text/plain": [
       "0.584516782591417"
      ]
     },
     "execution_count": 42,
     "metadata": {},
     "output_type": "execute_result"
    }
   ],
   "source": [
    "find_value = 0.5 \n",
    "data[np.abs(data-find_value).argmin()]"
   ]
  },
  {
   "cell_type": "markdown",
   "metadata": {},
   "source": [
    "## 62. Considering two arrays with shape (1,3) and (3,1), how to compute their sum using an iterator? (★★☆)\n",
    "TODO: 进一步了解"
   ]
  },
  {
   "cell_type": "code",
   "execution_count": 47,
   "metadata": {
    "ExecuteTime": {
     "end_time": "2020-06-09T14:05:51.687058Z",
     "start_time": "2020-06-09T14:05:51.678129Z"
    }
   },
   "outputs": [
    {
     "name": "stdout",
     "output_type": "stream",
     "text": [
      "A:\n",
      " [[0]\n",
      " [1]\n",
      " [2]]\n",
      "B:\n",
      " [[0 1 2]]\n"
     ]
    }
   ],
   "source": [
    "A = np.arange(3).reshape(3,1)\n",
    "B = np.arange(3).reshape(1,3)\n",
    "print(f'A:\\n {A}')\n",
    "print(f'B:\\n {B}')"
   ]
  },
  {
   "cell_type": "code",
   "execution_count": 48,
   "metadata": {
    "ExecuteTime": {
     "end_time": "2020-06-09T14:09:00.038161Z",
     "start_time": "2020-06-09T14:09:00.018467Z"
    }
   },
   "outputs": [
    {
     "name": "stdout",
     "output_type": "stream",
     "text": [
      "[[0 1 2]\n",
      " [1 2 3]\n",
      " [2 3 4]]\n"
     ]
    }
   ],
   "source": [
    "it = np.nditer([A,B,None])\n",
    "for x,y,z in it: z[...] = x + y\n",
    "print(it.operands[2])"
   ]
  },
  {
   "cell_type": "markdown",
   "metadata": {},
   "source": [
    "## 63. Create an array class that has a name attribute (★★☆)\n",
    "\n",
    "TODO: 需进一步了解"
   ]
  },
  {
   "cell_type": "code",
   "execution_count": 57,
   "metadata": {
    "ExecuteTime": {
     "end_time": "2020-06-09T14:14:12.744619Z",
     "start_time": "2020-06-09T14:14:12.709153Z"
    }
   },
   "outputs": [
    {
     "name": "stdout",
     "output_type": "stream",
     "text": [
      "range_10\n"
     ]
    }
   ],
   "source": [
    "class NamedArray(np.ndarray):\n",
    "    def __new__(cls, array, name=\"no name\"):\n",
    "        obj = np.asarray(array).view(cls)\n",
    "        obj.name = name\n",
    "        return obj\n",
    "    def __array_finalize__(self, obj):\n",
    "        if obj is None: return\n",
    "        self.info = getattr(obj, 'name', \"no name\")\n"
   ]
  },
  {
   "cell_type": "code",
   "execution_count": 58,
   "metadata": {
    "ExecuteTime": {
     "end_time": "2020-06-09T14:14:17.731035Z",
     "start_time": "2020-06-09T14:14:17.722425Z"
    }
   },
   "outputs": [
    {
     "name": "stdout",
     "output_type": "stream",
     "text": [
      "range_10\n"
     ]
    }
   ],
   "source": [
    "Z = NamedArray(np.arange(10), \"range_10\")\n",
    "print (Z.name)"
   ]
  }
 ],
 "metadata": {
  "kernelspec": {
   "display_name": "Python 3",
   "language": "python",
   "name": "python3"
  },
  "language_info": {
   "codemirror_mode": {
    "name": "ipython",
    "version": 3
   },
   "file_extension": ".py",
   "mimetype": "text/x-python",
   "name": "python",
   "nbconvert_exporter": "python",
   "pygments_lexer": "ipython3",
   "version": "3.7.1"
  },
  "toc": {
   "base_numbering": 1,
   "nav_menu": {},
   "number_sections": true,
   "sideBar": true,
   "skip_h1_title": false,
   "title_cell": "Table of Contents",
   "title_sidebar": "Contents",
   "toc_cell": false,
   "toc_position": {},
   "toc_section_display": true,
   "toc_window_display": true
  }
 },
 "nbformat": 4,
 "nbformat_minor": 2
}
