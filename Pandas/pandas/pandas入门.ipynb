{
 "cells": [
  {
   "cell_type": "code",
   "execution_count": 1,
   "metadata": {},
   "outputs": [],
   "source": [
    "import pandas as pd"
   ]
  },
  {
   "cell_type": "markdown",
   "metadata": {},
   "source": [
    "## Series"
   ]
  },
  {
   "cell_type": "code",
   "execution_count": 6,
   "metadata": {},
   "outputs": [
    {
     "name": "stdout",
     "output_type": "stream",
     "text": [
      "obj:  0    4\n",
      "1    7\n",
      "2   -5\n",
      "3    3\n",
      "dtype: int64\n",
      "index:  RangeIndex(start=0, stop=4, step=1)\n",
      "index:  [ 4  7 -5  3]\n"
     ]
    }
   ],
   "source": [
    "obj = pd.Series([4,7,-5,3])\n",
    "print(\"obj: \", obj)\n",
    "print(\"index: \", obj.index)\n",
    "print(\"index: \", obj.values)"
   ]
  },
  {
   "cell_type": "code",
   "execution_count": 23,
   "metadata": {},
   "outputs": [
    {
     "name": "stdout",
     "output_type": "stream",
     "text": [
      "\n",
      " obj2:  d    4\n",
      "b    7\n",
      "a   -5\n",
      "c    3\n",
      "dtype: int64\n",
      "\n",
      " obj2:  d     4\n",
      "b     7\n",
      "a    -5\n",
      "cc    3\n",
      "dtype: int64\n",
      "\n",
      " obj2['a']:  -5\n",
      "\n",
      " obj2['a']=100:  100\n",
      "obj2:  d       4\n",
      "b       7\n",
      "a     100\n",
      "cc      3\n",
      "dtype: int64\n"
     ]
    }
   ],
   "source": [
    "# 自定义索引\n",
    "obj2 = pd.Series([4,7,-5,3], index=['d', 'b', 'a', 'c'])\n",
    "print(\"\\n obj2: \", obj2)\n",
    "\n",
    "# 修改索引\n",
    "obj2.index=['d', 'b', 'a', 'cc']\n",
    "print(\"\\n obj2: \", obj2)\n",
    "\n",
    "# 可通过索引定位数据\n",
    "print(\"\\n obj2['a']: \", obj2['a'])\n",
    "\n",
    "# 索引的数据是视图\n",
    "obj2['a']=100\n",
    "print(\"\\n obj2['a']=100: \", obj2['a'])\n",
    "print(\"obj2: \", obj2)\n"
   ]
  },
  {
   "cell_type": "code",
   "execution_count": 19,
   "metadata": {},
   "outputs": [
    {
     "name": "stdout",
     "output_type": "stream",
     "text": [
      "\n",
      " obj3:  Ohio      35000\n",
      "Texas     71000\n",
      "Oregon    16000\n",
      "Utah       5000\n",
      "dtype: int64\n",
      "\n",
      " obj3:  Ohio      35000.0\n",
      "Texas     71000.0\n",
      "Oregon    16000.0\n",
      "key1          NaN\n",
      "Utah       5000.0\n",
      "dtype: float64\n"
     ]
    }
   ],
   "source": [
    "# 一层字典初始化Series\n",
    "sdata = {'Ohio': 35000, 'Texas': 71000, 'Oregon': 16000, 'Utah': 5000}\n",
    "obj3 = pd.Series(sdata)\n",
    "print('\\n obj3: ', obj3)\n",
    "\n",
    "# 也可指定index, 数据无相应值为NaN\n",
    "obj3 = pd.Series(sdata, index=['Ohio', 'Texas', 'Oregon', 'key1', 'Utah'])\n",
    "print('\\n obj3: ', obj3)\n"
   ]
  },
  {
   "cell_type": "markdown",
   "metadata": {},
   "source": [
    "## DataFrame"
   ]
  },
  {
   "cell_type": "markdown",
   "metadata": {},
   "source": [
    "### 创建DataFrame"
   ]
  },
  {
   "cell_type": "markdown",
   "metadata": {},
   "source": [
    "### 索引对象"
   ]
  }
 ],
 "metadata": {
  "kernelspec": {
   "display_name": "Python 3",
   "language": "python",
   "name": "python3"
  },
  "language_info": {
   "codemirror_mode": {
    "name": "ipython",
    "version": 3
   },
   "file_extension": ".py",
   "mimetype": "text/x-python",
   "name": "python",
   "nbconvert_exporter": "python",
   "pygments_lexer": "ipython3",
   "version": "3.7.3"
  }
 },
 "nbformat": 4,
 "nbformat_minor": 2
}
